{
 "cells": [
  {
   "cell_type": "markdown",
   "source": [
    "# Projeto Final do Curso de NLP do I2A2"
   ],
   "metadata": {}
  },
  {
   "cell_type": "markdown",
   "source": [
    "## Name Entity Recognition - NER"
   ],
   "metadata": {}
  },
  {
   "cell_type": "code",
   "execution_count": 26,
   "source": [
    "#libraries basics\r\n",
    "import pandas as pd\r\n",
    "import numpy as np\r\n",
    "import random\r\n",
    "from tqdm import tqdm\r\n",
    "import json\r\n",
    "\r\n",
    "import spacy \r\n",
    "from spacy.util import minibatch, compounding\r\n",
    "from spacy import displacy\r\n",
    "nlp_spacy = spacy.load('pt_core_news_md')"
   ],
   "outputs": [],
   "metadata": {}
  },
  {
   "cell_type": "code",
   "execution_count": 27,
   "source": [
    "nlp_spacy.pipe_names\r\n",
    "ner=nlp_spacy.get_pipe(\"ner\")\r\n"
   ],
   "outputs": [],
   "metadata": {}
  },
  {
   "cell_type": "code",
   "execution_count": 28,
   "source": [
    "PATH = '../data'\r\n",
    "train = pd.read_json(PATH+'/train.json', lines=True)\r\n",
    "valid = pd.read_json(PATH+'/dev.json', lines=True)"
   ],
   "outputs": [],
   "metadata": {}
  },
  {
   "cell_type": "markdown",
   "source": [
    "## Base Exploration"
   ],
   "metadata": {}
  },
  {
   "cell_type": "code",
   "execution_count": 29,
   "source": [
    "train.head()"
   ],
   "outputs": [
    {
     "output_type": "execute_result",
     "data": {
      "text/plain": [
       "     id                                               text meta  \\\n",
       "0  1346  Regulamento REGULAMENTO DO ANTARES FUNDO DE IN...   {}   \n",
       "1  1347  São Paulo, 12 de novembro de 2001 REGULAMENTO ...   {}   \n",
       "2  1348  DO FUNDO REGULAMENTO DO FUNDO DE INVESTIMENTO ...   {}   \n",
       "3  1349  MINUTA DO REGULAMENTO MASTER marcado BANRISUL ...   {}   \n",
       "4  1350  1 Ouvidoria JPMorgan: Tel.: 0800 – 7700847 / E...   {}   \n",
       "\n",
       "   annotation_approver                                             labels  \n",
       "0                  NaN  [[5117, 5121, percentual_credito], [27, 69, no...  \n",
       "1                  NaN  [[3782, 3786, alavancado], [49, 136, nome], [1...  \n",
       "2                  NaN  [[19672, 19677, perfil_tx_adm], [19798, 19810,...  \n",
       "3                  NaN  [[126, 202, nome], [37, 113, nome], [6834, 684...  \n",
       "4                  NaN  [[23384, 23395, tributação], [33163, 33171, pe...  "
      ],
      "text/html": [
       "<div>\n",
       "<style scoped>\n",
       "    .dataframe tbody tr th:only-of-type {\n",
       "        vertical-align: middle;\n",
       "    }\n",
       "\n",
       "    .dataframe tbody tr th {\n",
       "        vertical-align: top;\n",
       "    }\n",
       "\n",
       "    .dataframe thead th {\n",
       "        text-align: right;\n",
       "    }\n",
       "</style>\n",
       "<table border=\"1\" class=\"dataframe\">\n",
       "  <thead>\n",
       "    <tr style=\"text-align: right;\">\n",
       "      <th></th>\n",
       "      <th>id</th>\n",
       "      <th>text</th>\n",
       "      <th>meta</th>\n",
       "      <th>annotation_approver</th>\n",
       "      <th>labels</th>\n",
       "    </tr>\n",
       "  </thead>\n",
       "  <tbody>\n",
       "    <tr>\n",
       "      <th>0</th>\n",
       "      <td>1346</td>\n",
       "      <td>Regulamento REGULAMENTO DO ANTARES FUNDO DE IN...</td>\n",
       "      <td>{}</td>\n",
       "      <td>NaN</td>\n",
       "      <td>[[5117, 5121, percentual_credito], [27, 69, no...</td>\n",
       "    </tr>\n",
       "    <tr>\n",
       "      <th>1</th>\n",
       "      <td>1347</td>\n",
       "      <td>São Paulo, 12 de novembro de 2001 REGULAMENTO ...</td>\n",
       "      <td>{}</td>\n",
       "      <td>NaN</td>\n",
       "      <td>[[3782, 3786, alavancado], [49, 136, nome], [1...</td>\n",
       "    </tr>\n",
       "    <tr>\n",
       "      <th>2</th>\n",
       "      <td>1348</td>\n",
       "      <td>DO FUNDO REGULAMENTO DO FUNDO DE INVESTIMENTO ...</td>\n",
       "      <td>{}</td>\n",
       "      <td>NaN</td>\n",
       "      <td>[[19672, 19677, perfil_tx_adm], [19798, 19810,...</td>\n",
       "    </tr>\n",
       "    <tr>\n",
       "      <th>3</th>\n",
       "      <td>1349</td>\n",
       "      <td>MINUTA DO REGULAMENTO MASTER marcado BANRISUL ...</td>\n",
       "      <td>{}</td>\n",
       "      <td>NaN</td>\n",
       "      <td>[[126, 202, nome], [37, 113, nome], [6834, 684...</td>\n",
       "    </tr>\n",
       "    <tr>\n",
       "      <th>4</th>\n",
       "      <td>1350</td>\n",
       "      <td>1 Ouvidoria JPMorgan: Tel.: 0800 – 7700847 / E...</td>\n",
       "      <td>{}</td>\n",
       "      <td>NaN</td>\n",
       "      <td>[[23384, 23395, tributação], [33163, 33171, pe...</td>\n",
       "    </tr>\n",
       "  </tbody>\n",
       "</table>\n",
       "</div>"
      ]
     },
     "metadata": {},
     "execution_count": 29
    }
   ],
   "metadata": {}
  },
  {
   "cell_type": "code",
   "execution_count": 30,
   "source": [
    "train.tail()"
   ],
   "outputs": [
    {
     "output_type": "execute_result",
     "data": {
      "text/plain": [
       "       id                                               text meta  \\\n",
       "146  1534  REGULAMENTO DO TREND SHORT DOLAR FUNDO DE INVE...   {}   \n",
       "147  1535  REGULAMENTO DO THOA-THOA FUNDO DE INVESTIMENTO...   {}   \n",
       "148  1536  REGULAMENTO DO TG BLUE MASTER FUNDO DE INVESTI...   {}   \n",
       "149  1537  REGULAMENTO DO CLARITAS QUANT MASTER FUNDO DE ...   {}   \n",
       "150  1443  Minuta Regulamento_BB ATACADO FEDERAL FI RENDA...   {}   \n",
       "\n",
       "     annotation_approver                                             labels  \n",
       "146                  NaN  [[5042, 5045, percentual_credito], [5924, 5930...  \n",
       "147                  NaN  [[18125, 18130, perfil_tx_adm], [5243, 5254, p...  \n",
       "148                  NaN  [[5324, 5327, percentual_credito], [6207, 6213...  \n",
       "149                  NaN  [[5073, 5076, percentual_credito], [5996, 6003...  \n",
       "150                  NaN  [[484, 497, duração], [157, 175, cnpj_fundo], ...  "
      ],
      "text/html": [
       "<div>\n",
       "<style scoped>\n",
       "    .dataframe tbody tr th:only-of-type {\n",
       "        vertical-align: middle;\n",
       "    }\n",
       "\n",
       "    .dataframe tbody tr th {\n",
       "        vertical-align: top;\n",
       "    }\n",
       "\n",
       "    .dataframe thead th {\n",
       "        text-align: right;\n",
       "    }\n",
       "</style>\n",
       "<table border=\"1\" class=\"dataframe\">\n",
       "  <thead>\n",
       "    <tr style=\"text-align: right;\">\n",
       "      <th></th>\n",
       "      <th>id</th>\n",
       "      <th>text</th>\n",
       "      <th>meta</th>\n",
       "      <th>annotation_approver</th>\n",
       "      <th>labels</th>\n",
       "    </tr>\n",
       "  </thead>\n",
       "  <tbody>\n",
       "    <tr>\n",
       "      <th>146</th>\n",
       "      <td>1534</td>\n",
       "      <td>REGULAMENTO DO TREND SHORT DOLAR FUNDO DE INVE...</td>\n",
       "      <td>{}</td>\n",
       "      <td>NaN</td>\n",
       "      <td>[[5042, 5045, percentual_credito], [5924, 5930...</td>\n",
       "    </tr>\n",
       "    <tr>\n",
       "      <th>147</th>\n",
       "      <td>1535</td>\n",
       "      <td>REGULAMENTO DO THOA-THOA FUNDO DE INVESTIMENTO...</td>\n",
       "      <td>{}</td>\n",
       "      <td>NaN</td>\n",
       "      <td>[[18125, 18130, perfil_tx_adm], [5243, 5254, p...</td>\n",
       "    </tr>\n",
       "    <tr>\n",
       "      <th>148</th>\n",
       "      <td>1536</td>\n",
       "      <td>REGULAMENTO DO TG BLUE MASTER FUNDO DE INVESTI...</td>\n",
       "      <td>{}</td>\n",
       "      <td>NaN</td>\n",
       "      <td>[[5324, 5327, percentual_credito], [6207, 6213...</td>\n",
       "    </tr>\n",
       "    <tr>\n",
       "      <th>149</th>\n",
       "      <td>1537</td>\n",
       "      <td>REGULAMENTO DO CLARITAS QUANT MASTER FUNDO DE ...</td>\n",
       "      <td>{}</td>\n",
       "      <td>NaN</td>\n",
       "      <td>[[5073, 5076, percentual_credito], [5996, 6003...</td>\n",
       "    </tr>\n",
       "    <tr>\n",
       "      <th>150</th>\n",
       "      <td>1443</td>\n",
       "      <td>Minuta Regulamento_BB ATACADO FEDERAL FI RENDA...</td>\n",
       "      <td>{}</td>\n",
       "      <td>NaN</td>\n",
       "      <td>[[484, 497, duração], [157, 175, cnpj_fundo], ...</td>\n",
       "    </tr>\n",
       "  </tbody>\n",
       "</table>\n",
       "</div>"
      ]
     },
     "metadata": {},
     "execution_count": 30
    }
   ],
   "metadata": {}
  },
  {
   "cell_type": "code",
   "execution_count": 31,
   "source": [
    "valid.head()"
   ],
   "outputs": [
    {
     "output_type": "execute_result",
     "data": {
      "text/plain": [
       "     id                                               text meta  \\\n",
       "0  1457  REGULAMENTO FUNDOS APLIC AUT 1 REGULAMENTO DO ...   {}   \n",
       "1  1458  2016-06-16 (1) MICROFILMADO I 000 ;~-;; 990 I ...   {}   \n",
       "2  1459  Regulamento REGULAMENTO DO PACIFICO AZUL FUNDO...   {}   \n",
       "3  1460  CAPÍTULO I – DO FUNDO REGULAMENTO DO TALER DES...   {}   \n",
       "4  1461  282 - Regul  BB Previdenciário RF TP IPCA I - ...   {}   \n",
       "\n",
       "   annotation_approver                                             labels  \n",
       "0                  NaN  [[20046, 20057, tributação], [36875, 36885, al...  \n",
       "1                  NaN  [[9312, 9323, alavancado], [9905, 9916, percen...  \n",
       "2                  NaN  [[5851, 5854, percentual_credito], [6744, 6750...  \n",
       "3                  NaN  [[2365, 2376, tributação], [544, 557, duração]...  \n",
       "4                  NaN  [[495, 508, duração], [172, 190, cnpj_fundo], ...  "
      ],
      "text/html": [
       "<div>\n",
       "<style scoped>\n",
       "    .dataframe tbody tr th:only-of-type {\n",
       "        vertical-align: middle;\n",
       "    }\n",
       "\n",
       "    .dataframe tbody tr th {\n",
       "        vertical-align: top;\n",
       "    }\n",
       "\n",
       "    .dataframe thead th {\n",
       "        text-align: right;\n",
       "    }\n",
       "</style>\n",
       "<table border=\"1\" class=\"dataframe\">\n",
       "  <thead>\n",
       "    <tr style=\"text-align: right;\">\n",
       "      <th></th>\n",
       "      <th>id</th>\n",
       "      <th>text</th>\n",
       "      <th>meta</th>\n",
       "      <th>annotation_approver</th>\n",
       "      <th>labels</th>\n",
       "    </tr>\n",
       "  </thead>\n",
       "  <tbody>\n",
       "    <tr>\n",
       "      <th>0</th>\n",
       "      <td>1457</td>\n",
       "      <td>REGULAMENTO FUNDOS APLIC AUT 1 REGULAMENTO DO ...</td>\n",
       "      <td>{}</td>\n",
       "      <td>NaN</td>\n",
       "      <td>[[20046, 20057, tributação], [36875, 36885, al...</td>\n",
       "    </tr>\n",
       "    <tr>\n",
       "      <th>1</th>\n",
       "      <td>1458</td>\n",
       "      <td>2016-06-16 (1) MICROFILMADO I 000 ;~-;; 990 I ...</td>\n",
       "      <td>{}</td>\n",
       "      <td>NaN</td>\n",
       "      <td>[[9312, 9323, alavancado], [9905, 9916, percen...</td>\n",
       "    </tr>\n",
       "    <tr>\n",
       "      <th>2</th>\n",
       "      <td>1459</td>\n",
       "      <td>Regulamento REGULAMENTO DO PACIFICO AZUL FUNDO...</td>\n",
       "      <td>{}</td>\n",
       "      <td>NaN</td>\n",
       "      <td>[[5851, 5854, percentual_credito], [6744, 6750...</td>\n",
       "    </tr>\n",
       "    <tr>\n",
       "      <th>3</th>\n",
       "      <td>1460</td>\n",
       "      <td>CAPÍTULO I – DO FUNDO REGULAMENTO DO TALER DES...</td>\n",
       "      <td>{}</td>\n",
       "      <td>NaN</td>\n",
       "      <td>[[2365, 2376, tributação], [544, 557, duração]...</td>\n",
       "    </tr>\n",
       "    <tr>\n",
       "      <th>4</th>\n",
       "      <td>1461</td>\n",
       "      <td>282 - Regul  BB Previdenciário RF TP IPCA I - ...</td>\n",
       "      <td>{}</td>\n",
       "      <td>NaN</td>\n",
       "      <td>[[495, 508, duração], [172, 190, cnpj_fundo], ...</td>\n",
       "    </tr>\n",
       "  </tbody>\n",
       "</table>\n",
       "</div>"
      ]
     },
     "metadata": {},
     "execution_count": 31
    }
   ],
   "metadata": {}
  },
  {
   "cell_type": "code",
   "execution_count": 32,
   "source": [
    "valid.tail()"
   ],
   "outputs": [
    {
     "output_type": "execute_result",
     "data": {
      "text/plain": [
       "      id                                               text meta  \\\n",
       "15  1472  Regulamento REGULAMENTO DO ALOCAÇÃO FUNDO DE I...   {}   \n",
       "16  1473  1 O presente Regulamento é parte integrante da...   {}   \n",
       "17  1474  Regulamento 2181962v1  - Página 1 de 19- CARTE...   {}   \n",
       "18  1476  REGULAMENTO WESTERN ASSET ADVANTAGE IPCA FUNDO...   {}   \n",
       "19  1477  Ethan Frome 1 de 13 Contatos do Administrador ...   {}   \n",
       "\n",
       "    annotation_approver                                             labels  \n",
       "15                  NaN  [[4527, 4531, percentual_credito], [5483, 5490...  \n",
       "16                  NaN  [[10443, 10454, tributação], [13450, 13491, Ge...  \n",
       "17                  NaN  [[20273, 20279, alavancado], [6617, 6620, perc...  \n",
       "18                  NaN  [[7351, 7357, alavancado], [393, 406, duração]...  \n",
       "19                  NaN  [[46509, 46520, tributação], [438, 451, duraçã...  "
      ],
      "text/html": [
       "<div>\n",
       "<style scoped>\n",
       "    .dataframe tbody tr th:only-of-type {\n",
       "        vertical-align: middle;\n",
       "    }\n",
       "\n",
       "    .dataframe tbody tr th {\n",
       "        vertical-align: top;\n",
       "    }\n",
       "\n",
       "    .dataframe thead th {\n",
       "        text-align: right;\n",
       "    }\n",
       "</style>\n",
       "<table border=\"1\" class=\"dataframe\">\n",
       "  <thead>\n",
       "    <tr style=\"text-align: right;\">\n",
       "      <th></th>\n",
       "      <th>id</th>\n",
       "      <th>text</th>\n",
       "      <th>meta</th>\n",
       "      <th>annotation_approver</th>\n",
       "      <th>labels</th>\n",
       "    </tr>\n",
       "  </thead>\n",
       "  <tbody>\n",
       "    <tr>\n",
       "      <th>15</th>\n",
       "      <td>1472</td>\n",
       "      <td>Regulamento REGULAMENTO DO ALOCAÇÃO FUNDO DE I...</td>\n",
       "      <td>{}</td>\n",
       "      <td>NaN</td>\n",
       "      <td>[[4527, 4531, percentual_credito], [5483, 5490...</td>\n",
       "    </tr>\n",
       "    <tr>\n",
       "      <th>16</th>\n",
       "      <td>1473</td>\n",
       "      <td>1 O presente Regulamento é parte integrante da...</td>\n",
       "      <td>{}</td>\n",
       "      <td>NaN</td>\n",
       "      <td>[[10443, 10454, tributação], [13450, 13491, Ge...</td>\n",
       "    </tr>\n",
       "    <tr>\n",
       "      <th>17</th>\n",
       "      <td>1474</td>\n",
       "      <td>Regulamento 2181962v1  - Página 1 de 19- CARTE...</td>\n",
       "      <td>{}</td>\n",
       "      <td>NaN</td>\n",
       "      <td>[[20273, 20279, alavancado], [6617, 6620, perc...</td>\n",
       "    </tr>\n",
       "    <tr>\n",
       "      <th>18</th>\n",
       "      <td>1476</td>\n",
       "      <td>REGULAMENTO WESTERN ASSET ADVANTAGE IPCA FUNDO...</td>\n",
       "      <td>{}</td>\n",
       "      <td>NaN</td>\n",
       "      <td>[[7351, 7357, alavancado], [393, 406, duração]...</td>\n",
       "    </tr>\n",
       "    <tr>\n",
       "      <th>19</th>\n",
       "      <td>1477</td>\n",
       "      <td>Ethan Frome 1 de 13 Contatos do Administrador ...</td>\n",
       "      <td>{}</td>\n",
       "      <td>NaN</td>\n",
       "      <td>[[46509, 46520, tributação], [438, 451, duraçã...</td>\n",
       "    </tr>\n",
       "  </tbody>\n",
       "</table>\n",
       "</div>"
      ]
     },
     "metadata": {},
     "execution_count": 32
    }
   ],
   "metadata": {}
  },
  {
   "cell_type": "code",
   "execution_count": 33,
   "source": [
    "train.shape"
   ],
   "outputs": [
    {
     "output_type": "execute_result",
     "data": {
      "text/plain": [
       "(151, 5)"
      ]
     },
     "metadata": {},
     "execution_count": 33
    }
   ],
   "metadata": {}
  },
  {
   "cell_type": "code",
   "execution_count": 34,
   "source": [
    "valid.shape"
   ],
   "outputs": [
    {
     "output_type": "execute_result",
     "data": {
      "text/plain": [
       "(20, 5)"
      ]
     },
     "metadata": {},
     "execution_count": 34
    }
   ],
   "metadata": {}
  },
  {
   "cell_type": "code",
   "execution_count": 35,
   "source": [
    "train.isnull().sum()"
   ],
   "outputs": [
    {
     "output_type": "execute_result",
     "data": {
      "text/plain": [
       "id                       0\n",
       "text                     0\n",
       "meta                     0\n",
       "annotation_approver    151\n",
       "labels                   0\n",
       "dtype: int64"
      ]
     },
     "metadata": {},
     "execution_count": 35
    }
   ],
   "metadata": {}
  },
  {
   "cell_type": "markdown",
   "source": [
    "## Spacy - NER "
   ],
   "metadata": {}
  },
  {
   "cell_type": "code",
   "execution_count": 36,
   "source": [
    "#vamos converter os arquivos para o formato que o spacy aceita \r\n",
    "def convert_format_spacy():\r\n",
    "    TRAIN_DATA =[]\r\n",
    "    text = []\r\n",
    "    with open ('../data/train.json', 'r',  encoding='utf8') as f:\r\n",
    "        data = f.readlines()\r\n",
    "    for word_in_sentence in data:\r\n",
    "        word_in_sentence = json.loads(word_in_sentence)\r\n",
    "        text.append(word_in_sentence)\r\n",
    "    for i in text:\r\n",
    "        if['id'] not in (1436,1520):\r\n",
    "            entity = (i['text'], {'entities': i['labels']})\r\n",
    "            TRAIN_DATA.append(entity)\r\n",
    "    return TRAIN_DATA"
   ],
   "outputs": [],
   "metadata": {}
  },
  {
   "cell_type": "code",
   "execution_count": 37,
   "source": [
    "TRAIN_DATA = convert_format_spacy()"
   ],
   "outputs": [],
   "metadata": {}
  },
  {
   "cell_type": "code",
   "execution_count": 38,
   "source": [
    "entidades = ['percentual_credito',\r\n",
    " 'nome',\r\n",
    " 'cnpj_fundo',\r\n",
    " 'condominio_aberto',\r\n",
    " 'duracao',\r\n",
    " 'composicao_n',\r\n",
    " 'tipo_investidor',\r\n",
    " 'administrador',\r\n",
    " 'Gestor',\r\n",
    " 'Custodiante',\r\n",
    " 'investimento_ext',\r\n",
    " 'tx_administracao',\r\n",
    " 'tx_composta_sim',\r\n",
    " 'aplica_outro_fundo',\r\n",
    " 'tx_adm_maxima',\r\n",
    " 'valor_saida',\r\n",
    " 'tx_entrada_nao',\r\n",
    " 'tx_performance_sim',\r\n",
    " 'data_emissao_cota',\r\n",
    " 'data_pagamento_resgate',\r\n",
    " 'perfil_cota',\r\n",
    " 'Formula Performance',\r\n",
    " 'periodicidade_performance',\r\n",
    " 'alavancado',\r\n",
    " 'benchmark',\r\n",
    " 'tx_saida_nao',\r\n",
    " 'tx_performance_nao',\r\n",
    " 'data_pagamento_conversao',\r\n",
    " 'adm+cust',\r\n",
    " 'perfil_tx_adm',\r\n",
    " 'tx_adm_reais',\r\n",
    " 'adm+gest+cust',\r\n",
    " 'tributação',\r\n",
    " 'previdenciario',\r\n",
    " 'duração',\r\n",
    " 'adm+gest',\r\n",
    " 'infraestrutura',\r\n",
    " 'composicao_s',\r\n",
    " 'taxa_gestão',\r\n",
    " 'investe_tx_0',\r\n",
    " 'PGBL',\r\n",
    " 'VGBL']\r\n"
   ],
   "outputs": [],
   "metadata": {}
  },
  {
   "cell_type": "code",
   "execution_count": 39,
   "source": [
    "for ent in entidades:\r\n",
    "    ner.add_label(ent)"
   ],
   "outputs": [],
   "metadata": {}
  },
  {
   "cell_type": "code",
   "execution_count": 40,
   "source": [
    "def train_new_ner (data, n_interations, model=None):\r\n",
    "    TRAIN_DATA = data\r\n",
    "    dir_model = \"../models/\"\r\n",
    "    \r\n",
    "    \r\n",
    "    if 'ner' not in nlp_spacy.pipe_names:\r\n",
    "        ner = nlp_spacy.create_pipe('ner')\r\n",
    "        nlp_spacy.add_pipe(ner, last=True)\r\n",
    "    else: \r\n",
    "        ner = nlp_spacy.get_pipe('ner')\r\n",
    "    \r\n",
    "    #adicionando labels\r\n",
    "    \r\n",
    "    for _, annotations in TRAIN_DATA: \r\n",
    "        for ent in annotations.get('entities'):\r\n",
    "            ner.add_label(ent[2])\r\n",
    "            \r\n",
    "    #other pipes para desativar durante o train do novo ner \r\n",
    "    \r\n",
    "    other_pipes = [pipe for pipe in nlp_spacy.pipe_names if pipe!= 'ner']\r\n",
    "    with nlp_spacy.disable_pipes(*other_pipes): #desativa os outros pipe tagger, parser e etc\r\n",
    "        optimizer = nlp_spacy.begin_training() #treinando o modelo \r\n",
    "        \r\n",
    "        for inter in tqdm(range(n_interations)):\r\n",
    "            random.shuffle(TRAIN_DATA)\r\n",
    "            losses ={}\r\n",
    "            \r\n",
    "            \r\n",
    "            for text, annotations in TRAIN_DATA:\r\n",
    "                try:\r\n",
    "\r\n",
    "                    nlp_spacy.update(\r\n",
    "                        [text], #textos  \r\n",
    "                        [annotations], #anotações \r\n",
    "                        drop=0.2,  \r\n",
    "                        sgd=optimizer, #atualizar pesos \r\n",
    "                        losses=losses) \r\n",
    "                except Exception as error:\r\n",
    "                    pass\r\n",
    "            print(losses)\r\n",
    "    return nlp_spacy "
   ],
   "outputs": [],
   "metadata": {}
  },
  {
   "cell_type": "code",
   "execution_count": 42,
   "source": [
    "model_ner = train_new_ner(TRAIN_DATA, 80)"
   ],
   "outputs": [
    {
     "output_type": "stream",
     "name": "stderr",
     "text": [
      "  0%|          | 0/80 [00:00<?, ?it/s]C:\\ProgramData\\Anaconda3\\lib\\site-packages\\spacy\\language.py:482: UserWarning: [W030] Some entities could not be aligned in the text \"REGULAMENTO DO [DETERMINAR NOME] (47798) 1 REGULAM...\" with entities \"[[8174, 8182, 'alavancado'], [7232, 7242, 'investi...\". Use `spacy.gold.biluo_tags_from_offsets(nlp.make_doc(text), entities)` to check the alignment. Misaligned entities ('-') will be ignored during training.\n",
      "  gold = GoldParse(doc, **gold)\n",
      "C:\\ProgramData\\Anaconda3\\lib\\site-packages\\spacy\\language.py:482: UserWarning: [W030] Some entities could not be aligned in the text \"FUNDO DE INVESTIMENTO EM AÇÕES SABESPREV DIVIDENDO...\" with entities \"[[7086, 7098, 'percentual_credito'], [42939, 42942...\". Use `spacy.gold.biluo_tags_from_offsets(nlp.make_doc(text), entities)` to check the alignment. Misaligned entities ('-') will be ignored during training.\n",
      "  gold = GoldParse(doc, **gold)\n",
      "C:\\ProgramData\\Anaconda3\\lib\\site-packages\\spacy\\language.py:482: UserWarning: [W030] Some entities could not be aligned in the text \"REGULAMENTO DO BRADESCO FUNDO DE INVESTIMENTO EM C...\" with entities \"[[3612, 3614, 'alavancado'], [4569, 4573, 'investi...\". Use `spacy.gold.biluo_tags_from_offsets(nlp.make_doc(text), entities)` to check the alignment. Misaligned entities ('-') will be ignored during training.\n",
      "  gold = GoldParse(doc, **gold)\n",
      "C:\\ProgramData\\Anaconda3\\lib\\site-packages\\spacy\\language.py:482: UserWarning: [W030] Some entities could not be aligned in the text \"REGULAMENTO DO FUNDO DE INVESTIMENTO FINANCEIRO BB...\" with entities \"[[472, 485, 'duração'], [150, 168, 'cnpj_fundo'], ...\". Use `spacy.gold.biluo_tags_from_offsets(nlp.make_doc(text), entities)` to check the alignment. Misaligned entities ('-') will be ignored during training.\n",
      "  gold = GoldParse(doc, **gold)\n",
      "C:\\ProgramData\\Anaconda3\\lib\\site-packages\\spacy\\language.py:482: UserWarning: [W030] Some entities could not be aligned in the text \"REGULAMENTO DO BRAM PRIVATE FUNDO DE INVESTIMENTO ...\" with entities \"[[15356, 15367, 'tributação'], [2654, 2659, 'perce...\". Use `spacy.gold.biluo_tags_from_offsets(nlp.make_doc(text), entities)` to check the alignment. Misaligned entities ('-') will be ignored during training.\n",
      "  gold = GoldParse(doc, **gold)\n",
      "C:\\ProgramData\\Anaconda3\\lib\\site-packages\\spacy\\language.py:482: UserWarning: [W030] Some entities could not be aligned in the text \"Regulamento REGULAMENTO DO AZ QUEST DEBENTURES INC...\" with entities \"[[5533, 5544, 'percentual_credito'], [46477, 46485...\". Use `spacy.gold.biluo_tags_from_offsets(nlp.make_doc(text), entities)` to check the alignment. Misaligned entities ('-') will be ignored during training.\n",
      "  gold = GoldParse(doc, **gold)\n",
      "C:\\ProgramData\\Anaconda3\\lib\\site-packages\\spacy\\language.py:482: UserWarning: [W030] Some entities could not be aligned in the text \"Microsoft Word - MINUTA REG - BB Top AÃ§Ãµes Divid...\" with entities \"[[451, 464, 'duração'], [143, 161, 'cnpj_fundo'], ...\". Use `spacy.gold.biluo_tags_from_offsets(nlp.make_doc(text), entities)` to check the alignment. Misaligned entities ('-') will be ignored during training.\n",
      "  gold = GoldParse(doc, **gold)\n",
      "C:\\ProgramData\\Anaconda3\\lib\\site-packages\\spacy\\language.py:482: UserWarning: [W030] Some entities could not be aligned in the text \"REGULAMENTO DO BRADESCO H FUNDO DE INVESTIMENTO EM...\" with entities \"[[6289, 6291, 'alavancado'], [2385, 2389, 'investi...\". Use `spacy.gold.biluo_tags_from_offsets(nlp.make_doc(text), entities)` to check the alignment. Misaligned entities ('-') will be ignored during training.\n",
      "  gold = GoldParse(doc, **gold)\n",
      "C:\\ProgramData\\Anaconda3\\lib\\site-packages\\spacy\\language.py:482: UserWarning: [W030] Some entities could not be aligned in the text \"Regulamento 2263852v3  - Página 1 de 21- GEBSA FUN...\" with entities \"[[12071, 12077, 'alavancado'], [8325, 8328, 'perce...\". Use `spacy.gold.biluo_tags_from_offsets(nlp.make_doc(text), entities)` to check the alignment. Misaligned entities ('-') will be ignored during training.\n",
      "  gold = GoldParse(doc, **gold)\n",
      "C:\\ProgramData\\Anaconda3\\lib\\site-packages\\spacy\\language.py:482: UserWarning: [W030] Some entities could not be aligned in the text \"Safra SAFRA INFRAESTRUTURA PROFIT FUNDO DE INVESTI...\" with entities \"[[29295, 29298, 'alavancado'], [28372, 28378, 'inv...\". Use `spacy.gold.biluo_tags_from_offsets(nlp.make_doc(text), entities)` to check the alignment. Misaligned entities ('-') will be ignored during training.\n",
      "  gold = GoldParse(doc, **gold)\n",
      "C:\\ProgramData\\Anaconda3\\lib\\site-packages\\spacy\\language.py:482: UserWarning: [W030] Some entities could not be aligned in the text \"Regulamento REGULAMENTO DO BRASIL PLURAL DEBÊNTURE...\" with entities \"[[12575, 12586, 'percentual_credito'], [16391, 163...\". Use `spacy.gold.biluo_tags_from_offsets(nlp.make_doc(text), entities)` to check the alignment. Misaligned entities ('-') will be ignored during training.\n",
      "  gold = GoldParse(doc, **gold)\n",
      "C:\\ProgramData\\Anaconda3\\lib\\site-packages\\spacy\\language.py:482: UserWarning: [W030] Some entities could not be aligned in the text \"Safra SAFRA INFRAESTRUTURA PREMIUM FUNDO DE INVEST...\" with entities \"[[29360, 29363, 'alavancado'], [28437, 28443, 'inv...\". Use `spacy.gold.biluo_tags_from_offsets(nlp.make_doc(text), entities)` to check the alignment. Misaligned entities ('-') will be ignored during training.\n",
      "  gold = GoldParse(doc, **gold)\n",
      "C:\\ProgramData\\Anaconda3\\lib\\site-packages\\spacy\\language.py:482: UserWarning: [W030] Some entities could not be aligned in the text \"REGULAMENTO DO FUNDO DE INVESTIMENTO MULTIMERCADO ...\" with entities \"[[8503, 8514, 'percentual_credito'], [9840, 9854, ...\". Use `spacy.gold.biluo_tags_from_offsets(nlp.make_doc(text), entities)` to check the alignment. Misaligned entities ('-') will be ignored during training.\n",
      "  gold = GoldParse(doc, **gold)\n",
      "C:\\ProgramData\\Anaconda3\\lib\\site-packages\\spacy\\language.py:482: UserWarning: [W030] Some entities could not be aligned in the text \"Regulamento REGULAMENTO DO OABPREV CLASSICO FUNDO ...\" with entities \"[[6756, 6759, 'percentual_credito'], [7812, 7819, ...\". Use `spacy.gold.biluo_tags_from_offsets(nlp.make_doc(text), entities)` to check the alignment. Misaligned entities ('-') will be ignored during training.\n",
      "  gold = GoldParse(doc, **gold)\n",
      "C:\\ProgramData\\Anaconda3\\lib\\site-packages\\spacy\\language.py:482: UserWarning: [W030] Some entities could not be aligned in the text \"REGULAMENTO DO BRADESCO PRIME FUNDO DE INVESTIMENT...\" with entities \"[[3954, 3956, 'alavancado'], [4330, 4333, 'investi...\". Use `spacy.gold.biluo_tags_from_offsets(nlp.make_doc(text), entities)` to check the alignment. Misaligned entities ('-') will be ignored during training.\n",
      "  gold = GoldParse(doc, **gold)\n",
      "C:\\ProgramData\\Anaconda3\\lib\\site-packages\\spacy\\language.py:482: UserWarning: [W030] Some entities could not be aligned in the text \"Regulamento REGULAMENTO DO AZBWM QUEST LEVANTE FUN...\" with entities \"[[6169, 6180, 'percentual_credito'], [30098, 30116...\". Use `spacy.gold.biluo_tags_from_offsets(nlp.make_doc(text), entities)` to check the alignment. Misaligned entities ('-') will be ignored during training.\n",
      "  gold = GoldParse(doc, **gold)\n",
      "C:\\ProgramData\\Anaconda3\\lib\\site-packages\\spacy\\language.py:482: UserWarning: [W030] Some entities could not be aligned in the text \"Microsoft Word - MINUTA REG - Top AÃ§Ãµes Infraest...\" with entities \"[[476, 489, 'duração'], [436, 453, 'condominio_abe...\". Use `spacy.gold.biluo_tags_from_offsets(nlp.make_doc(text), entities)` to check the alignment. Misaligned entities ('-') will be ignored during training.\n",
      "  gold = GoldParse(doc, **gold)\n",
      "C:\\ProgramData\\Anaconda3\\lib\\site-packages\\spacy\\language.py:482: UserWarning: [W030] Some entities could not be aligned in the text \"Regulamento REGULAMENTO DO OCEANA O21 FUNDO DE INV...\" with entities \"[[6392, 6395, 'percentual_credito'], [7489, 7497, ...\". Use `spacy.gold.biluo_tags_from_offsets(nlp.make_doc(text), entities)` to check the alignment. Misaligned entities ('-') will be ignored during training.\n",
      "  gold = GoldParse(doc, **gold)\n",
      "C:\\ProgramData\\Anaconda3\\lib\\site-packages\\spacy\\language.py:482: UserWarning: [W030] Some entities could not be aligned in the text \"Microsoft Word - 04.440.887 - BAHIA AM SUL ENERGIA...\" with entities \"[[9312, 9318, 'alavancado'], [559, 572, 'duração']...\". Use `spacy.gold.biluo_tags_from_offsets(nlp.make_doc(text), entities)` to check the alignment. Misaligned entities ('-') will be ignored during training.\n",
      "  gold = GoldParse(doc, **gold)\n",
      "C:\\ProgramData\\Anaconda3\\lib\\site-packages\\spacy\\language.py:482: UserWarning: [W030] Some entities could not be aligned in the text \"REGULAMENTO DO CAPITÂNIA DEBÊNTURES INCENTIVADAS C...\" with entities \"[[5344, 5355, 'percentual_credito'], [6640, 6646, ...\". Use `spacy.gold.biluo_tags_from_offsets(nlp.make_doc(text), entities)` to check the alignment. Misaligned entities ('-') will be ignored during training.\n",
      "  gold = GoldParse(doc, **gold)\n",
      "C:\\ProgramData\\Anaconda3\\lib\\site-packages\\spacy\\language.py:482: UserWarning: [W030] Some entities could not be aligned in the text \"Regulamento REGULAMENTO DO ANTARES FUNDO DE INVEST...\" with entities \"[[5117, 5121, 'percentual_credito'], [27, 69, 'nom...\". Use `spacy.gold.biluo_tags_from_offsets(nlp.make_doc(text), entities)` to check the alignment. Misaligned entities ('-') will be ignored during training.\n",
      "  gold = GoldParse(doc, **gold)\n",
      "C:\\ProgramData\\Anaconda3\\lib\\site-packages\\spacy\\language.py:482: UserWarning: [W030] Some entities could not be aligned in the text \"REGULAMENTO DO RB CAPITAL DEBÊNTURES INCENTIVADAS ...\" with entities \"[[6106, 6117, 'percentual_credito'], [28893, 28911...\". Use `spacy.gold.biluo_tags_from_offsets(nlp.make_doc(text), entities)` to check the alignment. Misaligned entities ('-') will be ignored during training.\n",
      "  gold = GoldParse(doc, **gold)\n",
      "C:\\ProgramData\\Anaconda3\\lib\\site-packages\\spacy\\language.py:482: UserWarning: [W030] Some entities could not be aligned in the text \"REGULAMENTO DO GRJGP FUNDO DE INVESTIMENTO EM COTA...\" with entities \"[[4514, 4520, 'alavancado'], [5623, 5627, 'percent...\". Use `spacy.gold.biluo_tags_from_offsets(nlp.make_doc(text), entities)` to check the alignment. Misaligned entities ('-') will be ignored during training.\n",
      "  gold = GoldParse(doc, **gold)\n",
      "C:\\ProgramData\\Anaconda3\\lib\\site-packages\\spacy\\language.py:482: UserWarning: [W030] Some entities could not be aligned in the text \"AGC 17.07.19 + Regulamento - Debêntures Incentivad...\" with entities \"[[13085, 13089, 'tx_adm_maxima'], [12939, 12945, '...\". Use `spacy.gold.biluo_tags_from_offsets(nlp.make_doc(text), entities)` to check the alignment. Misaligned entities ('-') will be ignored during training.\n",
      "  gold = GoldParse(doc, **gold)\n",
      "C:\\ProgramData\\Anaconda3\\lib\\site-packages\\spacy\\language.py:482: UserWarning: [W030] Some entities could not be aligned in the text \"Regulamento 2613706v 2  - Página 1 de 20- TFO BP I...\" with entities \"[[8230, 8233, 'alavancado'], [8703, 8711, 'percent...\". Use `spacy.gold.biluo_tags_from_offsets(nlp.make_doc(text), entities)` to check the alignment. Misaligned entities ('-') will be ignored during training.\n",
      "  gold = GoldParse(doc, **gold)\n",
      "C:\\ProgramData\\Anaconda3\\lib\\site-packages\\spacy\\language.py:482: UserWarning: [W030] Some entities could not be aligned in the text \"REGULAMENTO DO PARAISO FUNDO DE INVESTIMENTO EM CO...\" with entities \"[[6631, 6642, 'percentual_credito'], [8021, 8035, ...\". Use `spacy.gold.biluo_tags_from_offsets(nlp.make_doc(text), entities)` to check the alignment. Misaligned entities ('-') will be ignored during training.\n",
      "  gold = GoldParse(doc, **gold)\n",
      "C:\\ProgramData\\Anaconda3\\lib\\site-packages\\spacy\\language.py:482: UserWarning: [W030] Some entities could not be aligned in the text \"DO FUNDO REGULAMENTO DO FUNDO DE INVESTIMENTO EM A...\" with entities \"[[4529, 4535, 'alavancado'], [315, 328, 'duração']...\". Use `spacy.gold.biluo_tags_from_offsets(nlp.make_doc(text), entities)` to check the alignment. Misaligned entities ('-') will be ignored during training.\n",
      "  gold = GoldParse(doc, **gold)\n",
      "C:\\ProgramData\\Anaconda3\\lib\\site-packages\\spacy\\language.py:482: UserWarning: [W030] Some entities could not be aligned in the text \"Regulamento 1/23 NOTA FUNDO DE INVESTIMENTO MULTIM...\" with entities \"[[14612, 14618, 'alavancado'], [6920, 6923, 'alava...\". Use `spacy.gold.biluo_tags_from_offsets(nlp.make_doc(text), entities)` to check the alignment. Misaligned entities ('-') will be ignored during training.\n",
      "  gold = GoldParse(doc, **gold)\n",
      "C:\\ProgramData\\Anaconda3\\lib\\site-packages\\spacy\\language.py:482: UserWarning: [W030] Some entities could not be aligned in the text \"REGULAMENTO DO LYONNAIS DI MASTER 60 ÁGUIA FUNDO D...\" with entities \"[[20694, 20700, 'alavancado'], [22110, 22114, 'per...\". Use `spacy.gold.biluo_tags_from_offsets(nlp.make_doc(text), entities)` to check the alignment. Misaligned entities ('-') will be ignored during training.\n",
      "  gold = GoldParse(doc, **gold)\n",
      "C:\\ProgramData\\Anaconda3\\lib\\site-packages\\spacy\\language.py:482: UserWarning: [W030] Some entities could not be aligned in the text \"Microsoft Word - MINUTA REG - AÃ⁄ÃŁES BB - 21 05 2...\" with entities \"[[458, 471, 'duração'], [114, 132, 'cnpj_fundo'], ...\". Use `spacy.gold.biluo_tags_from_offsets(nlp.make_doc(text), entities)` to check the alignment. Misaligned entities ('-') will be ignored during training.\n",
      "  gold = GoldParse(doc, **gold)\n",
      "C:\\ProgramData\\Anaconda3\\lib\\site-packages\\spacy\\language.py:482: UserWarning: [W030] Some entities could not be aligned in the text \"CAPÍTULO I: DO FUNDO VERDE AM VIVE FUNDO DE INVEST...\" with entities \"[[27360, 27371, 'tributação'], [10975, 10978, 'per...\". Use `spacy.gold.biluo_tags_from_offsets(nlp.make_doc(text), entities)` to check the alignment. Misaligned entities ('-') will be ignored during training.\n",
      "  gold = GoldParse(doc, **gold)\n",
      "C:\\ProgramData\\Anaconda3\\lib\\site-packages\\spacy\\language.py:482: UserWarning: [W030] Some entities could not be aligned in the text \"Regulamento REGULAMENTO DO BRASIL PLURAL DEBÊNTURE...\" with entities \"[[5471, 5482, 'percentual_credito'], [18948, 18953...\". Use `spacy.gold.biluo_tags_from_offsets(nlp.make_doc(text), entities)` to check the alignment. Misaligned entities ('-') will be ignored during training.\n",
      "  gold = GoldParse(doc, **gold)\n",
      "C:\\ProgramData\\Anaconda3\\lib\\site-packages\\spacy\\language.py:482: UserWarning: [W030] Some entities could not be aligned in the text \"REGULAMENTO DO FUNDO DE INVESTIMENTO MULTIMERCADO ...\" with entities \"[[8955, 8966, 'percentual_credito'], [10278, 10292...\". Use `spacy.gold.biluo_tags_from_offsets(nlp.make_doc(text), entities)` to check the alignment. Misaligned entities ('-') will be ignored during training.\n",
      "  gold = GoldParse(doc, **gold)\n",
      "C:\\ProgramData\\Anaconda3\\lib\\site-packages\\spacy\\language.py:482: UserWarning: [W030] Some entities could not be aligned in the text \"REGULAMENTO DO JGP MAX FEEDER P FUNDO DE INVESTIME...\" with entities \"[[7506, 7513, 'investimento_ext'], [10454, 10457, ...\". Use `spacy.gold.biluo_tags_from_offsets(nlp.make_doc(text), entities)` to check the alignment. Misaligned entities ('-') will be ignored during training.\n",
      "  gold = GoldParse(doc, **gold)\n",
      "C:\\ProgramData\\Anaconda3\\lib\\site-packages\\spacy\\language.py:482: UserWarning: [W030] Some entities could not be aligned in the text \"REGULAMENTO DO AZ QUEST MASTER DEBÊNTURES INCENTIV...\" with entities \"[[5073, 5084, 'percentual_credito'], [25202, 25220...\". Use `spacy.gold.biluo_tags_from_offsets(nlp.make_doc(text), entities)` to check the alignment. Misaligned entities ('-') will be ignored during training.\n",
      "  gold = GoldParse(doc, **gold)\n",
      "C:\\ProgramData\\Anaconda3\\lib\\site-packages\\spacy\\language.py:482: UserWarning: [W030] Some entities could not be aligned in the text \"REGULAMENTO DO ÓRAMA BOGARI TEMPORÁRIO VALUE FUNDO...\" with entities \"[[6326, 6332, 'percentual_credito'], [7440, 7446, ...\". Use `spacy.gold.biluo_tags_from_offsets(nlp.make_doc(text), entities)` to check the alignment. Misaligned entities ('-') will be ignored during training.\n",
      "  gold = GoldParse(doc, **gold)\n",
      "C:\\ProgramData\\Anaconda3\\lib\\site-packages\\spacy\\language.py:482: UserWarning: [W030] Some entities could not be aligned in the text \"Safra SAFRA INFRAESTRUTURA MASTER FUNDO DE INVESTI...\" with entities \"[[32286, 32289, 'alavancado'], [30398, 30404, 'inv...\". Use `spacy.gold.biluo_tags_from_offsets(nlp.make_doc(text), entities)` to check the alignment. Misaligned entities ('-') will be ignored during training.\n",
      "  gold = GoldParse(doc, **gold)\n",
      "C:\\ProgramData\\Anaconda3\\lib\\site-packages\\spacy\\language.py:482: UserWarning: [W030] Some entities could not be aligned in the text \"REGULAMENTO DO TACAMI FUNDO DE INVESTIMENTO MULTIM...\" with entities \"[[7530, 7536, 'alavancado'], [9430, 9436, 'investi...\". Use `spacy.gold.biluo_tags_from_offsets(nlp.make_doc(text), entities)` to check the alignment. Misaligned entities ('-') will be ignored during training.\n",
      "  gold = GoldParse(doc, **gold)\n",
      "C:\\ProgramData\\Anaconda3\\lib\\site-packages\\spacy\\language.py:482: UserWarning: [W030] Some entities could not be aligned in the text \"FUNDO DE INVESTIMENTO TURMALINA INFRAESTRUTURA MUL...\" with entities \"[[5566, 5570, 'investimento_ext'], [5607, 5611, 'p...\". Use `spacy.gold.biluo_tags_from_offsets(nlp.make_doc(text), entities)` to check the alignment. Misaligned entities ('-') will be ignored during training.\n",
      "  gold = GoldParse(doc, **gold)\n",
      "C:\\ProgramData\\Anaconda3\\lib\\site-packages\\spacy\\language.py:482: UserWarning: [W030] Some entities could not be aligned in the text \"REGULAMENTO FUNDOS APLIC AUT  1 REGULAMENTO DO VGC...\" with entities \"[[28615, 28622, 'percentual_credito'], [1472, 1485...\". Use `spacy.gold.biluo_tags_from_offsets(nlp.make_doc(text), entities)` to check the alignment. Misaligned entities ('-') will be ignored during training.\n",
      "  gold = GoldParse(doc, **gold)\n",
      "C:\\ProgramData\\Anaconda3\\lib\\site-packages\\spacy\\language.py:482: UserWarning: [W030] Some entities could not be aligned in the text \"Minuta REGULAMENTO BB TOP RF ARROJADO FI RENDA FIX...\" with entities \"[[4229, 4248, 'alavancado'], [4063, 4078, 'percent...\". Use `spacy.gold.biluo_tags_from_offsets(nlp.make_doc(text), entities)` to check the alignment. Misaligned entities ('-') will be ignored during training.\n",
      "  gold = GoldParse(doc, **gold)\n",
      "C:\\ProgramData\\Anaconda3\\lib\\site-packages\\spacy\\language.py:482: UserWarning: [W030] Some entities could not be aligned in the text \"REGULAMENTO FUNDOS APLIC AUT (51921) 1 REGULAMENTO...\" with entities \"[[1333, 1346, 'duração'], [176, 194, 'cnpj_fundo']...\". Use `spacy.gold.biluo_tags_from_offsets(nlp.make_doc(text), entities)` to check the alignment. Misaligned entities ('-') will be ignored during training.\n",
      "  gold = GoldParse(doc, **gold)\n",
      "C:\\ProgramData\\Anaconda3\\lib\\site-packages\\spacy\\language.py:482: UserWarning: [W030] Some entities could not be aligned in the text \"REGULAMENTO DO APC FUNDO DE INVESTIMENTO MULTIMERC...\" with entities \"[[5204, 5215, 'percentual_credito'], [6709, 6716, ...\". Use `spacy.gold.biluo_tags_from_offsets(nlp.make_doc(text), entities)` to check the alignment. Misaligned entities ('-') will be ignored during training.\n",
      "  gold = GoldParse(doc, **gold)\n",
      "C:\\ProgramData\\Anaconda3\\lib\\site-packages\\spacy\\language.py:482: UserWarning: [W030] Some entities could not be aligned in the text \"Scanned Document REGULAMENTO DO FUNDO DE INVESTIME...\" with entities \"[[3039, 3045, 'alavancado'], [5933, 5940, 'percent...\". Use `spacy.gold.biluo_tags_from_offsets(nlp.make_doc(text), entities)` to check the alignment. Misaligned entities ('-') will be ignored during training.\n",
      "  gold = GoldParse(doc, **gold)\n",
      "C:\\ProgramData\\Anaconda3\\lib\\site-packages\\spacy\\language.py:482: UserWarning: [W030] Some entities could not be aligned in the text \"Regulamento REGULAMENTO DO OCEANA ATLÂNTICO FUNDO ...\" with entities \"[[5327, 5330, 'percentual_credito'], [6239, 6246, ...\". Use `spacy.gold.biluo_tags_from_offsets(nlp.make_doc(text), entities)` to check the alignment. Misaligned entities ('-') will be ignored during training.\n",
      "  gold = GoldParse(doc, **gold)\n",
      "C:\\ProgramData\\Anaconda3\\lib\\site-packages\\spacy\\language.py:482: UserWarning: [W030] Some entities could not be aligned in the text \"REGULAMENTO DO THOA-THOA FUNDO DE INVESTIMENTO EM ...\" with entities \"[[18125, 18130, 'perfil_tx_adm'], [5243, 5254, 'pe...\". Use `spacy.gold.biluo_tags_from_offsets(nlp.make_doc(text), entities)` to check the alignment. Misaligned entities ('-') will be ignored during training.\n",
      "  gold = GoldParse(doc, **gold)\n",
      "C:\\ProgramData\\Anaconda3\\lib\\site-packages\\spacy\\language.py:482: UserWarning: [W030] Some entities could not be aligned in the text \"Microsoft Word - 2018.10.08_G5 BR INFRA FIA_Ata e ...\" with entities \"[[16272, 16275, 'investimento_ext'], [4422, 4437, ...\". Use `spacy.gold.biluo_tags_from_offsets(nlp.make_doc(text), entities)` to check the alignment. Misaligned entities ('-') will be ignored during training.\n",
      "  gold = GoldParse(doc, **gold)\n",
      "C:\\ProgramData\\Anaconda3\\lib\\site-packages\\spacy\\language.py:482: UserWarning: [W030] Some entities could not be aligned in the text \"REGULAMENTO DO ARARIPE FUNDO DE INVESTIMENTO MULTI...\" with entities \"[[10070, 10081, 'percentual_credito'], [11601, 116...\". Use `spacy.gold.biluo_tags_from_offsets(nlp.make_doc(text), entities)` to check the alignment. Misaligned entities ('-') will be ignored during training.\n",
      "  gold = GoldParse(doc, **gold)\n",
      "C:\\ProgramData\\Anaconda3\\lib\\site-packages\\spacy\\language.py:482: UserWarning: [W030] Some entities could not be aligned in the text \"Regulamento REGULAMENTO DO BRASIL PLURAL MASTER II...\" with entities \"[[5130, 5141, 'percentual_credito'], [24820, 24838...\". Use `spacy.gold.biluo_tags_from_offsets(nlp.make_doc(text), entities)` to check the alignment. Misaligned entities ('-') will be ignored during training.\n",
      "  gold = GoldParse(doc, **gold)\n",
      "C:\\ProgramData\\Anaconda3\\lib\\site-packages\\spacy\\language.py:482: UserWarning: [W030] Some entities could not be aligned in the text \"REGULAMENTO FUNDOS APLIC AUT (FY: 61604) 1 REGULAM...\" with entities \"[[26165, 26179, 'tributação'], [42093, 42103, 'ala...\". Use `spacy.gold.biluo_tags_from_offsets(nlp.make_doc(text), entities)` to check the alignment. Misaligned entities ('-') will be ignored during training.\n",
      "  gold = GoldParse(doc, **gold)\n",
      "C:\\ProgramData\\Anaconda3\\lib\\site-packages\\spacy\\language.py:482: UserWarning: [W030] Some entities could not be aligned in the text \"ITAÚ MONEY MARKET RENDA FIXA FICFI (40001) Regulam...\" with entities \"[[11828, 11839, 'tributação'], [27545, 27553, 'per...\". Use `spacy.gold.biluo_tags_from_offsets(nlp.make_doc(text), entities)` to check the alignment. Misaligned entities ('-') will be ignored during training.\n",
      "  gold = GoldParse(doc, **gold)\n",
      "C:\\ProgramData\\Anaconda3\\lib\\site-packages\\spacy\\language.py:482: UserWarning: [W030] Some entities could not be aligned in the text \"SANTANDER SECURITIES SERVICES BRASIL DTVM S.A     ...\" with entities \"[[23675, 23681, 'alavancado'], [9115, 9125, 'perce...\". Use `spacy.gold.biluo_tags_from_offsets(nlp.make_doc(text), entities)` to check the alignment. Misaligned entities ('-') will be ignored during training.\n",
      "  gold = GoldParse(doc, **gold)\n",
      "C:\\ProgramData\\Anaconda3\\lib\\site-packages\\spacy\\language.py:482: UserWarning: [W030] Some entities could not be aligned in the text \"REGULAMENTO  WESTERN ASSET AÇÕES IBOVESPA ATIVO SI...\" with entities \"[[461, 474, 'duração'], [120, 138, 'cnpj_fundo'], ...\". Use `spacy.gold.biluo_tags_from_offsets(nlp.make_doc(text), entities)` to check the alignment. Misaligned entities ('-') will be ignored during training.\n",
      "  gold = GoldParse(doc, **gold)\n",
      "C:\\ProgramData\\Anaconda3\\lib\\site-packages\\spacy\\language.py:482: UserWarning: [W030] Some entities could not be aligned in the text \"REGULAMENTO FUNDOS APLIC AUT ITAÚ VEGA HP MULTIMER...\" with entities \"[[17450, 17461, 'tributação'], [34439, 34449, 'ala...\". Use `spacy.gold.biluo_tags_from_offsets(nlp.make_doc(text), entities)` to check the alignment. Misaligned entities ('-') will be ignored during training.\n",
      "  gold = GoldParse(doc, **gold)\n",
      "C:\\ProgramData\\Anaconda3\\lib\\site-packages\\spacy\\language.py:482: UserWarning: [W030] Some entities could not be aligned in the text \"REGULAMENTO FUNDOS APLIC AUT ITAÚ KEY SOURCE RENDA...\" with entities \"[[12350, 12364, 'tributação'], [28329, 28336, 'per...\". Use `spacy.gold.biluo_tags_from_offsets(nlp.make_doc(text), entities)` to check the alignment. Misaligned entities ('-') will be ignored during training.\n",
      "  gold = GoldParse(doc, **gold)\n",
      "C:\\ProgramData\\Anaconda3\\lib\\site-packages\\spacy\\language.py:482: UserWarning: [W030] Some entities could not be aligned in the text \"Regulamento REGULAMENTO DO PARAGUAÇU I FUNDO DE IN...\" with entities \"[[6744, 6750, 'investimento_ext'], [414, 427, 'dur...\". Use `spacy.gold.biluo_tags_from_offsets(nlp.make_doc(text), entities)` to check the alignment. Misaligned entities ('-') will be ignored during training.\n",
      "  gold = GoldParse(doc, **gold)\n",
      "C:\\ProgramData\\Anaconda3\\lib\\site-packages\\spacy\\language.py:482: UserWarning: [W030] Some entities could not be aligned in the text \"11 September 2009 REGULAMENTO DO GROWLER FUNDO DE ...\" with entities \"[[357, 370, 'duração'], [125, 143, 'cnpj_fundo'], ...\". Use `spacy.gold.biluo_tags_from_offsets(nlp.make_doc(text), entities)` to check the alignment. Misaligned entities ('-') will be ignored during training.\n",
      "  gold = GoldParse(doc, **gold)\n",
      "C:\\ProgramData\\Anaconda3\\lib\\site-packages\\spacy\\language.py:482: UserWarning: [W030] Some entities could not be aligned in the text \"REGULAMENTO DO VIC BRASIL CAPITAL FUNDO DE INVESTI...\" with entities \"[[2293, 2296, 'tributação'], [8364, 8367, 'percent...\". Use `spacy.gold.biluo_tags_from_offsets(nlp.make_doc(text), entities)` to check the alignment. Misaligned entities ('-') will be ignored during training.\n",
      "  gold = GoldParse(doc, **gold)\n",
      "C:\\ProgramData\\Anaconda3\\lib\\site-packages\\spacy\\language.py:482: UserWarning: [W030] Some entities could not be aligned in the text \"Safra SAFRA INFRAESTRUTURA PREMIUM PROFISSIONAL FU...\" with entities \"[[32823, 32826, 'alavancado'], [17359, 17370, 'per...\". Use `spacy.gold.biluo_tags_from_offsets(nlp.make_doc(text), entities)` to check the alignment. Misaligned entities ('-') will be ignored during training.\n",
      "  gold = GoldParse(doc, **gold)\n",
      "C:\\ProgramData\\Anaconda3\\lib\\site-packages\\spacy\\language.py:482: UserWarning: [W030] Some entities could not be aligned in the text \"REGULAMENTO FUNDOS APLIC AUT VÉRTICE FOF MACRO MUL...\" with entities \"[[19200, 19214, 'tributação'], [35639, 35649, 'ala...\". Use `spacy.gold.biluo_tags_from_offsets(nlp.make_doc(text), entities)` to check the alignment. Misaligned entities ('-') will be ignored during training.\n",
      "  gold = GoldParse(doc, **gold)\n",
      "C:\\ProgramData\\Anaconda3\\lib\\site-packages\\spacy\\language.py:482: UserWarning: [W030] Some entities could not be aligned in the text \"REGULAMENTO DO KOI ABSOLUTE ALPHA GLOBAL FUNDO DE ...\" with entities \"[[15701, 15706, 'tx_administracao'], [5841, 5844, ...\". Use `spacy.gold.biluo_tags_from_offsets(nlp.make_doc(text), entities)` to check the alignment. Misaligned entities ('-') will be ignored during training.\n",
      "  gold = GoldParse(doc, **gold)\n",
      "  1%|▏         | 1/80 [02:48<3:41:36, 168.31s/it]"
     ]
    },
    {
     "output_type": "stream",
     "name": "stdout",
     "text": [
      "{'ner': 382180.8425049782}\n"
     ]
    },
    {
     "output_type": "stream",
     "name": "stderr",
     "text": [
      "  2%|▎         | 2/80 [05:27<3:35:18, 165.62s/it]"
     ]
    },
    {
     "output_type": "stream",
     "name": "stdout",
     "text": [
      "{'ner': 411320.5312371254}\n"
     ]
    },
    {
     "output_type": "stream",
     "name": "stderr",
     "text": [
      "  4%|▍         | 3/80 [08:26<3:37:33, 169.53s/it]"
     ]
    },
    {
     "output_type": "stream",
     "name": "stdout",
     "text": [
      "{'ner': 427024.2944698334}\n"
     ]
    },
    {
     "output_type": "stream",
     "name": "stderr",
     "text": [
      "  5%|▌         | 4/80 [11:20<3:36:23, 170.83s/it]"
     ]
    },
    {
     "output_type": "stream",
     "name": "stdout",
     "text": [
      "{'ner': 417134.5040230751}\n"
     ]
    },
    {
     "output_type": "stream",
     "name": "stderr",
     "text": [
      "  6%|▋         | 5/80 [14:05<3:31:34, 169.25s/it]"
     ]
    },
    {
     "output_type": "stream",
     "name": "stdout",
     "text": [
      "{'ner': 402393.40306806564}\n"
     ]
    },
    {
     "output_type": "stream",
     "name": "stderr",
     "text": [
      "  8%|▊         | 6/80 [16:49<3:26:31, 167.46s/it]"
     ]
    },
    {
     "output_type": "stream",
     "name": "stdout",
     "text": [
      "{'ner': 399144.45411491394}\n"
     ]
    },
    {
     "output_type": "stream",
     "name": "stderr",
     "text": [
      "  9%|▉         | 7/80 [19:33<3:22:38, 166.56s/it]"
     ]
    },
    {
     "output_type": "stream",
     "name": "stdout",
     "text": [
      "{'ner': 405640.45451545715}\n"
     ]
    },
    {
     "output_type": "stream",
     "name": "stderr",
     "text": [
      " 10%|█         | 8/80 [22:17<3:18:51, 165.72s/it]"
     ]
    },
    {
     "output_type": "stream",
     "name": "stdout",
     "text": [
      "{'ner': 395888.0107474327}\n"
     ]
    },
    {
     "output_type": "stream",
     "name": "stderr",
     "text": [
      " 11%|█▏        | 9/80 [25:00<3:15:12, 164.97s/it]"
     ]
    },
    {
     "output_type": "stream",
     "name": "stdout",
     "text": [
      "{'ner': 406258.0116753578}\n"
     ]
    },
    {
     "output_type": "stream",
     "name": "stderr",
     "text": [
      " 12%|█▎        | 10/80 [28:00<3:17:53, 169.62s/it]"
     ]
    },
    {
     "output_type": "stream",
     "name": "stdout",
     "text": [
      "{'ner': 390931.92807149887}\n"
     ]
    },
    {
     "output_type": "stream",
     "name": "stderr",
     "text": [
      " 14%|█▍        | 11/80 [30:29<3:07:57, 163.45s/it]"
     ]
    },
    {
     "output_type": "stream",
     "name": "stdout",
     "text": [
      "{'ner': 397134.9101958275}\n"
     ]
    },
    {
     "output_type": "stream",
     "name": "stderr",
     "text": [
      " 15%|█▌        | 12/80 [33:01<3:01:09, 159.84s/it]"
     ]
    },
    {
     "output_type": "stream",
     "name": "stdout",
     "text": [
      "{'ner': 391783.8347110748}\n"
     ]
    },
    {
     "output_type": "stream",
     "name": "stderr",
     "text": [
      " 16%|█▋        | 13/80 [35:31<2:55:19, 157.01s/it]"
     ]
    },
    {
     "output_type": "stream",
     "name": "stdout",
     "text": [
      "{'ner': 384283.81090545654}\n"
     ]
    },
    {
     "output_type": "stream",
     "name": "stderr",
     "text": [
      " 18%|█▊        | 14/80 [38:14<2:54:25, 158.57s/it]"
     ]
    },
    {
     "output_type": "stream",
     "name": "stdout",
     "text": [
      "{'ner': 380927.0460753441}\n"
     ]
    },
    {
     "output_type": "stream",
     "name": "stderr",
     "text": [
      " 19%|█▉        | 15/80 [41:07<2:56:44, 163.14s/it]"
     ]
    },
    {
     "output_type": "stream",
     "name": "stdout",
     "text": [
      "{'ner': 400894.542488575}\n"
     ]
    },
    {
     "output_type": "stream",
     "name": "stderr",
     "text": [
      " 20%|██        | 16/80 [43:55<2:55:19, 164.37s/it]"
     ]
    },
    {
     "output_type": "stream",
     "name": "stdout",
     "text": [
      "{'ner': 382480.64029073715}\n"
     ]
    },
    {
     "output_type": "stream",
     "name": "stderr",
     "text": [
      " 21%|██▏       | 17/80 [47:08<3:01:38, 172.99s/it]"
     ]
    },
    {
     "output_type": "stream",
     "name": "stdout",
     "text": [
      "{'ner': 385434.41381931305}\n"
     ]
    },
    {
     "output_type": "stream",
     "name": "stderr",
     "text": [
      " 22%|██▎       | 18/80 [49:55<2:56:59, 171.29s/it]"
     ]
    },
    {
     "output_type": "stream",
     "name": "stdout",
     "text": [
      "{'ner': 384969.1142439842}\n"
     ]
    },
    {
     "output_type": "stream",
     "name": "stderr",
     "text": [
      " 24%|██▍       | 19/80 [52:41<2:52:23, 169.57s/it]"
     ]
    },
    {
     "output_type": "stream",
     "name": "stdout",
     "text": [
      "{'ner': 384269.9606871605}\n"
     ]
    },
    {
     "output_type": "stream",
     "name": "stderr",
     "text": [
      " 25%|██▌       | 20/80 [55:10<2:43:36, 163.61s/it]"
     ]
    },
    {
     "output_type": "stream",
     "name": "stdout",
     "text": [
      "{'ner': 384648.0618648529}\n"
     ]
    },
    {
     "output_type": "stream",
     "name": "stderr",
     "text": [
      " 26%|██▋       | 21/80 [57:56<2:41:33, 164.30s/it]"
     ]
    },
    {
     "output_type": "stream",
     "name": "stdout",
     "text": [
      "{'ner': 381200.49844169617}\n"
     ]
    },
    {
     "output_type": "stream",
     "name": "stderr",
     "text": [
      " 28%|██▊       | 22/80 [1:00:32<2:36:29, 161.88s/it]"
     ]
    },
    {
     "output_type": "stream",
     "name": "stdout",
     "text": [
      "{'ner': 387504.56903266907}\n"
     ]
    },
    {
     "output_type": "stream",
     "name": "stderr",
     "text": [
      " 29%|██▉       | 23/80 [1:03:18<2:34:51, 163.00s/it]"
     ]
    },
    {
     "output_type": "stream",
     "name": "stdout",
     "text": [
      "{'ner': 382702.97551727295}\n"
     ]
    },
    {
     "output_type": "stream",
     "name": "stderr",
     "text": [
      " 30%|███       | 24/80 [1:05:54<2:30:07, 160.85s/it]"
     ]
    },
    {
     "output_type": "stream",
     "name": "stdout",
     "text": [
      "{'ner': 385536.11866903305}\n"
     ]
    },
    {
     "output_type": "stream",
     "name": "stderr",
     "text": [
      " 31%|███▏      | 25/80 [1:08:36<2:27:49, 161.26s/it]"
     ]
    },
    {
     "output_type": "stream",
     "name": "stdout",
     "text": [
      "{'ner': 379023.9955701828}\n"
     ]
    },
    {
     "output_type": "stream",
     "name": "stderr",
     "text": [
      " 32%|███▎      | 26/80 [1:11:08<2:22:35, 158.44s/it]"
     ]
    },
    {
     "output_type": "stream",
     "name": "stdout",
     "text": [
      "{'ner': 380693.72940540314}\n"
     ]
    },
    {
     "output_type": "stream",
     "name": "stderr",
     "text": [
      " 34%|███▍      | 27/80 [1:13:35<2:16:53, 154.96s/it]"
     ]
    },
    {
     "output_type": "stream",
     "name": "stdout",
     "text": [
      "{'ner': 376159.9678850174}\n"
     ]
    },
    {
     "output_type": "stream",
     "name": "stderr",
     "text": [
      " 35%|███▌      | 28/80 [1:16:56<2:26:26, 168.97s/it]"
     ]
    },
    {
     "output_type": "stream",
     "name": "stdout",
     "text": [
      "{'ner': 383610.0927145481}\n"
     ]
    },
    {
     "output_type": "stream",
     "name": "stderr",
     "text": [
      " 36%|███▋      | 29/80 [1:22:33<3:06:22, 219.26s/it]"
     ]
    },
    {
     "output_type": "stream",
     "name": "stdout",
     "text": [
      "{'ner': 373102.4840044975}\n"
     ]
    },
    {
     "output_type": "stream",
     "name": "stderr",
     "text": [
      " 36%|███▋      | 29/80 [1:26:10<2:31:33, 178.31s/it]\n"
     ]
    },
    {
     "output_type": "error",
     "ename": "KeyboardInterrupt",
     "evalue": "",
     "traceback": [
      "\u001b[1;31m---------------------------------------------------------------------------\u001b[0m",
      "\u001b[1;31mKeyboardInterrupt\u001b[0m                         Traceback (most recent call last)",
      "\u001b[1;32m<ipython-input-42-89a8ad06aef9>\u001b[0m in \u001b[0;36m<module>\u001b[1;34m\u001b[0m\n\u001b[1;32m----> 1\u001b[1;33m \u001b[0mmodel_ner\u001b[0m \u001b[1;33m=\u001b[0m \u001b[0mtrain_new_ner\u001b[0m\u001b[1;33m(\u001b[0m\u001b[0mTRAIN_DATA\u001b[0m\u001b[1;33m,\u001b[0m \u001b[1;36m80\u001b[0m\u001b[1;33m)\u001b[0m\u001b[1;33m\u001b[0m\u001b[1;33m\u001b[0m\u001b[0m\n\u001b[0m",
      "\u001b[1;32m<ipython-input-40-135cabc61fd7>\u001b[0m in \u001b[0;36mtrain_new_ner\u001b[1;34m(data, n_interations, model)\u001b[0m\n\u001b[0;32m     30\u001b[0m                 \u001b[1;32mtry\u001b[0m\u001b[1;33m:\u001b[0m\u001b[1;33m\u001b[0m\u001b[1;33m\u001b[0m\u001b[0m\n\u001b[0;32m     31\u001b[0m \u001b[1;33m\u001b[0m\u001b[0m\n\u001b[1;32m---> 32\u001b[1;33m                     nlp_spacy.update(\n\u001b[0m\u001b[0;32m     33\u001b[0m                         \u001b[1;33m[\u001b[0m\u001b[0mtext\u001b[0m\u001b[1;33m]\u001b[0m\u001b[1;33m,\u001b[0m \u001b[1;31m#textos\u001b[0m\u001b[1;33m\u001b[0m\u001b[1;33m\u001b[0m\u001b[0m\n\u001b[0;32m     34\u001b[0m                         \u001b[1;33m[\u001b[0m\u001b[0mannotations\u001b[0m\u001b[1;33m]\u001b[0m\u001b[1;33m,\u001b[0m \u001b[1;31m#anotações\u001b[0m\u001b[1;33m\u001b[0m\u001b[1;33m\u001b[0m\u001b[0m\n",
      "\u001b[1;32mC:\\ProgramData\\Anaconda3\\lib\\site-packages\\spacy\\language.py\u001b[0m in \u001b[0;36mupdate\u001b[1;34m(self, docs, golds, drop, sgd, losses, component_cfg)\u001b[0m\n\u001b[0;32m    527\u001b[0m             \u001b[0mkwargs\u001b[0m \u001b[1;33m=\u001b[0m \u001b[0mcomponent_cfg\u001b[0m\u001b[1;33m.\u001b[0m\u001b[0mget\u001b[0m\u001b[1;33m(\u001b[0m\u001b[0mname\u001b[0m\u001b[1;33m,\u001b[0m \u001b[1;33m{\u001b[0m\u001b[1;33m}\u001b[0m\u001b[1;33m)\u001b[0m\u001b[1;33m\u001b[0m\u001b[1;33m\u001b[0m\u001b[0m\n\u001b[0;32m    528\u001b[0m             \u001b[0mkwargs\u001b[0m\u001b[1;33m.\u001b[0m\u001b[0msetdefault\u001b[0m\u001b[1;33m(\u001b[0m\u001b[1;34m\"drop\"\u001b[0m\u001b[1;33m,\u001b[0m \u001b[0mdrop\u001b[0m\u001b[1;33m)\u001b[0m\u001b[1;33m\u001b[0m\u001b[1;33m\u001b[0m\u001b[0m\n\u001b[1;32m--> 529\u001b[1;33m             \u001b[0mproc\u001b[0m\u001b[1;33m.\u001b[0m\u001b[0mupdate\u001b[0m\u001b[1;33m(\u001b[0m\u001b[0mdocs\u001b[0m\u001b[1;33m,\u001b[0m \u001b[0mgolds\u001b[0m\u001b[1;33m,\u001b[0m \u001b[0msgd\u001b[0m\u001b[1;33m=\u001b[0m\u001b[0mget_grads\u001b[0m\u001b[1;33m,\u001b[0m \u001b[0mlosses\u001b[0m\u001b[1;33m=\u001b[0m\u001b[0mlosses\u001b[0m\u001b[1;33m,\u001b[0m \u001b[1;33m**\u001b[0m\u001b[0mkwargs\u001b[0m\u001b[1;33m)\u001b[0m\u001b[1;33m\u001b[0m\u001b[1;33m\u001b[0m\u001b[0m\n\u001b[0m\u001b[0;32m    530\u001b[0m             \u001b[1;32mfor\u001b[0m \u001b[0mkey\u001b[0m\u001b[1;33m,\u001b[0m \u001b[1;33m(\u001b[0m\u001b[0mW\u001b[0m\u001b[1;33m,\u001b[0m \u001b[0mdW\u001b[0m\u001b[1;33m)\u001b[0m \u001b[1;32min\u001b[0m \u001b[0mgrads\u001b[0m\u001b[1;33m.\u001b[0m\u001b[0mitems\u001b[0m\u001b[1;33m(\u001b[0m\u001b[1;33m)\u001b[0m\u001b[1;33m:\u001b[0m\u001b[1;33m\u001b[0m\u001b[1;33m\u001b[0m\u001b[0m\n\u001b[0;32m    531\u001b[0m                 \u001b[0msgd\u001b[0m\u001b[1;33m(\u001b[0m\u001b[0mW\u001b[0m\u001b[1;33m,\u001b[0m \u001b[0mdW\u001b[0m\u001b[1;33m,\u001b[0m \u001b[0mkey\u001b[0m\u001b[1;33m=\u001b[0m\u001b[0mkey\u001b[0m\u001b[1;33m)\u001b[0m\u001b[1;33m\u001b[0m\u001b[1;33m\u001b[0m\u001b[0m\n",
      "\u001b[1;32mnn_parser.pyx\u001b[0m in \u001b[0;36mspacy.syntax.nn_parser.Parser.update\u001b[1;34m()\u001b[0m\n",
      "\u001b[1;32m_parser_model.pyx\u001b[0m in \u001b[0;36mspacy.syntax._parser_model.ParserStepModel.begin_update\u001b[1;34m()\u001b[0m\n",
      "\u001b[1;32mops.pyx\u001b[0m in \u001b[0;36mthinc.neural.ops.Ops.get_dropout_mask\u001b[1;34m()\u001b[0m\n",
      "\u001b[1;32mops.pyx\u001b[0m in \u001b[0;36mthinc.neural.ops.NumpyOps.asarray\u001b[1;34m()\u001b[0m\n",
      "\u001b[1;32mC:\\ProgramData\\Anaconda3\\lib\\site-packages\\numpy\\core\\_asarray.py\u001b[0m in \u001b[0;36masarray\u001b[1;34m(a, dtype, order)\u001b[0m\n\u001b[0;32m     14\u001b[0m ]\n\u001b[0;32m     15\u001b[0m \u001b[1;33m\u001b[0m\u001b[0m\n\u001b[1;32m---> 16\u001b[1;33m \u001b[1;33m@\u001b[0m\u001b[0mset_module\u001b[0m\u001b[1;33m(\u001b[0m\u001b[1;34m'numpy'\u001b[0m\u001b[1;33m)\u001b[0m\u001b[1;33m\u001b[0m\u001b[1;33m\u001b[0m\u001b[0m\n\u001b[0m\u001b[0;32m     17\u001b[0m \u001b[1;32mdef\u001b[0m \u001b[0masarray\u001b[0m\u001b[1;33m(\u001b[0m\u001b[0ma\u001b[0m\u001b[1;33m,\u001b[0m \u001b[0mdtype\u001b[0m\u001b[1;33m=\u001b[0m\u001b[1;32mNone\u001b[0m\u001b[1;33m,\u001b[0m \u001b[0morder\u001b[0m\u001b[1;33m=\u001b[0m\u001b[1;32mNone\u001b[0m\u001b[1;33m)\u001b[0m\u001b[1;33m:\u001b[0m\u001b[1;33m\u001b[0m\u001b[1;33m\u001b[0m\u001b[0m\n\u001b[0;32m     18\u001b[0m     \"\"\"Convert the input to an array.\n",
      "\u001b[1;31mKeyboardInterrupt\u001b[0m: "
     ]
    }
   ],
   "metadata": {}
  }
 ],
 "metadata": {
  "orig_nbformat": 4,
  "language_info": {
   "name": "python",
   "version": "3.8.3",
   "mimetype": "text/x-python",
   "codemirror_mode": {
    "name": "ipython",
    "version": 3
   },
   "pygments_lexer": "ipython3",
   "nbconvert_exporter": "python",
   "file_extension": ".py"
  },
  "kernelspec": {
   "name": "python3",
   "display_name": "Python 3.8.3 64-bit ('base': conda)"
  },
  "interpreter": {
   "hash": "b3ba2566441a7c06988d0923437866b63cedc61552a5af99d1f4fb67d367b25f"
  }
 },
 "nbformat": 4,
 "nbformat_minor": 2
}