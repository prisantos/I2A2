{
 "cells": [
  {
   "cell_type": "markdown",
   "metadata": {},
   "source": [
    "---\n",
    "## Projeto: Titanic - Desafio I2A2\n",
    "---\n",
    "\n",
    "Esta base de dados é um dos mais conhecidos projetos de dados, considerado o *\"Hello Word\"*  da ciência de dados. Iremos utilizar a metodologia CRISP-DM *(Cross Industry Standard Process for Data Mining)*. Neste notebook, iremos a metodologia CRISP-DM *(Cross Industry Standard Processo for Data Mining)*, para melhor entendimento,  iremos dividir esta análise em seções abordando cada etapa da metodologia. \n",
    "\n",
    "\n",
    "\n",
    "####  🚢 Sobre o Titanic \n",
    " Famoso por ter sua história em um dos filmes de maior bilheteria do mundo, o *RSM Titanic* foi um navio britânico operadora pela White Star Line. Um  navio luxuoso e mais seguro de sua época, considerados por muitos o navio inafundável. Sua viagem inaugural foi dia 10 de abril de 1912, mas no dia 14 de abril o navio bateu em um iceberg, dando início uma dos maiores acidentes marítimos do mundo, com mais 1.500 mortes. \n",
    "\n",
    "![Titanic](https://aventurasnahistoria.uol.com.br/media/uploads/titanic_cgzvpEm.jpg)"
   ]
  },
  {
   "cell_type": "markdown",
   "metadata": {},
   "source": [
    "#### 🔎 1. Business Understanding\n",
    "Nesta etapa, é realizada a identificação do problema que se quer resolver. \n",
    "\n",
    "##### **Objetivo**\n",
    "Nesta análise o objetivo é realizar uma análise exploratória dos dados para posteriomente desenvolver um modelo preditivo de sobrevivência no titanic. Para isso, iremos fazer levantar algumas questões ao longo desse projeto."
   ]
  },
  {
   "cell_type": "markdown",
   "metadata": {},
   "source": [
    "#### 📑 2. Data Understanding\n",
    "\n",
    "Agora iremos, coletar e tratar os dados para atingir o nosso objetivo. Para esse projeto serão utilizadas duas bases: *train* e *test*."
   ]
  },
  {
   "cell_type": "markdown",
   "metadata": {},
   "source": [
    "*Data Dictionary*\n",
    "\n",
    "**Kaggle_Pass_Id:** Id do Kaggle \n",
    "\n",
    "**pclass:** Tipo do bilhete da classe\n",
    "\n",
    "**survived:** Sobreviveu -> Sim = 1 , Não = 0\n",
    "\n",
    "**name:** Nome \n",
    "\n",
    "**sex:** Sexo \n",
    "\n",
    "**age:** Idade \n",
    "\n",
    "**sibsp:** Irmãos/cônjuges a bordo do Titanic\n",
    "\n",
    "**parch:** Pais/filhos a bordo do Titanic\n",
    "\n",
    "**ticket:** Número do bilhete\n",
    "\n",
    "**fare:** Tarifa do passageiro \n",
    "\n",
    "**cabin:** Número da cabine \n",
    "\n",
    "**embarked:** Porto de embarque C = Cherbourg, Q = Queenstown, S = Southampton\n",
    "\n",
    "**boat:**  Número do bote salva vida \n",
    "\n",
    "**body:** não identificado \n",
    "\n",
    "**home.dest:**  Destino\n",
    "\n",
    "**orig_seq:** Identificador sequencial"
   ]
  },
  {
   "cell_type": "markdown",
   "metadata": {},
   "source": [
    "##### 2.1 Importação das bibliotecas"
   ]
  },
  {
   "cell_type": "code",
   "execution_count": 1,
   "metadata": {},
   "outputs": [],
   "source": [
    "#carregando as bibliotecas\n",
    "import pandas as pd \n",
    "import numpy as np \n",
    "import seaborn as sns\n",
    "import matplotlib.pyplot as plt\n",
    "from matplotlib import rcParams\n",
    "\n",
    "import math\n",
    "import re\n",
    "\n",
    "import warnings\n",
    "\n",
    "#mensagens de warnings \n",
    "warnings.filterwarnings(\"ignore\")"
   ]
  },
  {
   "cell_type": "code",
   "execution_count": 2,
   "metadata": {},
   "outputs": [],
   "source": [
    "#configs \n",
    "%matplotlib inline\n",
    "\n",
    "plt.style.use('fivethirtyeight')\n",
    "sns.set(context='notebook', palette='pastel')\n",
    "rcParams['figure.figsize'] = 8,6"
   ]
  },
  {
   "cell_type": "markdown",
   "metadata": {},
   "source": [
    "##### 2.2 Coleta dos Dados"
   ]
  },
  {
   "cell_type": "markdown",
   "metadata": {},
   "source": [
    "Para esta análise usaremos dois arquivos CSV: \n",
    "- train.csv: conjunto de dados de treinamento, contém a variável alvo (sobreviveu ou não) e as informações sobre cada passageiros.\n",
    "- test.csv: conjuntos de dados de teste e não contém a variável alvo. \n",
    "Nesta análise, usaremos toda a base (treino+teste) para realizar a análise exploratória dos dados. "
   ]
  },
  {
   "cell_type": "code",
   "execution_count": 3,
   "metadata": {},
   "outputs": [
    {
     "data": {
      "text/html": [
       "<div>\n",
       "<style scoped>\n",
       "    .dataframe tbody tr th:only-of-type {\n",
       "        vertical-align: middle;\n",
       "    }\n",
       "\n",
       "    .dataframe tbody tr th {\n",
       "        vertical-align: top;\n",
       "    }\n",
       "\n",
       "    .dataframe thead th {\n",
       "        text-align: right;\n",
       "    }\n",
       "</style>\n",
       "<table border=\"1\" class=\"dataframe\">\n",
       "  <thead>\n",
       "    <tr style=\"text-align: right;\">\n",
       "      <th></th>\n",
       "      <th>Kaggle_Pass_Id</th>\n",
       "      <th>pclass</th>\n",
       "      <th>survived</th>\n",
       "      <th>name</th>\n",
       "      <th>sex</th>\n",
       "      <th>age</th>\n",
       "      <th>sibsp</th>\n",
       "      <th>parch</th>\n",
       "      <th>ticket</th>\n",
       "      <th>fare</th>\n",
       "      <th>cabin</th>\n",
       "      <th>embarked</th>\n",
       "      <th>boat</th>\n",
       "      <th>body</th>\n",
       "      <th>home.dest</th>\n",
       "      <th>orig_seq</th>\n",
       "    </tr>\n",
       "  </thead>\n",
       "  <tbody>\n",
       "    <tr>\n",
       "      <th>0</th>\n",
       "      <td>1</td>\n",
       "      <td>3</td>\n",
       "      <td>0</td>\n",
       "      <td>Braund, Mr. Owen Harris</td>\n",
       "      <td>male</td>\n",
       "      <td>22.0</td>\n",
       "      <td>1</td>\n",
       "      <td>0</td>\n",
       "      <td>A/5 21171</td>\n",
       "      <td>7.2500</td>\n",
       "      <td>NaN</td>\n",
       "      <td>S</td>\n",
       "      <td>NaN</td>\n",
       "      <td>NaN</td>\n",
       "      <td>Bridgerule, Devon</td>\n",
       "      <td>690</td>\n",
       "    </tr>\n",
       "    <tr>\n",
       "      <th>1</th>\n",
       "      <td>2</td>\n",
       "      <td>1</td>\n",
       "      <td>1</td>\n",
       "      <td>Cumings, Mrs. John Bradley (Florence Briggs Th...</td>\n",
       "      <td>female</td>\n",
       "      <td>38.0</td>\n",
       "      <td>1</td>\n",
       "      <td>0</td>\n",
       "      <td>PC 17599</td>\n",
       "      <td>71.2833</td>\n",
       "      <td>C85</td>\n",
       "      <td>C</td>\n",
       "      <td>4</td>\n",
       "      <td>NaN</td>\n",
       "      <td>New York, NY</td>\n",
       "      <td>86</td>\n",
       "    </tr>\n",
       "    <tr>\n",
       "      <th>2</th>\n",
       "      <td>3</td>\n",
       "      <td>3</td>\n",
       "      <td>1</td>\n",
       "      <td>Heikkinen, Miss. Laina</td>\n",
       "      <td>female</td>\n",
       "      <td>26.0</td>\n",
       "      <td>0</td>\n",
       "      <td>0</td>\n",
       "      <td>STON/O2. 3101282</td>\n",
       "      <td>7.9250</td>\n",
       "      <td>NaN</td>\n",
       "      <td>S</td>\n",
       "      <td>NaN</td>\n",
       "      <td>NaN</td>\n",
       "      <td>NaN</td>\n",
       "      <td>861</td>\n",
       "    </tr>\n",
       "    <tr>\n",
       "      <th>3</th>\n",
       "      <td>4</td>\n",
       "      <td>1</td>\n",
       "      <td>1</td>\n",
       "      <td>Futrelle, Mrs. Jacques Heath (Lily May Peel)</td>\n",
       "      <td>female</td>\n",
       "      <td>35.0</td>\n",
       "      <td>1</td>\n",
       "      <td>0</td>\n",
       "      <td>113803</td>\n",
       "      <td>53.1000</td>\n",
       "      <td>C123</td>\n",
       "      <td>S</td>\n",
       "      <td>D</td>\n",
       "      <td>NaN</td>\n",
       "      <td>Scituate, MA</td>\n",
       "      <td>128</td>\n",
       "    </tr>\n",
       "    <tr>\n",
       "      <th>4</th>\n",
       "      <td>5</td>\n",
       "      <td>3</td>\n",
       "      <td>0</td>\n",
       "      <td>Allen, Mr. William Henry</td>\n",
       "      <td>male</td>\n",
       "      <td>35.0</td>\n",
       "      <td>0</td>\n",
       "      <td>0</td>\n",
       "      <td>373450</td>\n",
       "      <td>8.0500</td>\n",
       "      <td>NaN</td>\n",
       "      <td>S</td>\n",
       "      <td>NaN</td>\n",
       "      <td>NaN</td>\n",
       "      <td>Lower Clapton, Middlesex or Erdington, Birmingham</td>\n",
       "      <td>619</td>\n",
       "    </tr>\n",
       "  </tbody>\n",
       "</table>\n",
       "</div>"
      ],
      "text/plain": [
       "   Kaggle_Pass_Id  pclass  survived  \\\n",
       "0               1       3         0   \n",
       "1               2       1         1   \n",
       "2               3       3         1   \n",
       "3               4       1         1   \n",
       "4               5       3         0   \n",
       "\n",
       "                                                name     sex   age  sibsp  \\\n",
       "0                            Braund, Mr. Owen Harris    male  22.0      1   \n",
       "1  Cumings, Mrs. John Bradley (Florence Briggs Th...  female  38.0      1   \n",
       "2                             Heikkinen, Miss. Laina  female  26.0      0   \n",
       "3       Futrelle, Mrs. Jacques Heath (Lily May Peel)  female  35.0      1   \n",
       "4                           Allen, Mr. William Henry    male  35.0      0   \n",
       "\n",
       "   parch            ticket     fare cabin embarked boat  body  \\\n",
       "0      0         A/5 21171   7.2500   NaN        S  NaN   NaN   \n",
       "1      0          PC 17599  71.2833   C85        C    4   NaN   \n",
       "2      0  STON/O2. 3101282   7.9250   NaN        S  NaN   NaN   \n",
       "3      0            113803  53.1000  C123        S    D   NaN   \n",
       "4      0            373450   8.0500   NaN        S  NaN   NaN   \n",
       "\n",
       "                                           home.dest  orig_seq  \n",
       "0                                  Bridgerule, Devon       690  \n",
       "1                                       New York, NY        86  \n",
       "2                                                NaN       861  \n",
       "3                                       Scituate, MA       128  \n",
       "4  Lower Clapton, Middlesex or Erdington, Birmingham       619  "
      ]
     },
     "execution_count": 3,
     "metadata": {},
     "output_type": "execute_result"
    }
   ],
   "source": [
    "#data load - train\n",
    "train = pd.read_excel('data/Train.xlsx', engine=\"openpyxl\")\n",
    "train.head()"
   ]
  },
  {
   "cell_type": "code",
   "execution_count": 4,
   "metadata": {},
   "outputs": [
    {
     "data": {
      "text/html": [
       "<div>\n",
       "<style scoped>\n",
       "    .dataframe tbody tr th:only-of-type {\n",
       "        vertical-align: middle;\n",
       "    }\n",
       "\n",
       "    .dataframe tbody tr th {\n",
       "        vertical-align: top;\n",
       "    }\n",
       "\n",
       "    .dataframe thead th {\n",
       "        text-align: right;\n",
       "    }\n",
       "</style>\n",
       "<table border=\"1\" class=\"dataframe\">\n",
       "  <thead>\n",
       "    <tr style=\"text-align: right;\">\n",
       "      <th></th>\n",
       "      <th>Kaggle_Pass_Id</th>\n",
       "      <th>pclass</th>\n",
       "      <th>name</th>\n",
       "      <th>sex</th>\n",
       "      <th>age</th>\n",
       "      <th>sibsp</th>\n",
       "      <th>parch</th>\n",
       "      <th>ticket</th>\n",
       "      <th>fare</th>\n",
       "      <th>cabin</th>\n",
       "      <th>embarked</th>\n",
       "      <th>boat</th>\n",
       "      <th>body</th>\n",
       "      <th>home.dest</th>\n",
       "      <th>orig_seq</th>\n",
       "    </tr>\n",
       "  </thead>\n",
       "  <tbody>\n",
       "    <tr>\n",
       "      <th>0</th>\n",
       "      <td>892</td>\n",
       "      <td>3</td>\n",
       "      <td>Kelly, Mr. James</td>\n",
       "      <td>male</td>\n",
       "      <td>34.5</td>\n",
       "      <td>0</td>\n",
       "      <td>0</td>\n",
       "      <td>330911</td>\n",
       "      <td>7.8292</td>\n",
       "      <td>NaN</td>\n",
       "      <td>Q</td>\n",
       "      <td>NaN</td>\n",
       "      <td>70.0</td>\n",
       "      <td>NaN</td>\n",
       "      <td>925</td>\n",
       "    </tr>\n",
       "    <tr>\n",
       "      <th>1</th>\n",
       "      <td>893</td>\n",
       "      <td>3</td>\n",
       "      <td>Wilkes, Mrs. James (Ellen Needs)</td>\n",
       "      <td>female</td>\n",
       "      <td>47.0</td>\n",
       "      <td>1</td>\n",
       "      <td>0</td>\n",
       "      <td>363272</td>\n",
       "      <td>7.0000</td>\n",
       "      <td>NaN</td>\n",
       "      <td>S</td>\n",
       "      <td>NaN</td>\n",
       "      <td>NaN</td>\n",
       "      <td>NaN</td>\n",
       "      <td>1291</td>\n",
       "    </tr>\n",
       "    <tr>\n",
       "      <th>2</th>\n",
       "      <td>894</td>\n",
       "      <td>2</td>\n",
       "      <td>Myles, Mr. Thomas Francis</td>\n",
       "      <td>male</td>\n",
       "      <td>62.0</td>\n",
       "      <td>0</td>\n",
       "      <td>0</td>\n",
       "      <td>240276</td>\n",
       "      <td>9.6875</td>\n",
       "      <td>NaN</td>\n",
       "      <td>Q</td>\n",
       "      <td>NaN</td>\n",
       "      <td>NaN</td>\n",
       "      <td>Cambridge, MA</td>\n",
       "      <td>512</td>\n",
       "    </tr>\n",
       "    <tr>\n",
       "      <th>3</th>\n",
       "      <td>895</td>\n",
       "      <td>3</td>\n",
       "      <td>Wirz, Mr. Albert</td>\n",
       "      <td>male</td>\n",
       "      <td>27.0</td>\n",
       "      <td>0</td>\n",
       "      <td>0</td>\n",
       "      <td>315154</td>\n",
       "      <td>8.6625</td>\n",
       "      <td>NaN</td>\n",
       "      <td>S</td>\n",
       "      <td>NaN</td>\n",
       "      <td>131.0</td>\n",
       "      <td>NaN</td>\n",
       "      <td>1297</td>\n",
       "    </tr>\n",
       "    <tr>\n",
       "      <th>4</th>\n",
       "      <td>896</td>\n",
       "      <td>3</td>\n",
       "      <td>Hirvonen, Mrs. Alexander (Helga E Lindqvist)</td>\n",
       "      <td>female</td>\n",
       "      <td>22.0</td>\n",
       "      <td>1</td>\n",
       "      <td>1</td>\n",
       "      <td>3101298</td>\n",
       "      <td>12.2875</td>\n",
       "      <td>NaN</td>\n",
       "      <td>S</td>\n",
       "      <td>15</td>\n",
       "      <td>NaN</td>\n",
       "      <td>NaN</td>\n",
       "      <td>868</td>\n",
       "    </tr>\n",
       "  </tbody>\n",
       "</table>\n",
       "</div>"
      ],
      "text/plain": [
       "   Kaggle_Pass_Id  pclass                                          name  \\\n",
       "0             892       3                              Kelly, Mr. James   \n",
       "1             893       3              Wilkes, Mrs. James (Ellen Needs)   \n",
       "2             894       2                     Myles, Mr. Thomas Francis   \n",
       "3             895       3                              Wirz, Mr. Albert   \n",
       "4             896       3  Hirvonen, Mrs. Alexander (Helga E Lindqvist)   \n",
       "\n",
       "      sex   age  sibsp  parch   ticket     fare cabin embarked boat   body  \\\n",
       "0    male  34.5      0      0   330911   7.8292   NaN        Q  NaN   70.0   \n",
       "1  female  47.0      1      0   363272   7.0000   NaN        S  NaN    NaN   \n",
       "2    male  62.0      0      0   240276   9.6875   NaN        Q  NaN    NaN   \n",
       "3    male  27.0      0      0   315154   8.6625   NaN        S  NaN  131.0   \n",
       "4  female  22.0      1      1  3101298  12.2875   NaN        S   15    NaN   \n",
       "\n",
       "       home.dest  orig_seq  \n",
       "0            NaN       925  \n",
       "1            NaN      1291  \n",
       "2  Cambridge, MA       512  \n",
       "3            NaN      1297  \n",
       "4            NaN       868  "
      ]
     },
     "execution_count": 4,
     "metadata": {},
     "output_type": "execute_result"
    }
   ],
   "source": [
    "#data load - test \n",
    "test = pd.read_excel('data/Test.xlsx', engine=\"openpyxl\")\n",
    "test.head()"
   ]
  },
  {
   "cell_type": "code",
   "execution_count": 5,
   "metadata": {},
   "outputs": [],
   "source": [
    "data_full =  pd.concat([train, test], ignore_index=True)"
   ]
  },
  {
   "cell_type": "code",
   "execution_count": 6,
   "metadata": {},
   "outputs": [
    {
     "data": {
      "text/html": [
       "<div>\n",
       "<style scoped>\n",
       "    .dataframe tbody tr th:only-of-type {\n",
       "        vertical-align: middle;\n",
       "    }\n",
       "\n",
       "    .dataframe tbody tr th {\n",
       "        vertical-align: top;\n",
       "    }\n",
       "\n",
       "    .dataframe thead th {\n",
       "        text-align: right;\n",
       "    }\n",
       "</style>\n",
       "<table border=\"1\" class=\"dataframe\">\n",
       "  <thead>\n",
       "    <tr style=\"text-align: right;\">\n",
       "      <th></th>\n",
       "      <th>Kaggle_Pass_Id</th>\n",
       "      <th>pclass</th>\n",
       "      <th>survived</th>\n",
       "      <th>name</th>\n",
       "      <th>sex</th>\n",
       "      <th>age</th>\n",
       "      <th>sibsp</th>\n",
       "      <th>parch</th>\n",
       "      <th>ticket</th>\n",
       "      <th>fare</th>\n",
       "      <th>cabin</th>\n",
       "      <th>embarked</th>\n",
       "      <th>boat</th>\n",
       "      <th>body</th>\n",
       "      <th>home.dest</th>\n",
       "      <th>orig_seq</th>\n",
       "    </tr>\n",
       "  </thead>\n",
       "  <tbody>\n",
       "    <tr>\n",
       "      <th>0</th>\n",
       "      <td>1</td>\n",
       "      <td>3</td>\n",
       "      <td>0.0</td>\n",
       "      <td>Braund, Mr. Owen Harris</td>\n",
       "      <td>male</td>\n",
       "      <td>22.0</td>\n",
       "      <td>1</td>\n",
       "      <td>0</td>\n",
       "      <td>A/5 21171</td>\n",
       "      <td>7.2500</td>\n",
       "      <td>NaN</td>\n",
       "      <td>S</td>\n",
       "      <td>NaN</td>\n",
       "      <td>NaN</td>\n",
       "      <td>Bridgerule, Devon</td>\n",
       "      <td>690</td>\n",
       "    </tr>\n",
       "    <tr>\n",
       "      <th>1</th>\n",
       "      <td>2</td>\n",
       "      <td>1</td>\n",
       "      <td>1.0</td>\n",
       "      <td>Cumings, Mrs. John Bradley (Florence Briggs Th...</td>\n",
       "      <td>female</td>\n",
       "      <td>38.0</td>\n",
       "      <td>1</td>\n",
       "      <td>0</td>\n",
       "      <td>PC 17599</td>\n",
       "      <td>71.2833</td>\n",
       "      <td>C85</td>\n",
       "      <td>C</td>\n",
       "      <td>4</td>\n",
       "      <td>NaN</td>\n",
       "      <td>New York, NY</td>\n",
       "      <td>86</td>\n",
       "    </tr>\n",
       "    <tr>\n",
       "      <th>2</th>\n",
       "      <td>3</td>\n",
       "      <td>3</td>\n",
       "      <td>1.0</td>\n",
       "      <td>Heikkinen, Miss. Laina</td>\n",
       "      <td>female</td>\n",
       "      <td>26.0</td>\n",
       "      <td>0</td>\n",
       "      <td>0</td>\n",
       "      <td>STON/O2. 3101282</td>\n",
       "      <td>7.9250</td>\n",
       "      <td>NaN</td>\n",
       "      <td>S</td>\n",
       "      <td>NaN</td>\n",
       "      <td>NaN</td>\n",
       "      <td>NaN</td>\n",
       "      <td>861</td>\n",
       "    </tr>\n",
       "    <tr>\n",
       "      <th>3</th>\n",
       "      <td>4</td>\n",
       "      <td>1</td>\n",
       "      <td>1.0</td>\n",
       "      <td>Futrelle, Mrs. Jacques Heath (Lily May Peel)</td>\n",
       "      <td>female</td>\n",
       "      <td>35.0</td>\n",
       "      <td>1</td>\n",
       "      <td>0</td>\n",
       "      <td>113803</td>\n",
       "      <td>53.1000</td>\n",
       "      <td>C123</td>\n",
       "      <td>S</td>\n",
       "      <td>D</td>\n",
       "      <td>NaN</td>\n",
       "      <td>Scituate, MA</td>\n",
       "      <td>128</td>\n",
       "    </tr>\n",
       "    <tr>\n",
       "      <th>4</th>\n",
       "      <td>5</td>\n",
       "      <td>3</td>\n",
       "      <td>0.0</td>\n",
       "      <td>Allen, Mr. William Henry</td>\n",
       "      <td>male</td>\n",
       "      <td>35.0</td>\n",
       "      <td>0</td>\n",
       "      <td>0</td>\n",
       "      <td>373450</td>\n",
       "      <td>8.0500</td>\n",
       "      <td>NaN</td>\n",
       "      <td>S</td>\n",
       "      <td>NaN</td>\n",
       "      <td>NaN</td>\n",
       "      <td>Lower Clapton, Middlesex or Erdington, Birmingham</td>\n",
       "      <td>619</td>\n",
       "    </tr>\n",
       "  </tbody>\n",
       "</table>\n",
       "</div>"
      ],
      "text/plain": [
       "   Kaggle_Pass_Id  pclass  survived  \\\n",
       "0               1       3       0.0   \n",
       "1               2       1       1.0   \n",
       "2               3       3       1.0   \n",
       "3               4       1       1.0   \n",
       "4               5       3       0.0   \n",
       "\n",
       "                                                name     sex   age  sibsp  \\\n",
       "0                            Braund, Mr. Owen Harris    male  22.0      1   \n",
       "1  Cumings, Mrs. John Bradley (Florence Briggs Th...  female  38.0      1   \n",
       "2                             Heikkinen, Miss. Laina  female  26.0      0   \n",
       "3       Futrelle, Mrs. Jacques Heath (Lily May Peel)  female  35.0      1   \n",
       "4                           Allen, Mr. William Henry    male  35.0      0   \n",
       "\n",
       "   parch            ticket     fare cabin embarked boat  body  \\\n",
       "0      0         A/5 21171   7.2500   NaN        S  NaN   NaN   \n",
       "1      0          PC 17599  71.2833   C85        C    4   NaN   \n",
       "2      0  STON/O2. 3101282   7.9250   NaN        S  NaN   NaN   \n",
       "3      0            113803  53.1000  C123        S    D   NaN   \n",
       "4      0            373450   8.0500   NaN        S  NaN   NaN   \n",
       "\n",
       "                                           home.dest  orig_seq  \n",
       "0                                  Bridgerule, Devon       690  \n",
       "1                                       New York, NY        86  \n",
       "2                                                NaN       861  \n",
       "3                                       Scituate, MA       128  \n",
       "4  Lower Clapton, Middlesex or Erdington, Birmingham       619  "
      ]
     },
     "execution_count": 6,
     "metadata": {},
     "output_type": "execute_result"
    }
   ],
   "source": [
    "data_full.head()"
   ]
  },
  {
   "cell_type": "markdown",
   "metadata": {},
   "source": [
    "Nessa parte, iremos verificar como estão os dados, verificando sua dimensão, colunas e dados nulos."
   ]
  },
  {
   "cell_type": "code",
   "execution_count": 7,
   "metadata": {},
   "outputs": [
    {
     "data": {
      "text/plain": [
       "(1309, 16)"
      ]
     },
     "execution_count": 7,
     "metadata": {},
     "output_type": "execute_result"
    }
   ],
   "source": [
    "data_full.shape"
   ]
  },
  {
   "cell_type": "code",
   "execution_count": 8,
   "metadata": {},
   "outputs": [
    {
     "name": "stdout",
     "output_type": "stream",
     "text": [
      "O dataset possui 1309 linhas e 16 colunas\n"
     ]
    }
   ],
   "source": [
    "print('O dataset possui {} linhas e {} colunas'.format(data_full.shape[0], data_full.shape[1]))"
   ]
  },
  {
   "cell_type": "code",
   "execution_count": 9,
   "metadata": {},
   "outputs": [
    {
     "data": {
      "text/plain": [
       "array(['Kaggle_Pass_Id', 'pclass', 'survived', 'name', 'sex', 'age',\n",
       "       'sibsp', 'parch', 'ticket', 'fare', 'cabin', 'embarked', 'boat',\n",
       "       'body', 'home.dest', 'orig_seq'], dtype=object)"
      ]
     },
     "execution_count": 9,
     "metadata": {},
     "output_type": "execute_result"
    }
   ],
   "source": [
    "data_full.columns.values"
   ]
  },
  {
   "cell_type": "code",
   "execution_count": 10,
   "metadata": {},
   "outputs": [
    {
     "name": "stdout",
     "output_type": "stream",
     "text": [
      "<class 'pandas.core.frame.DataFrame'>\n",
      "RangeIndex: 1309 entries, 0 to 1308\n",
      "Data columns (total 16 columns):\n",
      " #   Column          Non-Null Count  Dtype  \n",
      "---  ------          --------------  -----  \n",
      " 0   Kaggle_Pass_Id  1309 non-null   int64  \n",
      " 1   pclass          1309 non-null   int64  \n",
      " 2   survived        891 non-null    float64\n",
      " 3   name            1309 non-null   object \n",
      " 4   sex             1309 non-null   object \n",
      " 5   age             1046 non-null   float64\n",
      " 6   sibsp           1309 non-null   int64  \n",
      " 7   parch           1309 non-null   int64  \n",
      " 8   ticket          1309 non-null   object \n",
      " 9   fare            1308 non-null   float64\n",
      " 10  cabin           295 non-null    object \n",
      " 11  embarked        1307 non-null   object \n",
      " 12  boat            486 non-null    object \n",
      " 13  body            121 non-null    float64\n",
      " 14  home.dest       745 non-null    object \n",
      " 15  orig_seq        1309 non-null   int64  \n",
      "dtypes: float64(4), int64(5), object(7)\n",
      "memory usage: 163.8+ KB\n",
      "None\n"
     ]
    }
   ],
   "source": [
    "print (data_full.info())"
   ]
  },
  {
   "cell_type": "markdown",
   "metadata": {},
   "source": [
    "##### 2.3 Verificação de dados Nulos"
   ]
  },
  {
   "cell_type": "code",
   "execution_count": 11,
   "metadata": {},
   "outputs": [
    {
     "data": {
      "text/plain": [
       "Kaggle_Pass_Id       0\n",
       "pclass               0\n",
       "survived           418\n",
       "name                 0\n",
       "sex                  0\n",
       "age                263\n",
       "sibsp                0\n",
       "parch                0\n",
       "ticket               0\n",
       "fare                 1\n",
       "cabin             1014\n",
       "embarked             2\n",
       "boat               823\n",
       "body              1188\n",
       "home.dest          564\n",
       "orig_seq             0\n",
       "dtype: int64"
      ]
     },
     "execution_count": 11,
     "metadata": {},
     "output_type": "execute_result"
    }
   ],
   "source": [
    "#verificar valores nulos \n",
    "data_full.isnull().sum()"
   ]
  },
  {
   "cell_type": "markdown",
   "metadata": {},
   "source": [
    "Na verificação de dados nulos, podemos ver que temos algumas colunas importante para nossa análise com valores nulos/NaN como: `survived`, `age` e `cabin`. Existem opções para fazer esse tratamento: \n",
    "- Eliminar os dados nulos \n",
    "- Substituir os dados nulos por valores (média, valor fixo)\n",
    "\n",
    "\n",
    "Como essas colunas são importantes para nossa análise, eliminar os dados faltantes perderemos informaçõe que são fundamentais, por isso para a coluna `age` iremos substituir pela média de idade.\n",
    "Para a coluna `survived` iremos eliminar as colunas com dados nulos "
   ]
  },
  {
   "cell_type": "code",
   "execution_count": 12,
   "metadata": {},
   "outputs": [
    {
     "name": "stdout",
     "output_type": "stream",
     "text": [
      "A média da idade dos passageiros do titanic é 29 anos\n"
     ]
    }
   ],
   "source": [
    "#obtenddo a média das idades \n",
    "media_idade = math.floor(data_full['age'].mean())\n",
    "\n",
    "#imprimindo a média das idades \n",
    "print('A média da idade dos passageiros do titanic é {} anos'.format(media_idade))"
   ]
  },
  {
   "cell_type": "code",
   "execution_count": 13,
   "metadata": {},
   "outputs": [],
   "source": [
    "#substituindo os valores nulos pela média das idades \n",
    "data_full['age'] = data_full['age'].fillna(media_idade)"
   ]
  },
  {
   "cell_type": "code",
   "execution_count": 14,
   "metadata": {},
   "outputs": [
    {
     "name": "stdout",
     "output_type": "stream",
     "text": [
      "Quantidade de passageiros: 891\n",
      "Quantidade de passageiros sobreviventes: 549\n",
      "Quantidade de passageiros mortos: 342\n"
     ]
    }
   ],
   "source": [
    "print('Quantidade de passageiros:', data_full['survived'].value_counts()[0] + data_full['survived'].value_counts()[1])\n",
    "print ('Quantidade de passageiros sobreviventes:', data_full['survived'].value_counts()[0])\n",
    "print ('Quantidade de passageiros mortos:', data_full['survived'].value_counts()[1])"
   ]
  },
  {
   "cell_type": "code",
   "execution_count": 15,
   "metadata": {},
   "outputs": [
    {
     "data": {
      "image/png": "[encoded data removed]",
      "text/plain": [
       "<Figure size 576x432 with 1 Axes>"
      ]
     },
     "metadata": {},
     "output_type": "display_data"
    }
   ],
   "source": [
    "sns.countplot (x='survived', data=data_full, order= data_full['survived'].value_counts().index)\n",
    "plt.title('Passageiros Sobreviventes e Mortos', fontweight='bold', fontsize=14)\n",
    "plt.ylabel(\"Número de Passageiros\")\n",
    "plt.xticks(np.arange(2), ['Mortos', 'Sobreviventes'])\n",
    "plt.tight_layout()\n",
    "plt.show();"
   ]
  },
  {
   "cell_type": "code",
   "execution_count": 16,
   "metadata": {},
   "outputs": [
    {
     "data": {
      "text/plain": [
       "0.0    0.616162\n",
       "1.0    0.383838\n",
       "Name: survived, dtype: float64"
      ]
     },
     "execution_count": 16,
     "metadata": {},
     "output_type": "execute_result"
    }
   ],
   "source": [
    "data_full['survived'].value_counts(normalize = True)"
   ]
  },
  {
   "cell_type": "markdown",
   "metadata": {},
   "source": [
    "Verificamos que `cabin` também possui valores nulos, não podemos excluir pois possui informações importantes sobre a coluna `survived`. Para  realizar esse tratamento, iremos substituir os valores nulos por `X` que representa informação não cadastrada. Iremos verificar durante este notebook que com essa informação teremos também a informação dos andares das cabines."
   ]
  },
  {
   "cell_type": "code",
   "execution_count": 17,
   "metadata": {},
   "outputs": [],
   "source": [
    "#substituindo  os valores NaN  da coluna cabin por  não encontrada \n",
    "data_full['cabin'].fillna('X', inplace=True)"
   ]
  },
  {
   "cell_type": "code",
   "execution_count": 18,
   "metadata": {},
   "outputs": [
    {
     "data": {
      "text/plain": [
       "Kaggle_Pass_Id       0\n",
       "pclass               0\n",
       "survived           418\n",
       "name                 0\n",
       "sex                  0\n",
       "age                  0\n",
       "sibsp                0\n",
       "parch                0\n",
       "ticket               0\n",
       "fare                 1\n",
       "cabin                0\n",
       "embarked             2\n",
       "boat               823\n",
       "body              1188\n",
       "home.dest          564\n",
       "orig_seq             0\n",
       "dtype: int64"
      ]
     },
     "execution_count": 18,
     "metadata": {},
     "output_type": "execute_result"
    }
   ],
   "source": [
    "#verificando novamente os dados nulos \n",
    "data_full.isnull().sum()"
   ]
  },
  {
   "cell_type": "code",
   "execution_count": 19,
   "metadata": {},
   "outputs": [
    {
     "data": {
      "text/html": [
       "<div>\n",
       "<style scoped>\n",
       "    .dataframe tbody tr th:only-of-type {\n",
       "        vertical-align: middle;\n",
       "    }\n",
       "\n",
       "    .dataframe tbody tr th {\n",
       "        vertical-align: top;\n",
       "    }\n",
       "\n",
       "    .dataframe thead th {\n",
       "        text-align: right;\n",
       "    }\n",
       "</style>\n",
       "<table border=\"1\" class=\"dataframe\">\n",
       "  <thead>\n",
       "    <tr style=\"text-align: right;\">\n",
       "      <th></th>\n",
       "      <th>Kaggle_Pass_Id</th>\n",
       "      <th>pclass</th>\n",
       "      <th>survived</th>\n",
       "      <th>age</th>\n",
       "      <th>sibsp</th>\n",
       "      <th>parch</th>\n",
       "      <th>fare</th>\n",
       "      <th>body</th>\n",
       "      <th>orig_seq</th>\n",
       "    </tr>\n",
       "  </thead>\n",
       "  <tbody>\n",
       "    <tr>\n",
       "      <th>count</th>\n",
       "      <td>1309.000000</td>\n",
       "      <td>1309.000000</td>\n",
       "      <td>891.000000</td>\n",
       "      <td>1309.00000</td>\n",
       "      <td>1309.000000</td>\n",
       "      <td>1309.000000</td>\n",
       "      <td>1308.000000</td>\n",
       "      <td>121.000000</td>\n",
       "      <td>1309.000000</td>\n",
       "    </tr>\n",
       "    <tr>\n",
       "      <th>mean</th>\n",
       "      <td>655.000000</td>\n",
       "      <td>2.294882</td>\n",
       "      <td>0.383838</td>\n",
       "      <td>29.70410</td>\n",
       "      <td>0.498854</td>\n",
       "      <td>0.385027</td>\n",
       "      <td>33.295479</td>\n",
       "      <td>160.809917</td>\n",
       "      <td>655.000000</td>\n",
       "    </tr>\n",
       "    <tr>\n",
       "      <th>std</th>\n",
       "      <td>378.020061</td>\n",
       "      <td>0.837836</td>\n",
       "      <td>0.486592</td>\n",
       "      <td>12.88804</td>\n",
       "      <td>1.041658</td>\n",
       "      <td>0.865560</td>\n",
       "      <td>51.758668</td>\n",
       "      <td>97.696922</td>\n",
       "      <td>378.020061</td>\n",
       "    </tr>\n",
       "    <tr>\n",
       "      <th>min</th>\n",
       "      <td>1.000000</td>\n",
       "      <td>1.000000</td>\n",
       "      <td>0.000000</td>\n",
       "      <td>0.16670</td>\n",
       "      <td>0.000000</td>\n",
       "      <td>0.000000</td>\n",
       "      <td>0.000000</td>\n",
       "      <td>1.000000</td>\n",
       "      <td>1.000000</td>\n",
       "    </tr>\n",
       "    <tr>\n",
       "      <th>25%</th>\n",
       "      <td>328.000000</td>\n",
       "      <td>2.000000</td>\n",
       "      <td>0.000000</td>\n",
       "      <td>22.00000</td>\n",
       "      <td>0.000000</td>\n",
       "      <td>0.000000</td>\n",
       "      <td>7.895800</td>\n",
       "      <td>72.000000</td>\n",
       "      <td>328.000000</td>\n",
       "    </tr>\n",
       "    <tr>\n",
       "      <th>50%</th>\n",
       "      <td>655.000000</td>\n",
       "      <td>3.000000</td>\n",
       "      <td>0.000000</td>\n",
       "      <td>29.00000</td>\n",
       "      <td>0.000000</td>\n",
       "      <td>0.000000</td>\n",
       "      <td>14.454200</td>\n",
       "      <td>155.000000</td>\n",
       "      <td>655.000000</td>\n",
       "    </tr>\n",
       "    <tr>\n",
       "      <th>75%</th>\n",
       "      <td>982.000000</td>\n",
       "      <td>3.000000</td>\n",
       "      <td>1.000000</td>\n",
       "      <td>35.00000</td>\n",
       "      <td>1.000000</td>\n",
       "      <td>0.000000</td>\n",
       "      <td>31.275000</td>\n",
       "      <td>256.000000</td>\n",
       "      <td>982.000000</td>\n",
       "    </tr>\n",
       "    <tr>\n",
       "      <th>max</th>\n",
       "      <td>1309.000000</td>\n",
       "      <td>3.000000</td>\n",
       "      <td>1.000000</td>\n",
       "      <td>80.00000</td>\n",
       "      <td>8.000000</td>\n",
       "      <td>9.000000</td>\n",
       "      <td>512.329200</td>\n",
       "      <td>328.000000</td>\n",
       "      <td>1309.000000</td>\n",
       "    </tr>\n",
       "  </tbody>\n",
       "</table>\n",
       "</div>"
      ],
      "text/plain": [
       "       Kaggle_Pass_Id       pclass    survived         age        sibsp  \\\n",
       "count     1309.000000  1309.000000  891.000000  1309.00000  1309.000000   \n",
       "mean       655.000000     2.294882    0.383838    29.70410     0.498854   \n",
       "std        378.020061     0.837836    0.486592    12.88804     1.041658   \n",
       "min          1.000000     1.000000    0.000000     0.16670     0.000000   \n",
       "25%        328.000000     2.000000    0.000000    22.00000     0.000000   \n",
       "50%        655.000000     3.000000    0.000000    29.00000     0.000000   \n",
       "75%        982.000000     3.000000    1.000000    35.00000     1.000000   \n",
       "max       1309.000000     3.000000    1.000000    80.00000     8.000000   \n",
       "\n",
       "             parch         fare        body     orig_seq  \n",
       "count  1309.000000  1308.000000  121.000000  1309.000000  \n",
       "mean      0.385027    33.295479  160.809917   655.000000  \n",
       "std       0.865560    51.758668   97.696922   378.020061  \n",
       "min       0.000000     0.000000    1.000000     1.000000  \n",
       "25%       0.000000     7.895800   72.000000   328.000000  \n",
       "50%       0.000000    14.454200  155.000000   655.000000  \n",
       "75%       0.000000    31.275000  256.000000   982.000000  \n",
       "max       9.000000   512.329200  328.000000  1309.000000  "
      ]
     },
     "execution_count": 19,
     "metadata": {},
     "output_type": "execute_result"
    }
   ],
   "source": [
    "#descrição  estatística \n",
    "data_full.describe()"
   ]
  },
  {
   "cell_type": "markdown",
   "metadata": {},
   "source": [
    "Como podemos observar, na coluna `age` temos a idade mínima de 0.166 (ou seja 1 mês) e a máxima de 80 anos. No decorrer desse notebook, iremos ver que realmente existiu um passageiro sobrevivente com essa idade.  A média das idades dos passageiros é 29 anos. "
   ]
  },
  {
   "cell_type": "code",
   "execution_count": 20,
   "metadata": {},
   "outputs": [
    {
     "data": {
      "text/plain": [
       "(1309, 16)"
      ]
     },
     "execution_count": 20,
     "metadata": {},
     "output_type": "execute_result"
    }
   ],
   "source": [
    "data_full.shape"
   ]
  },
  {
   "cell_type": "markdown",
   "metadata": {},
   "source": [
    "##### Idade X Sobrevivente "
   ]
  },
  {
   "cell_type": "code",
   "execution_count": 21,
   "metadata": {},
   "outputs": [
    {
     "data": {
      "image/png": "[encoded data removed]",
      "text/plain": [
       "<Figure size 576x432 with 1 Axes>"
      ]
     },
     "metadata": {},
     "output_type": "display_data"
    }
   ],
   "source": [
    "ax = sns.boxplot(x=data_full['age'])\n",
    "ax.set_xlabel('Idade dos Passageiros')\n",
    "plt.show();"
   ]
  },
  {
   "cell_type": "markdown",
   "metadata": {},
   "source": [
    "Percebemos que existem idade que podem ser um outliers, iremos verificar essa idade máxima de 80 anos."
   ]
  },
  {
   "cell_type": "code",
   "execution_count": 22,
   "metadata": {},
   "outputs": [
    {
     "data": {
      "text/html": [
       "<div>\n",
       "<style scoped>\n",
       "    .dataframe tbody tr th:only-of-type {\n",
       "        vertical-align: middle;\n",
       "    }\n",
       "\n",
       "    .dataframe tbody tr th {\n",
       "        vertical-align: top;\n",
       "    }\n",
       "\n",
       "    .dataframe thead th {\n",
       "        text-align: right;\n",
       "    }\n",
       "</style>\n",
       "<table border=\"1\" class=\"dataframe\">\n",
       "  <thead>\n",
       "    <tr style=\"text-align: right;\">\n",
       "      <th></th>\n",
       "      <th>Kaggle_Pass_Id</th>\n",
       "      <th>pclass</th>\n",
       "      <th>survived</th>\n",
       "      <th>name</th>\n",
       "      <th>sex</th>\n",
       "      <th>age</th>\n",
       "      <th>sibsp</th>\n",
       "      <th>parch</th>\n",
       "      <th>ticket</th>\n",
       "      <th>fare</th>\n",
       "      <th>cabin</th>\n",
       "      <th>embarked</th>\n",
       "      <th>boat</th>\n",
       "      <th>body</th>\n",
       "      <th>home.dest</th>\n",
       "      <th>orig_seq</th>\n",
       "    </tr>\n",
       "  </thead>\n",
       "  <tbody>\n",
       "    <tr>\n",
       "      <th>630</th>\n",
       "      <td>631</td>\n",
       "      <td>1</td>\n",
       "      <td>1.0</td>\n",
       "      <td>Barkworth, Mr. Algernon Henry Wilson</td>\n",
       "      <td>male</td>\n",
       "      <td>80.0</td>\n",
       "      <td>0</td>\n",
       "      <td>0</td>\n",
       "      <td>27042</td>\n",
       "      <td>30.0</td>\n",
       "      <td>A23</td>\n",
       "      <td>S</td>\n",
       "      <td>B</td>\n",
       "      <td>NaN</td>\n",
       "      <td>Hessle, Yorks</td>\n",
       "      <td>15</td>\n",
       "    </tr>\n",
       "  </tbody>\n",
       "</table>\n",
       "</div>"
      ],
      "text/plain": [
       "     Kaggle_Pass_Id  pclass  survived                                  name  \\\n",
       "630             631       1       1.0  Barkworth, Mr. Algernon Henry Wilson   \n",
       "\n",
       "      sex   age  sibsp  parch ticket  fare cabin embarked boat  body  \\\n",
       "630  male  80.0      0      0  27042  30.0   A23        S    B   NaN   \n",
       "\n",
       "         home.dest  orig_seq  \n",
       "630  Hessle, Yorks        15  "
      ]
     },
     "execution_count": 22,
     "metadata": {},
     "output_type": "execute_result"
    }
   ],
   "source": [
    "sob_idade_max = data_full[(data_full['survived']==1) & (data_full['age']==max(data_full.age))]\n",
    "sob_idade_max"
   ]
  },
  {
   "cell_type": "markdown",
   "metadata": {},
   "source": [
    "Através de pesquisas o Mr. Algernor era Juiz de Paz de Hessle na Inglaterra, nasceu dia 4 de junho de 1864. Embarcou no Titanic em Southampton, Inglaterra na primeira classe. Ele não foi um dos passageiros que foram salvos pelos botes, ele utilizou um bote que estava virado para flutuar, tornando um das poucas pessoas que sobreviveram ao alto mar. Vários registros informam o falecimento dele aos 80 anos e que ele embarcou com 47 anos. Então, possivelmente essa informação é equívocada. \n",
    "Iremos utilizar a segunda maior idade para nossa análise."
   ]
  },
  {
   "cell_type": "code",
   "execution_count": 23,
   "metadata": {},
   "outputs": [
    {
     "data": {
      "text/html": [
       "<div>\n",
       "<style scoped>\n",
       "    .dataframe tbody tr th:only-of-type {\n",
       "        vertical-align: middle;\n",
       "    }\n",
       "\n",
       "    .dataframe tbody tr th {\n",
       "        vertical-align: top;\n",
       "    }\n",
       "\n",
       "    .dataframe thead th {\n",
       "        text-align: right;\n",
       "    }\n",
       "</style>\n",
       "<table border=\"1\" class=\"dataframe\">\n",
       "  <thead>\n",
       "    <tr style=\"text-align: right;\">\n",
       "      <th></th>\n",
       "      <th>Kaggle_Pass_Id</th>\n",
       "      <th>pclass</th>\n",
       "      <th>survived</th>\n",
       "      <th>name</th>\n",
       "      <th>sex</th>\n",
       "      <th>age</th>\n",
       "      <th>sibsp</th>\n",
       "      <th>parch</th>\n",
       "      <th>ticket</th>\n",
       "      <th>fare</th>\n",
       "      <th>cabin</th>\n",
       "      <th>embarked</th>\n",
       "      <th>boat</th>\n",
       "      <th>body</th>\n",
       "      <th>home.dest</th>\n",
       "      <th>orig_seq</th>\n",
       "    </tr>\n",
       "  </thead>\n",
       "  <tbody>\n",
       "    <tr>\n",
       "      <th>275</th>\n",
       "      <td>276</td>\n",
       "      <td>1</td>\n",
       "      <td>1.0</td>\n",
       "      <td>Andrews, Miss. Kornelia Theodosia</td>\n",
       "      <td>female</td>\n",
       "      <td>63.0</td>\n",
       "      <td>1</td>\n",
       "      <td>0</td>\n",
       "      <td>13502</td>\n",
       "      <td>77.9583</td>\n",
       "      <td>D7</td>\n",
       "      <td>S</td>\n",
       "      <td>10</td>\n",
       "      <td>NaN</td>\n",
       "      <td>Hudson, NY</td>\n",
       "      <td>7</td>\n",
       "    </tr>\n",
       "    <tr>\n",
       "      <th>483</th>\n",
       "      <td>484</td>\n",
       "      <td>3</td>\n",
       "      <td>1.0</td>\n",
       "      <td>Turkula, Mrs. (Hedwig)</td>\n",
       "      <td>female</td>\n",
       "      <td>63.0</td>\n",
       "      <td>0</td>\n",
       "      <td>0</td>\n",
       "      <td>4134</td>\n",
       "      <td>9.5875</td>\n",
       "      <td>X</td>\n",
       "      <td>S</td>\n",
       "      <td>15</td>\n",
       "      <td>NaN</td>\n",
       "      <td>NaN</td>\n",
       "      <td>1262</td>\n",
       "    </tr>\n",
       "  </tbody>\n",
       "</table>\n",
       "</div>"
      ],
      "text/plain": [
       "     Kaggle_Pass_Id  pclass  survived                               name  \\\n",
       "275             276       1       1.0  Andrews, Miss. Kornelia Theodosia   \n",
       "483             484       3       1.0             Turkula, Mrs. (Hedwig)   \n",
       "\n",
       "        sex   age  sibsp  parch ticket     fare cabin embarked boat  body  \\\n",
       "275  female  63.0      1      0  13502  77.9583    D7        S   10   NaN   \n",
       "483  female  63.0      0      0   4134   9.5875     X        S   15   NaN   \n",
       "\n",
       "      home.dest  orig_seq  \n",
       "275  Hudson, NY         7  \n",
       "483         NaN      1262  "
      ]
     },
     "execution_count": 23,
     "metadata": {},
     "output_type": "execute_result"
    }
   ],
   "source": [
    "sob_idade_max_second = data_full[(data_full['survived']==1) & (data_full['age']!=80.0)]\n",
    "sob_idade_max_second = sob_idade_max_second[(sob_idade_max_second['survived']==1) & (sob_idade_max_second['age']==max(sob_idade_max_second.age))]\n",
    "sob_idade_max_second"
   ]
  },
  {
   "cell_type": "markdown",
   "metadata": {},
   "source": [
    "Miss Kornelia Theodosia nasceu em Hudson, EUA em 12 de agosto de 1848. Ela foi uma das  Gerentes Hospital da Cidade de Hudson desde sua fundação e foi sua vice-presidente em 1912. No dia do trágico acidente,  Kornelia conseguiu sobreviver utilizando o barco salva-vidas. Ela nunca se casou e morreu menos de dois anos após o naufrágio aos 65 anos.\n",
    "Já Mrs. Hedwig nasceu em Jalasjärvi, Finlândia, no dia 5 de junho de 1848. Ela embarcou no titanic em  Southampton como passageira da terceira classe. No dia do acidente, utlizou o barco salva vidas no seu relato informa que o barco estava preenchido apenas com dois terços de sua capacidade e poderia ter levado mais pessoas. Ela faleceu no dia 3 de abril de 1922 aos 74 anos. "
   ]
  },
  {
   "cell_type": "code",
   "execution_count": 24,
   "metadata": {},
   "outputs": [
    {
     "data": {
      "text/html": [
       "<div>\n",
       "<style scoped>\n",
       "    .dataframe tbody tr th:only-of-type {\n",
       "        vertical-align: middle;\n",
       "    }\n",
       "\n",
       "    .dataframe tbody tr th {\n",
       "        vertical-align: top;\n",
       "    }\n",
       "\n",
       "    .dataframe thead th {\n",
       "        text-align: right;\n",
       "    }\n",
       "</style>\n",
       "<table border=\"1\" class=\"dataframe\">\n",
       "  <thead>\n",
       "    <tr style=\"text-align: right;\">\n",
       "      <th></th>\n",
       "      <th>Kaggle_Pass_Id</th>\n",
       "      <th>pclass</th>\n",
       "      <th>survived</th>\n",
       "      <th>name</th>\n",
       "      <th>sex</th>\n",
       "      <th>age</th>\n",
       "      <th>sibsp</th>\n",
       "      <th>parch</th>\n",
       "      <th>ticket</th>\n",
       "      <th>fare</th>\n",
       "      <th>cabin</th>\n",
       "      <th>embarked</th>\n",
       "      <th>boat</th>\n",
       "      <th>body</th>\n",
       "      <th>home.dest</th>\n",
       "      <th>orig_seq</th>\n",
       "    </tr>\n",
       "  </thead>\n",
       "  <tbody>\n",
       "    <tr>\n",
       "      <th>1245</th>\n",
       "      <td>1246</td>\n",
       "      <td>3</td>\n",
       "      <td>NaN</td>\n",
       "      <td>Dean, Miss. Elizabeth Gladys \"Millvina\"</td>\n",
       "      <td>female</td>\n",
       "      <td>0.1667</td>\n",
       "      <td>1</td>\n",
       "      <td>2</td>\n",
       "      <td>C.A. 2315</td>\n",
       "      <td>20.575</td>\n",
       "      <td>X</td>\n",
       "      <td>S</td>\n",
       "      <td>10</td>\n",
       "      <td>NaN</td>\n",
       "      <td>Devon, England Wichita, KS</td>\n",
       "      <td>764</td>\n",
       "    </tr>\n",
       "  </tbody>\n",
       "</table>\n",
       "</div>"
      ],
      "text/plain": [
       "      Kaggle_Pass_Id  pclass  survived  \\\n",
       "1245            1246       3       NaN   \n",
       "\n",
       "                                         name     sex     age  sibsp  parch  \\\n",
       "1245  Dean, Miss. Elizabeth Gladys \"Millvina\"  female  0.1667      1      2   \n",
       "\n",
       "         ticket    fare cabin embarked boat  body                   home.dest  \\\n",
       "1245  C.A. 2315  20.575     X        S   10   NaN  Devon, England Wichita, KS   \n",
       "\n",
       "      orig_seq  \n",
       "1245       764  "
      ]
     },
     "execution_count": 24,
     "metadata": {},
     "output_type": "execute_result"
    }
   ],
   "source": [
    "data_full[data_full['age'] == min(data_full['age'])]"
   ]
  },
  {
   "cell_type": "markdown",
   "metadata": {},
   "source": [
    "Apesar de não possui na base a informação que sobriveu, a Miss. Elizabeth Gladys \"Millvina\" é a sobrevivente mais nova do titanic, ela nasceu em Branscombe, em 1912. Junto com ela, sua mãe e seu irmão sobreviveram ao acidente, seu pai morreu no navio. Ela faleceu em 31 de maio de 2009 aos 97 anos."
   ]
  },
  {
   "cell_type": "markdown",
   "metadata": {},
   "source": [
    "Vamos atualizar a idade do passageiro Mr. Algernon Henry Wilson e a coluna `survived` de Miss. Elizabeth Gladys \"Millvina\""
   ]
  },
  {
   "cell_type": "code",
   "execution_count": 25,
   "metadata": {},
   "outputs": [],
   "source": [
    "data_full.loc[data_full['Kaggle_Pass_Id']==631, 'age'] = 47\n",
    "data_full.loc[data_full['Kaggle_Pass_Id']==1246, 'survived'] = 1.0"
   ]
  },
  {
   "cell_type": "code",
   "execution_count": 26,
   "metadata": {},
   "outputs": [
    {
     "data": {
      "text/html": [
       "<div>\n",
       "<style scoped>\n",
       "    .dataframe tbody tr th:only-of-type {\n",
       "        vertical-align: middle;\n",
       "    }\n",
       "\n",
       "    .dataframe tbody tr th {\n",
       "        vertical-align: top;\n",
       "    }\n",
       "\n",
       "    .dataframe thead th {\n",
       "        text-align: right;\n",
       "    }\n",
       "</style>\n",
       "<table border=\"1\" class=\"dataframe\">\n",
       "  <thead>\n",
       "    <tr style=\"text-align: right;\">\n",
       "      <th></th>\n",
       "      <th>Kaggle_Pass_Id</th>\n",
       "      <th>pclass</th>\n",
       "      <th>survived</th>\n",
       "      <th>name</th>\n",
       "      <th>sex</th>\n",
       "      <th>age</th>\n",
       "      <th>sibsp</th>\n",
       "      <th>parch</th>\n",
       "      <th>ticket</th>\n",
       "      <th>fare</th>\n",
       "      <th>cabin</th>\n",
       "      <th>embarked</th>\n",
       "      <th>boat</th>\n",
       "      <th>body</th>\n",
       "      <th>home.dest</th>\n",
       "      <th>orig_seq</th>\n",
       "    </tr>\n",
       "  </thead>\n",
       "  <tbody>\n",
       "    <tr>\n",
       "      <th>1245</th>\n",
       "      <td>1246</td>\n",
       "      <td>3</td>\n",
       "      <td>1.0</td>\n",
       "      <td>Dean, Miss. Elizabeth Gladys \"Millvina\"</td>\n",
       "      <td>female</td>\n",
       "      <td>0.1667</td>\n",
       "      <td>1</td>\n",
       "      <td>2</td>\n",
       "      <td>C.A. 2315</td>\n",
       "      <td>20.575</td>\n",
       "      <td>X</td>\n",
       "      <td>S</td>\n",
       "      <td>10</td>\n",
       "      <td>NaN</td>\n",
       "      <td>Devon, England Wichita, KS</td>\n",
       "      <td>764</td>\n",
       "    </tr>\n",
       "  </tbody>\n",
       "</table>\n",
       "</div>"
      ],
      "text/plain": [
       "      Kaggle_Pass_Id  pclass  survived  \\\n",
       "1245            1246       3       1.0   \n",
       "\n",
       "                                         name     sex     age  sibsp  parch  \\\n",
       "1245  Dean, Miss. Elizabeth Gladys \"Millvina\"  female  0.1667      1      2   \n",
       "\n",
       "         ticket    fare cabin embarked boat  body                   home.dest  \\\n",
       "1245  C.A. 2315  20.575     X        S   10   NaN  Devon, England Wichita, KS   \n",
       "\n",
       "      orig_seq  \n",
       "1245       764  "
      ]
     },
     "execution_count": 26,
     "metadata": {},
     "output_type": "execute_result"
    }
   ],
   "source": [
    "idade_min = data_full[(data_full['survived']==1) & (data_full['age']==min(data_full.age))]\n",
    "idade_min"
   ]
  },
  {
   "cell_type": "code",
   "execution_count": 27,
   "metadata": {},
   "outputs": [
    {
     "name": "stdout",
     "output_type": "stream",
     "text": [
      "Passageiro mais Novo: 0.1667 e o mais Velho: 76.0\n"
     ]
    },
    {
     "data": {
      "image/png": "[encoded data removed]",
      "text/plain": [
       "<Figure size 576x432 with 1 Axes>"
      ]
     },
     "metadata": {},
     "output_type": "display_data"
    }
   ],
   "source": [
    "# idade do passageiro mais novo e mais velho \n",
    "print('Passageiro mais Novo: {} e o mais Velho: {}'.format(data_full['age'].min(), data_full['age'].max()))\n",
    "sns.distplot(data_full[\"age\"])\n",
    "plt.title(\"Distribuição por Idade\", fontweight='bold', fontsize=14)\n",
    "plt.xlabel(\"Idade\")\n",
    "plt.ylabel(\"Número de Passageiros\")\n",
    "plt.show();"
   ]
  },
  {
   "cell_type": "markdown",
   "metadata": {},
   "source": [
    "Agora vamos verificar se a idade influenciou na taxa de sobrevivência."
   ]
  },
  {
   "cell_type": "code",
   "execution_count": 28,
   "metadata": {},
   "outputs": [],
   "source": [
    "sobreviventes_age = data_full[data_full[\"survived\"]==1][\"age\"]\n",
    "mortos_age = data_full[data_full[\"survived\"]==0][\"age\"]"
   ]
  },
  {
   "cell_type": "code",
   "execution_count": 29,
   "metadata": {},
   "outputs": [
    {
     "data": {
      "text/plain": [
       "1       38.0000\n",
       "2       26.0000\n",
       "3       35.0000\n",
       "8       27.0000\n",
       "9       14.0000\n",
       "         ...   \n",
       "879     56.0000\n",
       "880     25.0000\n",
       "887     19.0000\n",
       "889     26.0000\n",
       "1245     0.1667\n",
       "Name: age, Length: 343, dtype: float64"
      ]
     },
     "execution_count": 29,
     "metadata": {},
     "output_type": "execute_result"
    }
   ],
   "source": [
    "sobreviventes_age"
   ]
  },
  {
   "cell_type": "code",
   "execution_count": 30,
   "metadata": {},
   "outputs": [
    {
     "data": {
      "text/plain": [
       "0      22.0\n",
       "4      35.0\n",
       "5      29.0\n",
       "6      54.0\n",
       "7       2.0\n",
       "       ... \n",
       "884    25.0\n",
       "885    39.0\n",
       "886    27.0\n",
       "888    29.0\n",
       "890    32.0\n",
       "Name: age, Length: 549, dtype: float64"
      ]
     },
     "execution_count": 30,
     "metadata": {},
     "output_type": "execute_result"
    }
   ],
   "source": [
    "mortos_age"
   ]
  },
  {
   "cell_type": "code",
   "execution_count": 31,
   "metadata": {},
   "outputs": [
    {
     "data": {
      "image/png": "[encoded data removed]",
      "text/plain": [
       "<Figure size 576x432 with 1 Axes>"
      ]
     },
     "metadata": {},
     "output_type": "display_data"
    }
   ],
   "source": [
    "sns.distplot(sobreviventes_age)\n",
    "plt.title(\"Distribuição de Sobreviventes por Idade \", fontweight='bold', fontsize=14)\n",
    "plt.xlabel(\"Idade\")\n",
    "plt.ylabel(\"Número de Passageiros\")\n",
    "plt.show();"
   ]
  },
  {
   "cell_type": "code",
   "execution_count": 32,
   "metadata": {},
   "outputs": [
    {
     "data": {
      "image/png": "[encoded data removed]",
      "text/plain": [
       "<Figure size 576x432 with 1 Axes>"
      ]
     },
     "metadata": {},
     "output_type": "display_data"
    }
   ],
   "source": [
    "sns.distplot(mortos_age)\n",
    "plt.title(\"Distribuição de Mortos por Idade \", fontweight='bold', fontsize=14)\n",
    "plt.xlabel(\"Idade\")\n",
    "plt.ylabel(\"Número de Passageiros\")\n",
    "plt.show();"
   ]
  },
  {
   "cell_type": "markdown",
   "metadata": {},
   "source": [
    "##### Gênero X Sobrevivente "
   ]
  },
  {
   "cell_type": "code",
   "execution_count": 33,
   "metadata": {},
   "outputs": [
    {
     "data": {
      "text/html": [
       "<div>\n",
       "<style scoped>\n",
       "    .dataframe tbody tr th:only-of-type {\n",
       "        vertical-align: middle;\n",
       "    }\n",
       "\n",
       "    .dataframe tbody tr th {\n",
       "        vertical-align: top;\n",
       "    }\n",
       "\n",
       "    .dataframe thead th {\n",
       "        text-align: right;\n",
       "    }\n",
       "</style>\n",
       "<table border=\"1\" class=\"dataframe\">\n",
       "  <thead>\n",
       "    <tr style=\"text-align: right;\">\n",
       "      <th></th>\n",
       "      <th>count</th>\n",
       "      <th>unique</th>\n",
       "      <th>top</th>\n",
       "      <th>freq</th>\n",
       "    </tr>\n",
       "    <tr>\n",
       "      <th>survived</th>\n",
       "      <th></th>\n",
       "      <th></th>\n",
       "      <th></th>\n",
       "      <th></th>\n",
       "    </tr>\n",
       "  </thead>\n",
       "  <tbody>\n",
       "    <tr>\n",
       "      <th>0.0</th>\n",
       "      <td>549</td>\n",
       "      <td>2</td>\n",
       "      <td>male</td>\n",
       "      <td>468</td>\n",
       "    </tr>\n",
       "    <tr>\n",
       "      <th>1.0</th>\n",
       "      <td>343</td>\n",
       "      <td>2</td>\n",
       "      <td>female</td>\n",
       "      <td>234</td>\n",
       "    </tr>\n",
       "  </tbody>\n",
       "</table>\n",
       "</div>"
      ],
      "text/plain": [
       "         count unique     top freq\n",
       "survived                          \n",
       "0.0        549      2    male  468\n",
       "1.0        343      2  female  234"
      ]
     },
     "execution_count": 33,
     "metadata": {},
     "output_type": "execute_result"
    }
   ],
   "source": [
    "pd.DataFrame(data_full.groupby('survived')['sex'].describe())"
   ]
  },
  {
   "cell_type": "code",
   "execution_count": 34,
   "metadata": {},
   "outputs": [],
   "source": [
    "sobreviventes = data_full[data_full[\"survived\"]==1][\"sex\"].value_counts()\n",
    "mortos = data_full[data_full[\"survived\"]==0][\"sex\"].value_counts()"
   ]
  },
  {
   "cell_type": "code",
   "execution_count": 35,
   "metadata": {},
   "outputs": [
    {
     "name": "stdout",
     "output_type": "stream",
     "text": [
      "Total de Sobreviventes é: 343\n",
      "Sobreviventes do Gênero Masculino: 109\n",
      "Sobreviventes do Gênero Feminino: 234\n"
     ]
    }
   ],
   "source": [
    "print('Total de Sobreviventes é:', sobreviventes.sum())\n",
    "print ('Sobreviventes do Gênero Masculino:', sobreviventes.male.sum())\n",
    "print ('Sobreviventes do Gênero Feminino:', sobreviventes.female.sum())"
   ]
  },
  {
   "cell_type": "code",
   "execution_count": 36,
   "metadata": {},
   "outputs": [
    {
     "name": "stdout",
     "output_type": "stream",
     "text": [
      "% de Homens que sobreviveram: 0.3177842565597668\n",
      "% de Mulheres que sobreviveram: 0.6822157434402333\n"
     ]
    }
   ],
   "source": [
    "print ('% de Homens que sobreviveram:', sobreviventes.male.sum()/ (sobreviventes.sum()))\n",
    "print ('% de Mulheres que sobreviveram:',sobreviventes.female.sum()/ (sobreviventes.sum()))"
   ]
  },
  {
   "cell_type": "code",
   "execution_count": 37,
   "metadata": {},
   "outputs": [
    {
     "data": {
      "image/png": "[encoded data removed]",
      "text/plain": [
       "<Figure size 576x432 with 1 Axes>"
      ]
     },
     "metadata": {},
     "output_type": "display_data"
    }
   ],
   "source": [
    "base_sex = pd.DataFrame([sobreviventes,mortos])\n",
    "base_sex.index = [\"Sobreviventes\",\"Mortos\"]\n",
    "base_sex.plot(kind=\"bar\")\n",
    "plt.title(\"Distribuição de Sobreviventes baseado no Gênero\",  fontweight='bold', fontsize=14)\n",
    "plt.ylabel(\"Número de Passageiros\")\n",
    "plt.legend(( 'Feminino', 'Masculinho'), loc='upper right')\n",
    "plt.xticks(rotation = False)\n",
    "plt.tight_layout()"
   ]
  },
  {
   "cell_type": "markdown",
   "metadata": {},
   "source": [
    "Como podemos observar, as mulheres possui a maior taxa de sobreviventes do que os homens,  devido a prioridade de embarcação de mulheres e crianças  aos botes salva-vidas. "
   ]
  },
  {
   "cell_type": "code",
   "execution_count": 38,
   "metadata": {},
   "outputs": [
    {
     "data": {
      "text/html": [
       "<div>\n",
       "<style scoped>\n",
       "    .dataframe tbody tr th:only-of-type {\n",
       "        vertical-align: middle;\n",
       "    }\n",
       "\n",
       "    .dataframe tbody tr th {\n",
       "        vertical-align: top;\n",
       "    }\n",
       "\n",
       "    .dataframe thead th {\n",
       "        text-align: right;\n",
       "    }\n",
       "</style>\n",
       "<table border=\"1\" class=\"dataframe\">\n",
       "  <thead>\n",
       "    <tr style=\"text-align: right;\">\n",
       "      <th></th>\n",
       "      <th>Kaggle_Pass_Id</th>\n",
       "      <th>pclass</th>\n",
       "      <th>survived</th>\n",
       "      <th>name</th>\n",
       "      <th>sex</th>\n",
       "      <th>age</th>\n",
       "      <th>sibsp</th>\n",
       "      <th>parch</th>\n",
       "      <th>ticket</th>\n",
       "      <th>fare</th>\n",
       "      <th>cabin</th>\n",
       "      <th>embarked</th>\n",
       "      <th>boat</th>\n",
       "      <th>body</th>\n",
       "      <th>home.dest</th>\n",
       "      <th>orig_seq</th>\n",
       "    </tr>\n",
       "  </thead>\n",
       "  <tbody>\n",
       "    <tr>\n",
       "      <th>1</th>\n",
       "      <td>2</td>\n",
       "      <td>1</td>\n",
       "      <td>1.0</td>\n",
       "      <td>Cumings, Mrs. John Bradley (Florence Briggs Th...</td>\n",
       "      <td>female</td>\n",
       "      <td>38.0</td>\n",
       "      <td>1</td>\n",
       "      <td>0</td>\n",
       "      <td>PC 17599</td>\n",
       "      <td>71.2833</td>\n",
       "      <td>C85</td>\n",
       "      <td>C</td>\n",
       "      <td>4</td>\n",
       "      <td>NaN</td>\n",
       "      <td>New York, NY</td>\n",
       "      <td>86</td>\n",
       "    </tr>\n",
       "    <tr>\n",
       "      <th>2</th>\n",
       "      <td>3</td>\n",
       "      <td>3</td>\n",
       "      <td>1.0</td>\n",
       "      <td>Heikkinen, Miss. Laina</td>\n",
       "      <td>female</td>\n",
       "      <td>26.0</td>\n",
       "      <td>0</td>\n",
       "      <td>0</td>\n",
       "      <td>STON/O2. 3101282</td>\n",
       "      <td>7.9250</td>\n",
       "      <td>X</td>\n",
       "      <td>S</td>\n",
       "      <td>NaN</td>\n",
       "      <td>NaN</td>\n",
       "      <td>NaN</td>\n",
       "      <td>861</td>\n",
       "    </tr>\n",
       "    <tr>\n",
       "      <th>3</th>\n",
       "      <td>4</td>\n",
       "      <td>1</td>\n",
       "      <td>1.0</td>\n",
       "      <td>Futrelle, Mrs. Jacques Heath (Lily May Peel)</td>\n",
       "      <td>female</td>\n",
       "      <td>35.0</td>\n",
       "      <td>1</td>\n",
       "      <td>0</td>\n",
       "      <td>113803</td>\n",
       "      <td>53.1000</td>\n",
       "      <td>C123</td>\n",
       "      <td>S</td>\n",
       "      <td>D</td>\n",
       "      <td>NaN</td>\n",
       "      <td>Scituate, MA</td>\n",
       "      <td>128</td>\n",
       "    </tr>\n",
       "    <tr>\n",
       "      <th>8</th>\n",
       "      <td>9</td>\n",
       "      <td>3</td>\n",
       "      <td>1.0</td>\n",
       "      <td>Johnson, Mrs. Oscar W (Elisabeth Vilhelmina Berg)</td>\n",
       "      <td>female</td>\n",
       "      <td>27.0</td>\n",
       "      <td>0</td>\n",
       "      <td>2</td>\n",
       "      <td>347742</td>\n",
       "      <td>11.1333</td>\n",
       "      <td>X</td>\n",
       "      <td>S</td>\n",
       "      <td>15</td>\n",
       "      <td>NaN</td>\n",
       "      <td>NaN</td>\n",
       "      <td>900</td>\n",
       "    </tr>\n",
       "    <tr>\n",
       "      <th>9</th>\n",
       "      <td>10</td>\n",
       "      <td>2</td>\n",
       "      <td>1.0</td>\n",
       "      <td>Nasser, Mrs. Nicholas (Adele Achem)</td>\n",
       "      <td>female</td>\n",
       "      <td>14.0</td>\n",
       "      <td>1</td>\n",
       "      <td>0</td>\n",
       "      <td>237736</td>\n",
       "      <td>30.0708</td>\n",
       "      <td>X</td>\n",
       "      <td>C</td>\n",
       "      <td>NaN</td>\n",
       "      <td>NaN</td>\n",
       "      <td>New York, NY</td>\n",
       "      <td>514</td>\n",
       "    </tr>\n",
       "  </tbody>\n",
       "</table>\n",
       "</div>"
      ],
      "text/plain": [
       "   Kaggle_Pass_Id  pclass  survived  \\\n",
       "1               2       1       1.0   \n",
       "2               3       3       1.0   \n",
       "3               4       1       1.0   \n",
       "8               9       3       1.0   \n",
       "9              10       2       1.0   \n",
       "\n",
       "                                                name     sex   age  sibsp  \\\n",
       "1  Cumings, Mrs. John Bradley (Florence Briggs Th...  female  38.0      1   \n",
       "2                             Heikkinen, Miss. Laina  female  26.0      0   \n",
       "3       Futrelle, Mrs. Jacques Heath (Lily May Peel)  female  35.0      1   \n",
       "8  Johnson, Mrs. Oscar W (Elisabeth Vilhelmina Berg)  female  27.0      0   \n",
       "9                Nasser, Mrs. Nicholas (Adele Achem)  female  14.0      1   \n",
       "\n",
       "   parch            ticket     fare cabin embarked boat  body     home.dest  \\\n",
       "1      0          PC 17599  71.2833   C85        C    4   NaN  New York, NY   \n",
       "2      0  STON/O2. 3101282   7.9250     X        S  NaN   NaN           NaN   \n",
       "3      0            113803  53.1000  C123        S    D   NaN  Scituate, MA   \n",
       "8      2            347742  11.1333     X        S   15   NaN           NaN   \n",
       "9      0            237736  30.0708     X        C  NaN   NaN  New York, NY   \n",
       "\n",
       "   orig_seq  \n",
       "1        86  \n",
       "2       861  \n",
       "3       128  \n",
       "8       900  \n",
       "9       514  "
      ]
     },
     "execution_count": 38,
     "metadata": {},
     "output_type": "execute_result"
    }
   ],
   "source": [
    "mulheres = data_full[data_full['sex'] == 'female']\n",
    "mulheres.head()"
   ]
  },
  {
   "cell_type": "code",
   "execution_count": 39,
   "metadata": {},
   "outputs": [
    {
     "data": {
      "text/html": [
       "<div>\n",
       "<style scoped>\n",
       "    .dataframe tbody tr th:only-of-type {\n",
       "        vertical-align: middle;\n",
       "    }\n",
       "\n",
       "    .dataframe tbody tr th {\n",
       "        vertical-align: top;\n",
       "    }\n",
       "\n",
       "    .dataframe thead th {\n",
       "        text-align: right;\n",
       "    }\n",
       "</style>\n",
       "<table border=\"1\" class=\"dataframe\">\n",
       "  <thead>\n",
       "    <tr style=\"text-align: right;\">\n",
       "      <th></th>\n",
       "      <th>Kaggle_Pass_Id</th>\n",
       "      <th>pclass</th>\n",
       "      <th>survived</th>\n",
       "      <th>name</th>\n",
       "      <th>sex</th>\n",
       "      <th>age</th>\n",
       "      <th>sibsp</th>\n",
       "      <th>parch</th>\n",
       "      <th>ticket</th>\n",
       "      <th>fare</th>\n",
       "      <th>cabin</th>\n",
       "      <th>embarked</th>\n",
       "      <th>boat</th>\n",
       "      <th>body</th>\n",
       "      <th>home.dest</th>\n",
       "      <th>orig_seq</th>\n",
       "    </tr>\n",
       "  </thead>\n",
       "  <tbody>\n",
       "    <tr>\n",
       "      <th>0</th>\n",
       "      <td>1</td>\n",
       "      <td>3</td>\n",
       "      <td>0.0</td>\n",
       "      <td>Braund, Mr. Owen Harris</td>\n",
       "      <td>male</td>\n",
       "      <td>22.0</td>\n",
       "      <td>1</td>\n",
       "      <td>0</td>\n",
       "      <td>A/5 21171</td>\n",
       "      <td>7.2500</td>\n",
       "      <td>X</td>\n",
       "      <td>S</td>\n",
       "      <td>NaN</td>\n",
       "      <td>NaN</td>\n",
       "      <td>Bridgerule, Devon</td>\n",
       "      <td>690</td>\n",
       "    </tr>\n",
       "    <tr>\n",
       "      <th>4</th>\n",
       "      <td>5</td>\n",
       "      <td>3</td>\n",
       "      <td>0.0</td>\n",
       "      <td>Allen, Mr. William Henry</td>\n",
       "      <td>male</td>\n",
       "      <td>35.0</td>\n",
       "      <td>0</td>\n",
       "      <td>0</td>\n",
       "      <td>373450</td>\n",
       "      <td>8.0500</td>\n",
       "      <td>X</td>\n",
       "      <td>S</td>\n",
       "      <td>NaN</td>\n",
       "      <td>NaN</td>\n",
       "      <td>Lower Clapton, Middlesex or Erdington, Birmingham</td>\n",
       "      <td>619</td>\n",
       "    </tr>\n",
       "    <tr>\n",
       "      <th>5</th>\n",
       "      <td>6</td>\n",
       "      <td>3</td>\n",
       "      <td>0.0</td>\n",
       "      <td>Moran, Mr. James</td>\n",
       "      <td>male</td>\n",
       "      <td>29.0</td>\n",
       "      <td>0</td>\n",
       "      <td>0</td>\n",
       "      <td>330877</td>\n",
       "      <td>8.4583</td>\n",
       "      <td>X</td>\n",
       "      <td>Q</td>\n",
       "      <td>NaN</td>\n",
       "      <td>NaN</td>\n",
       "      <td>NaN</td>\n",
       "      <td>1031</td>\n",
       "    </tr>\n",
       "    <tr>\n",
       "      <th>6</th>\n",
       "      <td>7</td>\n",
       "      <td>1</td>\n",
       "      <td>0.0</td>\n",
       "      <td>McCarthy, Mr. Timothy J</td>\n",
       "      <td>male</td>\n",
       "      <td>54.0</td>\n",
       "      <td>0</td>\n",
       "      <td>0</td>\n",
       "      <td>17463</td>\n",
       "      <td>51.8625</td>\n",
       "      <td>E46</td>\n",
       "      <td>S</td>\n",
       "      <td>NaN</td>\n",
       "      <td>175.0</td>\n",
       "      <td>Dorchester, MA</td>\n",
       "      <td>202</td>\n",
       "    </tr>\n",
       "    <tr>\n",
       "      <th>7</th>\n",
       "      <td>8</td>\n",
       "      <td>3</td>\n",
       "      <td>0.0</td>\n",
       "      <td>Palsson, Master. Gosta Leonard</td>\n",
       "      <td>male</td>\n",
       "      <td>2.0</td>\n",
       "      <td>3</td>\n",
       "      <td>1</td>\n",
       "      <td>349909</td>\n",
       "      <td>21.0750</td>\n",
       "      <td>X</td>\n",
       "      <td>S</td>\n",
       "      <td>NaN</td>\n",
       "      <td>4.0</td>\n",
       "      <td>NaN</td>\n",
       "      <td>1097</td>\n",
       "    </tr>\n",
       "  </tbody>\n",
       "</table>\n",
       "</div>"
      ],
      "text/plain": [
       "   Kaggle_Pass_Id  pclass  survived                            name   sex  \\\n",
       "0               1       3       0.0         Braund, Mr. Owen Harris  male   \n",
       "4               5       3       0.0        Allen, Mr. William Henry  male   \n",
       "5               6       3       0.0                Moran, Mr. James  male   \n",
       "6               7       1       0.0         McCarthy, Mr. Timothy J  male   \n",
       "7               8       3       0.0  Palsson, Master. Gosta Leonard  male   \n",
       "\n",
       "    age  sibsp  parch     ticket     fare cabin embarked boat   body  \\\n",
       "0  22.0      1      0  A/5 21171   7.2500     X        S  NaN    NaN   \n",
       "4  35.0      0      0     373450   8.0500     X        S  NaN    NaN   \n",
       "5  29.0      0      0     330877   8.4583     X        Q  NaN    NaN   \n",
       "6  54.0      0      0      17463  51.8625   E46        S  NaN  175.0   \n",
       "7   2.0      3      1     349909  21.0750     X        S  NaN    4.0   \n",
       "\n",
       "                                           home.dest  orig_seq  \n",
       "0                                  Bridgerule, Devon       690  \n",
       "4  Lower Clapton, Middlesex or Erdington, Birmingham       619  \n",
       "5                                                NaN      1031  \n",
       "6                                     Dorchester, MA       202  \n",
       "7                                                NaN      1097  "
      ]
     },
     "execution_count": 39,
     "metadata": {},
     "output_type": "execute_result"
    }
   ],
   "source": [
    "homens = data_full[data_full['sex'] == 'male']\n",
    "homens.head()"
   ]
  },
  {
   "cell_type": "code",
   "execution_count": 40,
   "metadata": {},
   "outputs": [
    {
     "data": {
      "image/png": "[encoded data removed]",
      "text/plain": [
       "<Figure size 576x432 with 2 Axes>"
      ]
     },
     "metadata": {},
     "output_type": "display_data"
    }
   ],
   "source": [
    "fig, axes = plt.subplots(nrows = 1, ncols = 2)\n",
    "\n",
    "ax = sns.distplot(mulheres[mulheres['survived']==1].age, bins=20, ax = axes [0], kde=False)\n",
    "ax = sns.distplot(mulheres[mulheres['survived']==0].age, bins=20,  ax = axes [0], kde=False)\n",
    "ax.set_title ('Feminino') \n",
    "ax.legend(( 'Sobrevivente', 'Mortos'), loc='upper right')\n",
    "plt.xticks(rotation = False)\n",
    "\n",
    "plt.suptitle('Distribuição de Sobreviventes baseado no Gênero e na Idade',fontweight='bold', fontsize=14)\n",
    "\n",
    "ax = sns.distplot(homens[homens['survived']==1].age, bins=20,  ax = axes [1], kde=False)\n",
    "ax = sns.distplot(homens[homens['survived']==0].age, bins=20, ax = axes [1], kde=False)\n",
    "ax.set_title ('Masculino') \n",
    "ax.legend(( 'Sobrevivente', 'Mortos'), loc='upper right')\n",
    "plt.xticks(rotation = False)\n",
    "\n",
    "plt.tight_layout()"
   ]
  },
  {
   "cell_type": "markdown",
   "metadata": {},
   "source": [
    "Podemos observar que as mulheres de 12 a 40 anos tem uma alta probablidade de sobrevivência, como as crianças e mulheres tem prioridade  no embarque dos botes salva-vidas, possivelmente essas mulheres seriam mães com seus filhos (as) e o que demonstra essa hipótese é a alta probabilidade de crianças tanto do gênero masculino quanto do feminino entre 0 a 5 anos. Também podemos observar que mulheres com 30 anos possui uma alta probabilidade de sobrevivência.\n",
    "\n",
    "Já os homens possui probabilidade de sobrevivência por volta de 28 a 38 anos. "
   ]
  },
  {
   "cell_type": "markdown",
   "metadata": {},
   "source": [
    "##### Cabine X Sobrevivente "
   ]
  },
  {
   "cell_type": "code",
   "execution_count": 41,
   "metadata": {},
   "outputs": [
    {
     "data": {
      "text/plain": [
       "X                  1014\n",
       "C23 C25 C27           6\n",
       "B57 B59 B63 B66       5\n",
       "G6                    5\n",
       "F33                   4\n",
       "                   ... \n",
       "A14                   1\n",
       "E63                   1\n",
       "E12                   1\n",
       "E38                   1\n",
       "C105                  1\n",
       "Name: cabin, Length: 187, dtype: int64"
      ]
     },
     "execution_count": 41,
     "metadata": {},
     "output_type": "execute_result"
    }
   ],
   "source": [
    "data_full['cabin'].value_counts()"
   ]
  },
  {
   "cell_type": "markdown",
   "metadata": {},
   "source": [
    "Geralmente, o número de idenficação das cabines pode conter o andar do navio. Como podemos obersar no resultado acima, apresenta as cabines composta por Letras e Números. O que pode representar a categoria da passagem, podemos analisar o andar com a taxa de sobrevivência, para isso iremos criar uma outra variável que será o andar. Podemos inferir: \n",
    "- As cabines mais próximas dos botes salva-vidas conseguiram sobreviver?\n",
    "- As cabines mais próximas das partes danificadas após o acidente conseguiram sobreviver?\n",
    "\n",
    "\n",
    "Conforme imagem do conves do titanic, observa-se os andares vão de A - G. \n",
    "\n",
    "![Titanic](https://upload.wikimedia.org/wikipedia/commons/thumb/8/84/Titanic_cutaway_diagram.png/800px-Titanic_cutaway_diagram.png)"
   ]
  },
  {
   "cell_type": "code",
   "execution_count": 42,
   "metadata": {},
   "outputs": [
    {
     "data": {
      "text/plain": [
       "X    1014\n",
       "C      94\n",
       "B      65\n",
       "D      46\n",
       "E      41\n",
       "A      22\n",
       "F      21\n",
       "G       5\n",
       "T       1\n",
       "Name: floor, dtype: int64"
      ]
     },
     "execution_count": 42,
     "metadata": {},
     "output_type": "execute_result"
    }
   ],
   "source": [
    "data_full['floor'] = data_full['cabin'].str.split('', expand=True)[1]\n",
    "data_full['floor'].value_counts()"
   ]
  },
  {
   "cell_type": "markdown",
   "metadata": {},
   "source": [
    "Sabemos que o `X` são os valores que substituiram o valor NaN. Podemos observar que T Possui uma cabine."
   ]
  },
  {
   "cell_type": "code",
   "execution_count": 43,
   "metadata": {},
   "outputs": [
    {
     "data": {
      "text/html": [
       "<div>\n",
       "<style scoped>\n",
       "    .dataframe tbody tr th:only-of-type {\n",
       "        vertical-align: middle;\n",
       "    }\n",
       "\n",
       "    .dataframe tbody tr th {\n",
       "        vertical-align: top;\n",
       "    }\n",
       "\n",
       "    .dataframe thead th {\n",
       "        text-align: right;\n",
       "    }\n",
       "</style>\n",
       "<table border=\"1\" class=\"dataframe\">\n",
       "  <thead>\n",
       "    <tr style=\"text-align: right;\">\n",
       "      <th></th>\n",
       "      <th>Kaggle_Pass_Id</th>\n",
       "      <th>pclass</th>\n",
       "      <th>survived</th>\n",
       "      <th>name</th>\n",
       "      <th>sex</th>\n",
       "      <th>age</th>\n",
       "      <th>sibsp</th>\n",
       "      <th>parch</th>\n",
       "      <th>ticket</th>\n",
       "      <th>fare</th>\n",
       "      <th>cabin</th>\n",
       "      <th>embarked</th>\n",
       "      <th>boat</th>\n",
       "      <th>body</th>\n",
       "      <th>home.dest</th>\n",
       "      <th>orig_seq</th>\n",
       "      <th>floor</th>\n",
       "    </tr>\n",
       "  </thead>\n",
       "  <tbody>\n",
       "    <tr>\n",
       "      <th>1</th>\n",
       "      <td>2</td>\n",
       "      <td>1</td>\n",
       "      <td>1.0</td>\n",
       "      <td>Cumings, Mrs. John Bradley (Florence Briggs Th...</td>\n",
       "      <td>female</td>\n",
       "      <td>38.0</td>\n",
       "      <td>1</td>\n",
       "      <td>0</td>\n",
       "      <td>PC 17599</td>\n",
       "      <td>71.2833</td>\n",
       "      <td>C85</td>\n",
       "      <td>C</td>\n",
       "      <td>4</td>\n",
       "      <td>NaN</td>\n",
       "      <td>New York, NY</td>\n",
       "      <td>86</td>\n",
       "      <td>C</td>\n",
       "    </tr>\n",
       "    <tr>\n",
       "      <th>3</th>\n",
       "      <td>4</td>\n",
       "      <td>1</td>\n",
       "      <td>1.0</td>\n",
       "      <td>Futrelle, Mrs. Jacques Heath (Lily May Peel)</td>\n",
       "      <td>female</td>\n",
       "      <td>35.0</td>\n",
       "      <td>1</td>\n",
       "      <td>0</td>\n",
       "      <td>113803</td>\n",
       "      <td>53.1000</td>\n",
       "      <td>C123</td>\n",
       "      <td>S</td>\n",
       "      <td>D</td>\n",
       "      <td>NaN</td>\n",
       "      <td>Scituate, MA</td>\n",
       "      <td>128</td>\n",
       "      <td>C</td>\n",
       "    </tr>\n",
       "    <tr>\n",
       "      <th>6</th>\n",
       "      <td>7</td>\n",
       "      <td>1</td>\n",
       "      <td>0.0</td>\n",
       "      <td>McCarthy, Mr. Timothy J</td>\n",
       "      <td>male</td>\n",
       "      <td>54.0</td>\n",
       "      <td>0</td>\n",
       "      <td>0</td>\n",
       "      <td>17463</td>\n",
       "      <td>51.8625</td>\n",
       "      <td>E46</td>\n",
       "      <td>S</td>\n",
       "      <td>NaN</td>\n",
       "      <td>175.0</td>\n",
       "      <td>Dorchester, MA</td>\n",
       "      <td>202</td>\n",
       "      <td>E</td>\n",
       "    </tr>\n",
       "    <tr>\n",
       "      <th>10</th>\n",
       "      <td>11</td>\n",
       "      <td>3</td>\n",
       "      <td>1.0</td>\n",
       "      <td>Sandstrom, Miss. Marguerite Rut</td>\n",
       "      <td>female</td>\n",
       "      <td>4.0</td>\n",
       "      <td>1</td>\n",
       "      <td>1</td>\n",
       "      <td>PP 9549</td>\n",
       "      <td>16.7000</td>\n",
       "      <td>G6</td>\n",
       "      <td>S</td>\n",
       "      <td>13</td>\n",
       "      <td>NaN</td>\n",
       "      <td>NaN</td>\n",
       "      <td>1190</td>\n",
       "      <td>G</td>\n",
       "    </tr>\n",
       "    <tr>\n",
       "      <th>11</th>\n",
       "      <td>12</td>\n",
       "      <td>1</td>\n",
       "      <td>1.0</td>\n",
       "      <td>Bonnell, Miss. Elizabeth</td>\n",
       "      <td>female</td>\n",
       "      <td>58.0</td>\n",
       "      <td>0</td>\n",
       "      <td>0</td>\n",
       "      <td>113783</td>\n",
       "      <td>26.5500</td>\n",
       "      <td>C103</td>\n",
       "      <td>S</td>\n",
       "      <td>8</td>\n",
       "      <td>NaN</td>\n",
       "      <td>Birkdale, England Cleveland, Ohio</td>\n",
       "      <td>34</td>\n",
       "      <td>C</td>\n",
       "    </tr>\n",
       "    <tr>\n",
       "      <th>...</th>\n",
       "      <td>...</td>\n",
       "      <td>...</td>\n",
       "      <td>...</td>\n",
       "      <td>...</td>\n",
       "      <td>...</td>\n",
       "      <td>...</td>\n",
       "      <td>...</td>\n",
       "      <td>...</td>\n",
       "      <td>...</td>\n",
       "      <td>...</td>\n",
       "      <td>...</td>\n",
       "      <td>...</td>\n",
       "      <td>...</td>\n",
       "      <td>...</td>\n",
       "      <td>...</td>\n",
       "      <td>...</td>\n",
       "      <td>...</td>\n",
       "    </tr>\n",
       "    <tr>\n",
       "      <th>1295</th>\n",
       "      <td>1296</td>\n",
       "      <td>1</td>\n",
       "      <td>NaN</td>\n",
       "      <td>Frauenthal, Mr. Isaac Gerald</td>\n",
       "      <td>male</td>\n",
       "      <td>43.0</td>\n",
       "      <td>1</td>\n",
       "      <td>0</td>\n",
       "      <td>17765</td>\n",
       "      <td>27.7208</td>\n",
       "      <td>D40</td>\n",
       "      <td>C</td>\n",
       "      <td>5</td>\n",
       "      <td>NaN</td>\n",
       "      <td>New York, NY</td>\n",
       "      <td>121</td>\n",
       "      <td>D</td>\n",
       "    </tr>\n",
       "    <tr>\n",
       "      <th>1296</th>\n",
       "      <td>1297</td>\n",
       "      <td>2</td>\n",
       "      <td>NaN</td>\n",
       "      <td>Nourney, Mr. Alfred (\"Baron von Drachstedt\")</td>\n",
       "      <td>male</td>\n",
       "      <td>20.0</td>\n",
       "      <td>0</td>\n",
       "      <td>0</td>\n",
       "      <td>SC/PARIS 2166</td>\n",
       "      <td>13.8625</td>\n",
       "      <td>D38</td>\n",
       "      <td>C</td>\n",
       "      <td>7</td>\n",
       "      <td>NaN</td>\n",
       "      <td>Cologne, Germany</td>\n",
       "      <td>521</td>\n",
       "      <td>D</td>\n",
       "    </tr>\n",
       "    <tr>\n",
       "      <th>1298</th>\n",
       "      <td>1299</td>\n",
       "      <td>1</td>\n",
       "      <td>NaN</td>\n",
       "      <td>Widener, Mr. George Dunton</td>\n",
       "      <td>male</td>\n",
       "      <td>50.0</td>\n",
       "      <td>1</td>\n",
       "      <td>1</td>\n",
       "      <td>113503</td>\n",
       "      <td>211.5000</td>\n",
       "      <td>C80</td>\n",
       "      <td>C</td>\n",
       "      <td>NaN</td>\n",
       "      <td>NaN</td>\n",
       "      <td>Elkins Park, PA</td>\n",
       "      <td>313</td>\n",
       "      <td>C</td>\n",
       "    </tr>\n",
       "    <tr>\n",
       "      <th>1302</th>\n",
       "      <td>1303</td>\n",
       "      <td>1</td>\n",
       "      <td>NaN</td>\n",
       "      <td>Minahan, Mrs. William Edward (Lillian E Thorpe)</td>\n",
       "      <td>female</td>\n",
       "      <td>37.0</td>\n",
       "      <td>1</td>\n",
       "      <td>0</td>\n",
       "      <td>19928</td>\n",
       "      <td>90.0000</td>\n",
       "      <td>C78</td>\n",
       "      <td>Q</td>\n",
       "      <td>14</td>\n",
       "      <td>NaN</td>\n",
       "      <td>Fond du Lac, WI</td>\n",
       "      <td>209</td>\n",
       "      <td>C</td>\n",
       "    </tr>\n",
       "    <tr>\n",
       "      <th>1305</th>\n",
       "      <td>1306</td>\n",
       "      <td>1</td>\n",
       "      <td>NaN</td>\n",
       "      <td>Oliva y Ocana, Dona. Fermina</td>\n",
       "      <td>female</td>\n",
       "      <td>39.0</td>\n",
       "      <td>0</td>\n",
       "      <td>0</td>\n",
       "      <td>PC 17758</td>\n",
       "      <td>108.9000</td>\n",
       "      <td>C105</td>\n",
       "      <td>C</td>\n",
       "      <td>8</td>\n",
       "      <td>NaN</td>\n",
       "      <td>NaN</td>\n",
       "      <td>219</td>\n",
       "      <td>C</td>\n",
       "    </tr>\n",
       "  </tbody>\n",
       "</table>\n",
       "<p>295 rows × 17 columns</p>\n",
       "</div>"
      ],
      "text/plain": [
       "      Kaggle_Pass_Id  pclass  survived  \\\n",
       "1                  2       1       1.0   \n",
       "3                  4       1       1.0   \n",
       "6                  7       1       0.0   \n",
       "10                11       3       1.0   \n",
       "11                12       1       1.0   \n",
       "...              ...     ...       ...   \n",
       "1295            1296       1       NaN   \n",
       "1296            1297       2       NaN   \n",
       "1298            1299       1       NaN   \n",
       "1302            1303       1       NaN   \n",
       "1305            1306       1       NaN   \n",
       "\n",
       "                                                   name     sex   age  sibsp  \\\n",
       "1     Cumings, Mrs. John Bradley (Florence Briggs Th...  female  38.0      1   \n",
       "3          Futrelle, Mrs. Jacques Heath (Lily May Peel)  female  35.0      1   \n",
       "6                               McCarthy, Mr. Timothy J    male  54.0      0   \n",
       "10                      Sandstrom, Miss. Marguerite Rut  female   4.0      1   \n",
       "11                             Bonnell, Miss. Elizabeth  female  58.0      0   \n",
       "...                                                 ...     ...   ...    ...   \n",
       "1295                       Frauenthal, Mr. Isaac Gerald    male  43.0      1   \n",
       "1296       Nourney, Mr. Alfred (\"Baron von Drachstedt\")    male  20.0      0   \n",
       "1298                         Widener, Mr. George Dunton    male  50.0      1   \n",
       "1302    Minahan, Mrs. William Edward (Lillian E Thorpe)  female  37.0      1   \n",
       "1305                       Oliva y Ocana, Dona. Fermina  female  39.0      0   \n",
       "\n",
       "      parch         ticket      fare cabin embarked boat   body  \\\n",
       "1         0       PC 17599   71.2833   C85        C    4    NaN   \n",
       "3         0         113803   53.1000  C123        S    D    NaN   \n",
       "6         0          17463   51.8625   E46        S  NaN  175.0   \n",
       "10        1        PP 9549   16.7000    G6        S   13    NaN   \n",
       "11        0         113783   26.5500  C103        S    8    NaN   \n",
       "...     ...            ...       ...   ...      ...  ...    ...   \n",
       "1295      0          17765   27.7208   D40        C    5    NaN   \n",
       "1296      0  SC/PARIS 2166   13.8625   D38        C    7    NaN   \n",
       "1298      1         113503  211.5000   C80        C  NaN    NaN   \n",
       "1302      0          19928   90.0000   C78        Q   14    NaN   \n",
       "1305      0       PC 17758  108.9000  C105        C    8    NaN   \n",
       "\n",
       "                              home.dest  orig_seq floor  \n",
       "1                          New York, NY        86     C  \n",
       "3                          Scituate, MA       128     C  \n",
       "6                        Dorchester, MA       202     E  \n",
       "10                                  NaN      1190     G  \n",
       "11    Birkdale, England Cleveland, Ohio        34     C  \n",
       "...                                 ...       ...   ...  \n",
       "1295                       New York, NY       121     D  \n",
       "1296                   Cologne, Germany       521     D  \n",
       "1298                    Elkins Park, PA       313     C  \n",
       "1302                    Fond du Lac, WI       209     C  \n",
       "1305                                NaN       219     C  \n",
       "\n",
       "[295 rows x 17 columns]"
      ]
     },
     "execution_count": 43,
     "metadata": {},
     "output_type": "execute_result"
    }
   ],
   "source": [
    "data_floor = data_full.query(\"floor != 'X'\")\n",
    "data_floor"
   ]
  },
  {
   "cell_type": "code",
   "execution_count": 44,
   "metadata": {},
   "outputs": [
    {
     "name": "stdout",
     "output_type": "stream",
     "text": [
      "Nomenclatura dos andares da cabines: ['C' 'E' 'G' 'D' 'A' 'B' 'F' 'T']\n"
     ]
    }
   ],
   "source": [
    "print('Nomenclatura dos andares da cabines:', data_floor['floor'].unique())"
   ]
  },
  {
   "cell_type": "code",
   "execution_count": 45,
   "metadata": {},
   "outputs": [
    {
     "name": "stdout",
     "output_type": "stream",
     "text": [
      "Andar C teve mais passageiros: 94\n",
      "Andar T  teve menos passageiros: 1\n"
     ]
    }
   ],
   "source": [
    "print ('Andar {} teve mais passageiros: {}'.format(data_floor['floor'].value_counts().index[0], data_floor['floor'].value_counts().max()))\n",
    "print ('Andar {}  teve menos passageiros: {}'.format(data_floor['floor'].value_counts().index[-1], data_floor['floor'].value_counts().min()))"
   ]
  },
  {
   "cell_type": "code",
   "execution_count": 46,
   "metadata": {},
   "outputs": [
    {
     "data": {
      "image/png": "[encoded data removed]",
      "text/plain": [
       "<Figure size 576x432 with 1 Axes>"
      ]
     },
     "metadata": {},
     "output_type": "display_data"
    }
   ],
   "source": [
    "sns.countplot (x='floor', data=data_floor, order= data_floor['floor'].value_counts().index)\n",
    "plt.title('Distruibuição de Passageiros por Andar', fontweight='bold', fontsize=14)\n",
    "plt.ylabel(\"Número de Passageiros\")\n",
    "plt.xlabel(\"Andares\")\n",
    "plt.show();"
   ]
  },
  {
   "cell_type": "code",
   "execution_count": 47,
   "metadata": {},
   "outputs": [
    {
     "data": {
      "image/png": "[encoded data removed]",
      "text/plain": [
       "<Figure size 576x432 with 1 Axes>"
      ]
     },
     "metadata": {},
     "output_type": "display_data"
    }
   ],
   "source": [
    "sob_por_andar = data_floor.groupby('floor')['survived'].value_counts(normalize=True).unstack().sort_values(by=1, ascending=False)\n",
    "sob_por_andar.plot(kind=\"bar\", stacked= 'True')\n",
    "plt.title('Proporção de passageiros por Andar', fontweight='bold', fontsize=14)\n",
    "plt.ylabel(\"Número de Passageiros\")\n",
    "plt.xlabel(\"Andares\")\n",
    "plt.legend(( 'Mortos', 'Sobreviventes'), loc='upper right')\n",
    "plt.xticks(rotation = False)\n",
    "plt.tight_layout()"
   ]
  },
  {
   "cell_type": "markdown",
   "metadata": {},
   "source": [
    "O andar C é o que possui a maior número de passageiros, no entanto o que possui o maior número de sobrevivente é o da classe D e E.\n",
    "Já o andar A é o último na porcentagem de sobrevivência, ignorando o andar T que possui somente uma cabine. "
   ]
  },
  {
   "cell_type": "markdown",
   "metadata": {},
   "source": [
    "##### Classe x Sobrevivente"
   ]
  },
  {
   "cell_type": "code",
   "execution_count": 48,
   "metadata": {},
   "outputs": [
    {
     "data": {
      "text/plain": [
       "3    709\n",
       "1    323\n",
       "2    277\n",
       "Name: pclass, dtype: int64"
      ]
     },
     "execution_count": 48,
     "metadata": {},
     "output_type": "execute_result"
    }
   ],
   "source": [
    "data_full['pclass'].value_counts()"
   ]
  },
  {
   "cell_type": "code",
   "execution_count": 49,
   "metadata": {},
   "outputs": [
    {
     "name": "stdout",
     "output_type": "stream",
     "text": [
      "A classe 3 que teve mais passageiros: 709\n",
      "A classe 2 que teve menos passageiros: 277\n"
     ]
    }
   ],
   "source": [
    "print ('A classe {} que teve mais passageiros: {}'.format(data_full['pclass'].value_counts().index[0], data_full['pclass'].value_counts().max()))\n",
    "print ('A classe {} que teve menos passageiros: {}'.format(data_full['pclass'].value_counts().index[-1], data_full['pclass'].value_counts().min()))"
   ]
  },
  {
   "cell_type": "code",
   "execution_count": 50,
   "metadata": {},
   "outputs": [
    {
     "data": {
      "image/png": "[encoded data removed]",
      "text/plain": [
       "<Figure size 576x432 with 1 Axes>"
      ]
     },
     "metadata": {},
     "output_type": "display_data"
    }
   ],
   "source": [
    "sob_por_classe = data_full.groupby('pclass')['survived'].value_counts(normalize=True).unstack().sort_values(by=1, ascending=False)\n",
    "sob_por_classe.plot(kind=\"bar\", stacked= 'True')\n",
    "plt.title('Proporção de passageiros por Classe', fontweight='bold', fontsize=14)\n",
    "plt.ylabel(\"Número de Passageiros\")\n",
    "plt.xlabel(\"Classes\")\n",
    "plt.legend(( 'Mortos', 'Sobreviventes'), loc='upper right')\n",
    "plt.xticks(rotation = False)\n",
    "plt.tight_layout()"
   ]
  },
  {
   "cell_type": "markdown",
   "metadata": {},
   "source": [
    "Como podemos observar, a 1ª classe obteve mais sobreviventes enquanto a 3ª possui a maior quantidade de mortos."
   ]
  },
  {
   "cell_type": "markdown",
   "metadata": {},
   "source": [
    "##### Em família  x Sobrevivente"
   ]
  },
  {
   "cell_type": "markdown",
   "metadata": {},
   "source": [
    "Como verificamos a chance de sobrevivência de mulheres e crianças são altas. Será que os passageiros que estavam com suas famílias tiveram mais chances de sobrevivência. Vamos verificar nesta seção:"
   ]
  },
  {
   "cell_type": "code",
   "execution_count": 51,
   "metadata": {},
   "outputs": [
    {
     "data": {
      "text/html": [
       "<div>\n",
       "<style scoped>\n",
       "    .dataframe tbody tr th:only-of-type {\n",
       "        vertical-align: middle;\n",
       "    }\n",
       "\n",
       "    .dataframe tbody tr th {\n",
       "        vertical-align: top;\n",
       "    }\n",
       "\n",
       "    .dataframe thead th {\n",
       "        text-align: right;\n",
       "    }\n",
       "</style>\n",
       "<table border=\"1\" class=\"dataframe\">\n",
       "  <thead>\n",
       "    <tr style=\"text-align: right;\">\n",
       "      <th></th>\n",
       "      <th>count</th>\n",
       "      <th>mean</th>\n",
       "      <th>std</th>\n",
       "      <th>min</th>\n",
       "      <th>25%</th>\n",
       "      <th>50%</th>\n",
       "      <th>75%</th>\n",
       "      <th>max</th>\n",
       "    </tr>\n",
       "    <tr>\n",
       "      <th>sibsp</th>\n",
       "      <th></th>\n",
       "      <th></th>\n",
       "      <th></th>\n",
       "      <th></th>\n",
       "      <th></th>\n",
       "      <th></th>\n",
       "      <th></th>\n",
       "      <th></th>\n",
       "    </tr>\n",
       "  </thead>\n",
       "  <tbody>\n",
       "    <tr>\n",
       "      <th>0</th>\n",
       "      <td>608.0</td>\n",
       "      <td>0.345395</td>\n",
       "      <td>0.475888</td>\n",
       "      <td>0.0</td>\n",
       "      <td>0.0</td>\n",
       "      <td>0.0</td>\n",
       "      <td>1.00</td>\n",
       "      <td>1.0</td>\n",
       "    </tr>\n",
       "    <tr>\n",
       "      <th>1</th>\n",
       "      <td>210.0</td>\n",
       "      <td>0.538095</td>\n",
       "      <td>0.499738</td>\n",
       "      <td>0.0</td>\n",
       "      <td>0.0</td>\n",
       "      <td>1.0</td>\n",
       "      <td>1.00</td>\n",
       "      <td>1.0</td>\n",
       "    </tr>\n",
       "    <tr>\n",
       "      <th>2</th>\n",
       "      <td>28.0</td>\n",
       "      <td>0.464286</td>\n",
       "      <td>0.507875</td>\n",
       "      <td>0.0</td>\n",
       "      <td>0.0</td>\n",
       "      <td>0.0</td>\n",
       "      <td>1.00</td>\n",
       "      <td>1.0</td>\n",
       "    </tr>\n",
       "    <tr>\n",
       "      <th>3</th>\n",
       "      <td>16.0</td>\n",
       "      <td>0.250000</td>\n",
       "      <td>0.447214</td>\n",
       "      <td>0.0</td>\n",
       "      <td>0.0</td>\n",
       "      <td>0.0</td>\n",
       "      <td>0.25</td>\n",
       "      <td>1.0</td>\n",
       "    </tr>\n",
       "    <tr>\n",
       "      <th>4</th>\n",
       "      <td>18.0</td>\n",
       "      <td>0.166667</td>\n",
       "      <td>0.383482</td>\n",
       "      <td>0.0</td>\n",
       "      <td>0.0</td>\n",
       "      <td>0.0</td>\n",
       "      <td>0.00</td>\n",
       "      <td>1.0</td>\n",
       "    </tr>\n",
       "    <tr>\n",
       "      <th>5</th>\n",
       "      <td>5.0</td>\n",
       "      <td>0.000000</td>\n",
       "      <td>0.000000</td>\n",
       "      <td>0.0</td>\n",
       "      <td>0.0</td>\n",
       "      <td>0.0</td>\n",
       "      <td>0.00</td>\n",
       "      <td>0.0</td>\n",
       "    </tr>\n",
       "    <tr>\n",
       "      <th>8</th>\n",
       "      <td>7.0</td>\n",
       "      <td>0.000000</td>\n",
       "      <td>0.000000</td>\n",
       "      <td>0.0</td>\n",
       "      <td>0.0</td>\n",
       "      <td>0.0</td>\n",
       "      <td>0.00</td>\n",
       "      <td>0.0</td>\n",
       "    </tr>\n",
       "  </tbody>\n",
       "</table>\n",
       "</div>"
      ],
      "text/plain": [
       "       count      mean       std  min  25%  50%   75%  max\n",
       "sibsp                                                     \n",
       "0      608.0  0.345395  0.475888  0.0  0.0  0.0  1.00  1.0\n",
       "1      210.0  0.538095  0.499738  0.0  0.0  1.0  1.00  1.0\n",
       "2       28.0  0.464286  0.507875  0.0  0.0  0.0  1.00  1.0\n",
       "3       16.0  0.250000  0.447214  0.0  0.0  0.0  0.25  1.0\n",
       "4       18.0  0.166667  0.383482  0.0  0.0  0.0  0.00  1.0\n",
       "5        5.0  0.000000  0.000000  0.0  0.0  0.0  0.00  0.0\n",
       "8        7.0  0.000000  0.000000  0.0  0.0  0.0  0.00  0.0"
      ]
     },
     "execution_count": 51,
     "metadata": {},
     "output_type": "execute_result"
    }
   ],
   "source": [
    "pd.DataFrame (data_full.groupby('sibsp')['survived'].describe())"
   ]
  },
  {
   "cell_type": "code",
   "execution_count": 52,
   "metadata": {},
   "outputs": [
    {
     "data": {
      "text/html": [
       "<div>\n",
       "<style scoped>\n",
       "    .dataframe tbody tr th:only-of-type {\n",
       "        vertical-align: middle;\n",
       "    }\n",
       "\n",
       "    .dataframe tbody tr th {\n",
       "        vertical-align: top;\n",
       "    }\n",
       "\n",
       "    .dataframe thead th {\n",
       "        text-align: right;\n",
       "    }\n",
       "</style>\n",
       "<table border=\"1\" class=\"dataframe\">\n",
       "  <thead>\n",
       "    <tr style=\"text-align: right;\">\n",
       "      <th></th>\n",
       "      <th>count</th>\n",
       "      <th>mean</th>\n",
       "      <th>std</th>\n",
       "      <th>min</th>\n",
       "      <th>25%</th>\n",
       "      <th>50%</th>\n",
       "      <th>75%</th>\n",
       "      <th>max</th>\n",
       "    </tr>\n",
       "    <tr>\n",
       "      <th>parch</th>\n",
       "      <th></th>\n",
       "      <th></th>\n",
       "      <th></th>\n",
       "      <th></th>\n",
       "      <th></th>\n",
       "      <th></th>\n",
       "      <th></th>\n",
       "      <th></th>\n",
       "    </tr>\n",
       "  </thead>\n",
       "  <tbody>\n",
       "    <tr>\n",
       "      <th>0</th>\n",
       "      <td>678.0</td>\n",
       "      <td>0.343658</td>\n",
       "      <td>0.475279</td>\n",
       "      <td>0.0</td>\n",
       "      <td>0.0</td>\n",
       "      <td>0.0</td>\n",
       "      <td>1.0</td>\n",
       "      <td>1.0</td>\n",
       "    </tr>\n",
       "    <tr>\n",
       "      <th>1</th>\n",
       "      <td>118.0</td>\n",
       "      <td>0.550847</td>\n",
       "      <td>0.499529</td>\n",
       "      <td>0.0</td>\n",
       "      <td>0.0</td>\n",
       "      <td>1.0</td>\n",
       "      <td>1.0</td>\n",
       "      <td>1.0</td>\n",
       "    </tr>\n",
       "    <tr>\n",
       "      <th>2</th>\n",
       "      <td>81.0</td>\n",
       "      <td>0.506173</td>\n",
       "      <td>0.503077</td>\n",
       "      <td>0.0</td>\n",
       "      <td>0.0</td>\n",
       "      <td>1.0</td>\n",
       "      <td>1.0</td>\n",
       "      <td>1.0</td>\n",
       "    </tr>\n",
       "    <tr>\n",
       "      <th>3</th>\n",
       "      <td>5.0</td>\n",
       "      <td>0.600000</td>\n",
       "      <td>0.547723</td>\n",
       "      <td>0.0</td>\n",
       "      <td>0.0</td>\n",
       "      <td>1.0</td>\n",
       "      <td>1.0</td>\n",
       "      <td>1.0</td>\n",
       "    </tr>\n",
       "    <tr>\n",
       "      <th>4</th>\n",
       "      <td>4.0</td>\n",
       "      <td>0.000000</td>\n",
       "      <td>0.000000</td>\n",
       "      <td>0.0</td>\n",
       "      <td>0.0</td>\n",
       "      <td>0.0</td>\n",
       "      <td>0.0</td>\n",
       "      <td>0.0</td>\n",
       "    </tr>\n",
       "    <tr>\n",
       "      <th>5</th>\n",
       "      <td>5.0</td>\n",
       "      <td>0.200000</td>\n",
       "      <td>0.447214</td>\n",
       "      <td>0.0</td>\n",
       "      <td>0.0</td>\n",
       "      <td>0.0</td>\n",
       "      <td>0.0</td>\n",
       "      <td>1.0</td>\n",
       "    </tr>\n",
       "    <tr>\n",
       "      <th>6</th>\n",
       "      <td>1.0</td>\n",
       "      <td>0.000000</td>\n",
       "      <td>NaN</td>\n",
       "      <td>0.0</td>\n",
       "      <td>0.0</td>\n",
       "      <td>0.0</td>\n",
       "      <td>0.0</td>\n",
       "      <td>0.0</td>\n",
       "    </tr>\n",
       "    <tr>\n",
       "      <th>9</th>\n",
       "      <td>0.0</td>\n",
       "      <td>NaN</td>\n",
       "      <td>NaN</td>\n",
       "      <td>NaN</td>\n",
       "      <td>NaN</td>\n",
       "      <td>NaN</td>\n",
       "      <td>NaN</td>\n",
       "      <td>NaN</td>\n",
       "    </tr>\n",
       "  </tbody>\n",
       "</table>\n",
       "</div>"
      ],
      "text/plain": [
       "       count      mean       std  min  25%  50%  75%  max\n",
       "parch                                                    \n",
       "0      678.0  0.343658  0.475279  0.0  0.0  0.0  1.0  1.0\n",
       "1      118.0  0.550847  0.499529  0.0  0.0  1.0  1.0  1.0\n",
       "2       81.0  0.506173  0.503077  0.0  0.0  1.0  1.0  1.0\n",
       "3        5.0  0.600000  0.547723  0.0  0.0  1.0  1.0  1.0\n",
       "4        4.0  0.000000  0.000000  0.0  0.0  0.0  0.0  0.0\n",
       "5        5.0  0.200000  0.447214  0.0  0.0  0.0  0.0  1.0\n",
       "6        1.0  0.000000       NaN  0.0  0.0  0.0  0.0  0.0\n",
       "9        0.0       NaN       NaN  NaN  NaN  NaN  NaN  NaN"
      ]
     },
     "execution_count": 52,
     "metadata": {},
     "output_type": "execute_result"
    }
   ],
   "source": [
    "pd.DataFrame (data_full.groupby('parch')['survived'].describe())"
   ]
  },
  {
   "cell_type": "code",
   "execution_count": 53,
   "metadata": {},
   "outputs": [
    {
     "data": {
      "text/html": [
       "<div>\n",
       "<style scoped>\n",
       "    .dataframe tbody tr th:only-of-type {\n",
       "        vertical-align: middle;\n",
       "    }\n",
       "\n",
       "    .dataframe tbody tr th {\n",
       "        vertical-align: top;\n",
       "    }\n",
       "\n",
       "    .dataframe thead th {\n",
       "        text-align: right;\n",
       "    }\n",
       "</style>\n",
       "<table border=\"1\" class=\"dataframe\">\n",
       "  <thead>\n",
       "    <tr style=\"text-align: right;\">\n",
       "      <th></th>\n",
       "      <th>Kaggle_Pass_Id</th>\n",
       "      <th>pclass</th>\n",
       "      <th>survived</th>\n",
       "      <th>name</th>\n",
       "      <th>sex</th>\n",
       "      <th>age</th>\n",
       "      <th>sibsp</th>\n",
       "      <th>parch</th>\n",
       "      <th>ticket</th>\n",
       "      <th>fare</th>\n",
       "      <th>cabin</th>\n",
       "      <th>embarked</th>\n",
       "      <th>boat</th>\n",
       "      <th>body</th>\n",
       "      <th>home.dest</th>\n",
       "      <th>orig_seq</th>\n",
       "      <th>floor</th>\n",
       "      <th>tamanho_familia</th>\n",
       "    </tr>\n",
       "  </thead>\n",
       "  <tbody>\n",
       "    <tr>\n",
       "      <th>0</th>\n",
       "      <td>1</td>\n",
       "      <td>3</td>\n",
       "      <td>0.0</td>\n",
       "      <td>Braund, Mr. Owen Harris</td>\n",
       "      <td>male</td>\n",
       "      <td>22.0</td>\n",
       "      <td>1</td>\n",
       "      <td>0</td>\n",
       "      <td>A/5 21171</td>\n",
       "      <td>7.2500</td>\n",
       "      <td>X</td>\n",
       "      <td>S</td>\n",
       "      <td>NaN</td>\n",
       "      <td>NaN</td>\n",
       "      <td>Bridgerule, Devon</td>\n",
       "      <td>690</td>\n",
       "      <td>X</td>\n",
       "      <td>2</td>\n",
       "    </tr>\n",
       "    <tr>\n",
       "      <th>1</th>\n",
       "      <td>2</td>\n",
       "      <td>1</td>\n",
       "      <td>1.0</td>\n",
       "      <td>Cumings, Mrs. John Bradley (Florence Briggs Th...</td>\n",
       "      <td>female</td>\n",
       "      <td>38.0</td>\n",
       "      <td>1</td>\n",
       "      <td>0</td>\n",
       "      <td>PC 17599</td>\n",
       "      <td>71.2833</td>\n",
       "      <td>C85</td>\n",
       "      <td>C</td>\n",
       "      <td>4</td>\n",
       "      <td>NaN</td>\n",
       "      <td>New York, NY</td>\n",
       "      <td>86</td>\n",
       "      <td>C</td>\n",
       "      <td>2</td>\n",
       "    </tr>\n",
       "    <tr>\n",
       "      <th>2</th>\n",
       "      <td>3</td>\n",
       "      <td>3</td>\n",
       "      <td>1.0</td>\n",
       "      <td>Heikkinen, Miss. Laina</td>\n",
       "      <td>female</td>\n",
       "      <td>26.0</td>\n",
       "      <td>0</td>\n",
       "      <td>0</td>\n",
       "      <td>STON/O2. 3101282</td>\n",
       "      <td>7.9250</td>\n",
       "      <td>X</td>\n",
       "      <td>S</td>\n",
       "      <td>NaN</td>\n",
       "      <td>NaN</td>\n",
       "      <td>NaN</td>\n",
       "      <td>861</td>\n",
       "      <td>X</td>\n",
       "      <td>1</td>\n",
       "    </tr>\n",
       "    <tr>\n",
       "      <th>3</th>\n",
       "      <td>4</td>\n",
       "      <td>1</td>\n",
       "      <td>1.0</td>\n",
       "      <td>Futrelle, Mrs. Jacques Heath (Lily May Peel)</td>\n",
       "      <td>female</td>\n",
       "      <td>35.0</td>\n",
       "      <td>1</td>\n",
       "      <td>0</td>\n",
       "      <td>113803</td>\n",
       "      <td>53.1000</td>\n",
       "      <td>C123</td>\n",
       "      <td>S</td>\n",
       "      <td>D</td>\n",
       "      <td>NaN</td>\n",
       "      <td>Scituate, MA</td>\n",
       "      <td>128</td>\n",
       "      <td>C</td>\n",
       "      <td>2</td>\n",
       "    </tr>\n",
       "    <tr>\n",
       "      <th>4</th>\n",
       "      <td>5</td>\n",
       "      <td>3</td>\n",
       "      <td>0.0</td>\n",
       "      <td>Allen, Mr. William Henry</td>\n",
       "      <td>male</td>\n",
       "      <td>35.0</td>\n",
       "      <td>0</td>\n",
       "      <td>0</td>\n",
       "      <td>373450</td>\n",
       "      <td>8.0500</td>\n",
       "      <td>X</td>\n",
       "      <td>S</td>\n",
       "      <td>NaN</td>\n",
       "      <td>NaN</td>\n",
       "      <td>Lower Clapton, Middlesex or Erdington, Birmingham</td>\n",
       "      <td>619</td>\n",
       "      <td>X</td>\n",
       "      <td>1</td>\n",
       "    </tr>\n",
       "  </tbody>\n",
       "</table>\n",
       "</div>"
      ],
      "text/plain": [
       "   Kaggle_Pass_Id  pclass  survived  \\\n",
       "0               1       3       0.0   \n",
       "1               2       1       1.0   \n",
       "2               3       3       1.0   \n",
       "3               4       1       1.0   \n",
       "4               5       3       0.0   \n",
       "\n",
       "                                                name     sex   age  sibsp  \\\n",
       "0                            Braund, Mr. Owen Harris    male  22.0      1   \n",
       "1  Cumings, Mrs. John Bradley (Florence Briggs Th...  female  38.0      1   \n",
       "2                             Heikkinen, Miss. Laina  female  26.0      0   \n",
       "3       Futrelle, Mrs. Jacques Heath (Lily May Peel)  female  35.0      1   \n",
       "4                           Allen, Mr. William Henry    male  35.0      0   \n",
       "\n",
       "   parch            ticket     fare cabin embarked boat  body  \\\n",
       "0      0         A/5 21171   7.2500     X        S  NaN   NaN   \n",
       "1      0          PC 17599  71.2833   C85        C    4   NaN   \n",
       "2      0  STON/O2. 3101282   7.9250     X        S  NaN   NaN   \n",
       "3      0            113803  53.1000  C123        S    D   NaN   \n",
       "4      0            373450   8.0500     X        S  NaN   NaN   \n",
       "\n",
       "                                           home.dest  orig_seq floor  \\\n",
       "0                                  Bridgerule, Devon       690     X   \n",
       "1                                       New York, NY        86     C   \n",
       "2                                                NaN       861     X   \n",
       "3                                       Scituate, MA       128     C   \n",
       "4  Lower Clapton, Middlesex or Erdington, Birmingham       619     X   \n",
       "\n",
       "   tamanho_familia  \n",
       "0                2  \n",
       "1                2  \n",
       "2                1  \n",
       "3                2  \n",
       "4                1  "
      ]
     },
     "execution_count": 53,
     "metadata": {},
     "output_type": "execute_result"
    }
   ],
   "source": [
    "data_full['tamanho_familia'] = data_full['sibsp'] + data_full['parch'] + 1\n",
    "data_full.head()"
   ]
  },
  {
   "cell_type": "code",
   "execution_count": 54,
   "metadata": {},
   "outputs": [
    {
     "data": {
      "text/plain": [
       "1     790\n",
       "2     235\n",
       "3     159\n",
       "4      43\n",
       "6      25\n",
       "5      22\n",
       "7      16\n",
       "11     11\n",
       "8       8\n",
       "Name: tamanho_familia, dtype: int64"
      ]
     },
     "execution_count": 54,
     "metadata": {},
     "output_type": "execute_result"
    }
   ],
   "source": [
    "data_full['tamanho_familia'].value_counts()"
   ]
  },
  {
   "cell_type": "code",
   "execution_count": 55,
   "metadata": {},
   "outputs": [
    {
     "data": {
      "image/png": "[encoded data removed]",
      "text/plain": [
       "<Figure size 576x432 with 1 Axes>"
      ]
     },
     "metadata": {},
     "output_type": "display_data"
    }
   ],
   "source": [
    "sob_por_familia= data_full.groupby('tamanho_familia')['survived'].value_counts(normalize=True).unstack().sort_values(by=1, ascending=False)\n",
    "sob_por_familia.plot(kind=\"bar\", stacked= 'True')\n",
    "plt.title('Proporção de passageiros por Tamanho Familiar', fontweight='bold', fontsize=14)\n",
    "plt.ylabel(\"Número de Passageiros\")\n",
    "plt.xlabel(\"Número de Pessoas na Família\")\n",
    "plt.legend(( 'Mortos', 'Sobreviventes'), loc='upper right')\n",
    "plt.xticks(rotation = False)\n",
    "plt.tight_layout()"
   ]
  },
  {
   "cell_type": "markdown",
   "metadata": {},
   "source": [
    "Podemos observar que quanto o menor número de pessoas da família a borda maiores são as chances de sobrevivência."
   ]
  },
  {
   "cell_type": "markdown",
   "metadata": {},
   "source": [
    "#### 🎯 4. Conclusões da Análise"
   ]
  },
  {
   "cell_type": "markdown",
   "metadata": {},
   "source": [
    "Muitas pessoas conhecem a tragédia do Titanic através do filme de 1998, como mostra no filme não existiam botes salva-vidas para todos os passageiros e tripulações. Através dessa análise podemos realizar suposições das taxas de sobrevivência dos passageiros.\n",
    "Esta base possui 891 passageiros desses 549 sobreviveram cerca de 61,6% e 342 infelizmente não sobreviveram representando 38,3%. O navio possuía 20 botes salva-vidas que poderia acomodar 1178 pessoas. Mas foram utilizados 18 botes salva-vidas e muitos com sua capacidade mínima. \n",
    "\n",
    "Outro ponto relevante é as mulheres e crianças possuem a maior taxa de sobreviventes do que os homens devido pela prioridade definidas para embarcar nos botes. A idade dos passageiros variam de 1 mês  a 63 anos. As posições dos  andares também foram analisados, sendo que o andar C é o que possui a maior número de passageiros, mas é o quinto em taxa de sobreviventes. O que teve maior taxa foram dos andares D e E.\n",
    "O tamanho da família também pode influenciar a taxa de sobrevivência, conforme observado família com muitos componentes não sobreviveram e aquelas menores tivaram mais chance de sobrevivência. A primeira classe obteve o maior número de sobrevivência, pode inferir que outros critérios além de mulheres e crianças podem ter sido utilizado um critério social.\n",
    "\n",
    "A terceira classe possui o maior número de passageiros e a maioria se afogou já a segunda classe possui o maior número de passageiros e a segunda com maior número de sobreviventes. Analisando todas as variáveis é possível inferir que mulher, jovem e tenha passagem na primeira classe e no andar D ou E tem maior chance de sobrevivência. Mas ressaltamos que em uma situação de emergência outras variáveis humanas também refletem na sobrevivência. "
   ]
  }
 ],
 "metadata": {
  "interpreter": {
   "hash": "408e7c729286e999183e1f3be74e2718624172e3257c025afabbae8b534ef52c"
  },
  "kernelspec": {
   "display_name": "Python 3.8.10 64-bit",
   "language": "python",
   "name": "python3"
  },
  "language_info": {
   "codemirror_mode": {
    "name": "ipython",
    "version": 3
   },
   "file_extension": ".py",
   "mimetype": "text/x-python",
   "name": "python",
   "nbconvert_exporter": "python",
   "pygments_lexer": "ipython3",
   "version": "3.8.10"
  },
  "orig_nbformat": 4
 },
 "nbformat": 4,
 "nbformat_minor": 2
}
